{
 "cells": [
  {
   "cell_type": "markdown",
   "id": "84f96ead",
   "metadata": {},
   "source": [
    "# Ejercicio 2\n",
    "\n",
    "> Por: Mapachana\n",
    "\n",
    "**Dado tu número n = 77770081 8 cifras de la lista publicada.**"
   ]
  },
  {
   "cell_type": "code",
   "execution_count": 4,
   "id": "1448b6e5",
   "metadata": {},
   "outputs": [
    {
     "name": "stdout",
     "output_type": "stream",
     "text": [
      "77770081\n"
     ]
    }
   ],
   "source": [
    "n = 77770081\n",
    "\n",
    "print(n)"
   ]
  },
  {
   "cell_type": "markdown",
   "id": "dfcfec55",
   "metadata": {},
   "source": [
    "**i) Usa el algoritmo manual para calcular el símbolo de Jacobi$\\left(\\frac{p}{n}\\right)$,para p cada uno de los 5 primeros primos.**"
   ]
  },
  {
   "cell_type": "markdown",
   "id": "59970fab",
   "metadata": {},
   "source": [
    "Comenzamos con $p=2$."
   ]
  },
  {
   "cell_type": "code",
   "execution_count": 5,
   "id": "0042de62",
   "metadata": {},
   "outputs": [
    {
     "data": {
      "text/plain": [
       "1"
      ]
     },
     "execution_count": 5,
     "metadata": {},
     "output_type": "execute_result"
    }
   ],
   "source": [
    "n%8"
   ]
  },
  {
   "cell_type": "markdown",
   "id": "d055b2f7",
   "metadata": {},
   "source": [
    "Tenemos entonces que $n \\mod 8\\equiv 1 \\mod 8$, luego $\\left( \\frac{2}{n}\\right)=(-1)^{\\frac{n^2-1}{8}}=1$"
   ]
  },
  {
   "cell_type": "code",
   "execution_count": 6,
   "id": "ef23f0dc",
   "metadata": {},
   "outputs": [
    {
     "data": {
      "text/plain": [
       "1.0"
      ]
     },
     "execution_count": 6,
     "metadata": {},
     "output_type": "execute_result"
    }
   ],
   "source": [
    "pow(-1, (n*n-1)/8)"
   ]
  },
  {
   "cell_type": "markdown",
   "id": "4d4568b2",
   "metadata": {},
   "source": [
    "Ahora consideramos $p=3$."
   ]
  },
  {
   "cell_type": "code",
   "execution_count": 7,
   "id": "cb3ab331",
   "metadata": {},
   "outputs": [
    {
     "data": {
      "text/plain": [
       "1"
      ]
     },
     "execution_count": 7,
     "metadata": {},
     "output_type": "execute_result"
    }
   ],
   "source": [
    "n%4"
   ]
  },
  {
   "cell_type": "markdown",
   "id": "ea562cb5",
   "metadata": {},
   "source": [
    "Como $n\\equiv 1 \\mod 4$ entonces $\\left( \\frac{p}{n} \\right)=\\left( \\frac{n}{p} \\right)$.\n",
    "\n",
    "Además, como $n\\equiv 1 \\mod 3$ entonces $\\left( \\frac{n}{3} \\right)=\\left( \\frac{1}{3} \\right)$.\n",
    "\n",
    "Y, como 1 es un cuadrado módulo $3$ se tiene que $\\left( \\frac{1}{3} \\right)=1$"
   ]
  },
  {
   "cell_type": "code",
   "execution_count": 8,
   "id": "6c947dcc",
   "metadata": {},
   "outputs": [
    {
     "data": {
      "text/plain": [
       "1"
      ]
     },
     "execution_count": 8,
     "metadata": {},
     "output_type": "execute_result"
    }
   ],
   "source": [
    "n%3"
   ]
  },
  {
   "cell_type": "markdown",
   "id": "53dceea0",
   "metadata": {},
   "source": [
    "Ahora tomamos $p=5$:"
   ]
  },
  {
   "cell_type": "code",
   "execution_count": 9,
   "id": "fb937f8d",
   "metadata": {},
   "outputs": [
    {
     "name": "stdout",
     "output_type": "stream",
     "text": [
      "1\n"
     ]
    }
   ],
   "source": [
    "print(n%4)"
   ]
  },
  {
   "cell_type": "markdown",
   "id": "e1aaae61",
   "metadata": {},
   "source": [
    "Como $n\\equiv 1 \\mod 4$ tenemos $\\left( \\frac{p}{n} \\right) = \\left( \\frac{n}{p} \\right)$.\n",
    "\n",
    "Y como $n \\equiv 1 \\mod 5$ tenemos $\\left( \\frac{n}{5} \\right)=\\left( \\frac{1}{5} \\right)$.\n",
    "\n",
    "De donde, usando que $1$ es cuadrado módulo $5$,se tiene que $\\left( \\frac{1}{5} \\right)=1$."
   ]
  },
  {
   "cell_type": "code",
   "execution_count": 10,
   "id": "f67c23ed",
   "metadata": {},
   "outputs": [
    {
     "data": {
      "text/plain": [
       "1"
      ]
     },
     "execution_count": 10,
     "metadata": {},
     "output_type": "execute_result"
    }
   ],
   "source": [
    "n%5"
   ]
  },
  {
   "cell_type": "markdown",
   "id": "09bd08e6",
   "metadata": {},
   "source": [
    "Tomamos ahora $p=7$"
   ]
  },
  {
   "cell_type": "code",
   "execution_count": 11,
   "id": "f736ab0d",
   "metadata": {},
   "outputs": [
    {
     "name": "stdout",
     "output_type": "stream",
     "text": [
      "1\n"
     ]
    }
   ],
   "source": [
    "print(n%4)"
   ]
  },
  {
   "cell_type": "markdown",
   "id": "af9a84d9",
   "metadata": {},
   "source": [
    "Como $n\\equiv 1 \\mod 4$ tenemos $\\left( \\frac{p}{n} \\right) = \\left( \\frac{n}{p} \\right)$.\n",
    "\n",
    "Y como $n \\equiv 4 \\mod 7$ tenemos $\\left( \\frac{n}{7} \\right)=\\left( \\frac{4}{7} \\right)$.\n",
    "\n",
    "De donde se tiene que $\\left( \\frac{4}{7} \\right)=4^{\\frac{7-1}{2}}\\mod 7=1$."
   ]
  },
  {
   "cell_type": "code",
   "execution_count": 12,
   "id": "ddae529b",
   "metadata": {},
   "outputs": [
    {
     "name": "stdout",
     "output_type": "stream",
     "text": [
      "4\n",
      "1.0\n"
     ]
    }
   ],
   "source": [
    "print(n%7)\n",
    "print((pow(4, (7-1)/2)) %7)"
   ]
  },
  {
   "cell_type": "markdown",
   "id": "a92f1836",
   "metadata": {},
   "source": [
    "Finalmente consideramos $p=11$"
   ]
  },
  {
   "cell_type": "code",
   "execution_count": 13,
   "id": "3745b675",
   "metadata": {},
   "outputs": [
    {
     "data": {
      "text/plain": [
       "1"
      ]
     },
     "execution_count": 13,
     "metadata": {},
     "output_type": "execute_result"
    }
   ],
   "source": [
    "n%4"
   ]
  },
  {
   "cell_type": "markdown",
   "id": "75728799",
   "metadata": {},
   "source": [
    "Como $n\\equiv 1 \\mod 4$ tenemos $\\left( \\frac{p}{n} \\right) = \\left( \\frac{n}{p} \\right)$.\n",
    "\n",
    "Y como $n \\equiv 4 \\mod 11$ tenemos $\\left( \\frac{n}{11} \\right)=\\left( \\frac{4}{11} \\right)$.\n",
    "\n",
    "De donde se tiene que $\\left( \\frac{4}{11} \\right)=4^{\\frac{11-1}{2}}\\mod 11=1$."
   ]
  },
  {
   "cell_type": "code",
   "execution_count": 14,
   "id": "d19f17e3",
   "metadata": {},
   "outputs": [
    {
     "name": "stdout",
     "output_type": "stream",
     "text": [
      "4\n",
      "1.0\n"
     ]
    }
   ],
   "source": [
    "print(n%11)\n",
    "print((pow(4, (11-1)/2)) %11)"
   ]
  },
  {
   "cell_type": "markdown",
   "id": "10f145ff",
   "metadata": {},
   "source": []
  },
  {
   "cell_type": "code",
   "execution_count": null,
   "id": "0c00a47a",
   "metadata": {},
   "outputs": [],
   "source": []
  },
  {
   "cell_type": "code",
   "execution_count": 15,
   "id": "1212fad3",
   "metadata": {},
   "outputs": [
    {
     "name": "stdout",
     "output_type": "stream",
     "text": [
      "1\n",
      "1\n",
      "-1\n"
     ]
    }
   ],
   "source": [
    "def jacobi(a, n):\n",
    "        assert(n > a > 0 and n%2 == 1)\n",
    "        t = 1\n",
    "        while a != 0:\n",
    "            while a % 2 == 0:\n",
    "                a /= 2\n",
    "                r = n % 8\n",
    "                if r == 3 or r == 5:\n",
    "                    t = -t\n",
    "            a, n = n, a\n",
    "            if a % 4 == n % 4 == 3:\n",
    "                t = -t\n",
    "            a %= n\n",
    "        if n == 1:\n",
    "            return t\n",
    "        else:\n",
    "            return 0\n",
    "        \n",
    "print(jacobi(2, 27213647))\n",
    "print(jacobi(3, 27213647))\n",
    "print(jacobi(5, 27213647))"
   ]
  },
  {
   "cell_type": "code",
   "execution_count": 16,
   "id": "a43f289d",
   "metadata": {},
   "outputs": [
    {
     "name": "stdout",
     "output_type": "stream",
     "text": [
      "1\n",
      "1\n",
      "1\n",
      "1\n",
      "1\n"
     ]
    }
   ],
   "source": [
    "print(jacobi(2,n))\n",
    "print(jacobi(3,n))\n",
    "print(jacobi(5,n))\n",
    "print(jacobi(7,n))\n",
    "print(jacobi(11,n))"
   ]
  },
  {
   "cell_type": "markdown",
   "id": "7bea3cea",
   "metadata": {},
   "source": [
    "**ii) Si para alguna de esas bases tu número sale posible primo de Fermat, com-prueba si además es posible primo de Euler**"
   ]
  },
  {
   "cell_type": "code",
   "execution_count": 17,
   "id": "7cbc4331",
   "metadata": {},
   "outputs": [],
   "source": [
    "def exp_dcha_izq(a, b, n):\n",
    "    '''Funcion que calcula mediante exponenciacion rapida de derecha a izquierda a^b mod n'''\n",
    "    base = a\n",
    "    acu = 1\n",
    "    num = b\n",
    "    exp = 0\n",
    "    \n",
    "    # Iteracion 0\n",
    "    print(\"  Paso  |  acu  |  base  \")\n",
    "    print(\"-------------------------\")\n",
    "    print(\"Paso: 0,  acu: {},  base: {}  \".format(acu, base))\n",
    "    \n",
    "    j = 1\n",
    "    while num > 0:\n",
    "        if num % 2 != 0:\n",
    "            acu = (acu * base) % n\n",
    "            num = (num-1)/2\n",
    "            ej = 1\n",
    "        else:\n",
    "            num = num/2\n",
    "            ej = 0\n",
    "        base = (base*base) % n\n",
    "        exp = exp + ej*pow(2, j)\n",
    "\n",
    "        print(\"Paso: {},  acu: {},  base: {}  \".format(j, acu, base))\n",
    "        \n",
    "        j += 1"
   ]
  },
  {
   "cell_type": "code",
   "execution_count": 18,
   "id": "17c69932",
   "metadata": {},
   "outputs": [
    {
     "name": "stdout",
     "output_type": "stream",
     "text": [
      "Para la base 2 se tiene: \n",
      "  Paso  |  acu  |  base  \n",
      "-------------------------\n",
      "Paso: 0,  acu: 1,  base: 2  \n",
      "Paso: 1,  acu: 1,  base: 4  \n",
      "Paso: 2,  acu: 1,  base: 16  \n",
      "Paso: 3,  acu: 1,  base: 256  \n",
      "Paso: 4,  acu: 1,  base: 65536  \n",
      "Paso: 5,  acu: 1,  base: 17612841  \n",
      "Paso: 6,  acu: 17612841,  base: 69275565  \n",
      "Paso: 7,  acu: 44516305,  base: 9980674  \n",
      "Paso: 8,  acu: 44516305,  base: 23223320  \n",
      "Paso: 9,  acu: 44680160,  base: 67690927  \n",
      "Paso: 10,  acu: 44680160,  base: 77257279  \n",
      "Paso: 11,  acu: 1465333,  base: 25247343  \n",
      "Paso: 12,  acu: 70708033,  base: 13797891  \n",
      "Paso: 13,  acu: 70708033,  base: 15599233  \n",
      "Paso: 14,  acu: 31848612,  base: 19426093  \n",
      "Paso: 15,  acu: 31848612,  base: 70568710  \n",
      "Paso: 16,  acu: 19282073,  base: 10086087  \n",
      "Paso: 17,  acu: 19282073,  base: 52267494  \n",
      "Paso: 18,  acu: 44352822,  base: 10929208  \n",
      "Paso: 19,  acu: 44352822,  base: 53478878  \n",
      "Paso: 20,  acu: 44352822,  base: 18488420  \n",
      "Paso: 21,  acu: 44352822,  base: 3628315  \n",
      "Paso: 22,  acu: 35935437,  base: 61507869  \n",
      "Paso: 23,  acu: 35935437,  base: 45590014  \n",
      "Paso: 24,  acu: 15507894,  base: 21699431  \n",
      "Paso: 25,  acu: 15507894,  base: 50932700  \n",
      "Paso: 26,  acu: 15507894,  base: 44851232  \n",
      "Paso: 27,  acu: 1,  base: 55498452  \n",
      "Para la base 3 se tiene: \n",
      "  Paso  |  acu  |  base  \n",
      "-------------------------\n",
      "Paso: 0,  acu: 1,  base: 3  \n",
      "Paso: 1,  acu: 1,  base: 9  \n",
      "Paso: 2,  acu: 1,  base: 81  \n",
      "Paso: 3,  acu: 1,  base: 6561  \n",
      "Paso: 4,  acu: 1,  base: 43046721  \n",
      "Paso: 5,  acu: 1,  base: 12562698  \n",
      "Paso: 6,  acu: 12562698,  base: 67023312  \n",
      "Paso: 7,  acu: 58342833,  base: 40759744  \n",
      "Paso: 8,  acu: 58342833,  base: 63810002  \n",
      "Paso: 9,  acu: 24303074,  base: 70788665  \n",
      "Paso: 10,  acu: 24303074,  base: 26430655  \n",
      "Paso: 11,  acu: 58499677,  base: 49886400  \n",
      "Paso: 12,  acu: 54301195,  base: 47309308  \n",
      "Paso: 13,  acu: 54301195,  base: 31523377  \n",
      "Paso: 14,  acu: 73546473,  base: 66869943  \n",
      "Paso: 15,  acu: 73546473,  base: 481537  \n",
      "Paso: 16,  acu: 19632816,  base: 45270908  \n",
      "Paso: 17,  acu: 19632816,  base: 75692200  \n",
      "Paso: 18,  acu: 29496059,  base: 27863284  \n",
      "Paso: 19,  acu: 29496059,  base: 52818504  \n",
      "Paso: 20,  acu: 29496059,  base: 43958962  \n",
      "Paso: 21,  acu: 29496059,  base: 41181807  \n",
      "Paso: 22,  acu: 3749083,  base: 50088853  \n",
      "Paso: 23,  acu: 3749083,  base: 51464019  \n",
      "Paso: 24,  acu: 51758518,  base: 62708747  \n",
      "Paso: 25,  acu: 51758518,  base: 43324625  \n",
      "Paso: 26,  acu: 51758518,  base: 75071723  \n",
      "Paso: 27,  acu: 1,  base: 67602701  \n",
      "Para la base 5 se tiene: \n",
      "  Paso  |  acu  |  base  \n",
      "-------------------------\n",
      "Paso: 0,  acu: 1,  base: 5  \n",
      "Paso: 1,  acu: 1,  base: 25  \n",
      "Paso: 2,  acu: 1,  base: 625  \n",
      "Paso: 3,  acu: 1,  base: 390625  \n",
      "Paso: 4,  acu: 1,  base: 2991703  \n",
      "Paso: 5,  acu: 1,  base: 39298243  \n",
      "Paso: 6,  acu: 39298243,  base: 11535691  \n",
      "Paso: 7,  acu: 9210897,  base: 14558624  \n",
      "Paso: 8,  acu: 9210897,  base: 42797110  \n",
      "Paso: 9,  acu: 29856166,  base: 49630482  \n",
      "Paso: 10,  acu: 29856166,  base: 32027512  \n",
      "Paso: 11,  acu: 28016975,  base: 53957117  \n",
      "Paso: 12,  acu: 65591934,  base: 52967279  \n",
      "Paso: 13,  acu: 65591934,  base: 70302898  \n",
      "Paso: 14,  acu: 52076763,  base: 6980919  \n",
      "Paso: 15,  acu: 52076763,  base: 8687369  \n",
      "Paso: 16,  acu: 30787191,  base: 38207412  \n",
      "Paso: 17,  acu: 30787191,  base: 6383268  \n",
      "Paso: 18,  acu: 73995456,  base: 31821494  \n",
      "Paso: 19,  acu: 73995456,  base: 40939349  \n",
      "Paso: 20,  acu: 73995456,  base: 48295268  \n",
      "Paso: 21,  acu: 73995456,  base: 3819153  \n",
      "Paso: 22,  acu: 58442021,  base: 73175778  \n",
      "Paso: 23,  acu: 58442021,  base: 42371599  \n",
      "Paso: 24,  acu: 63235719,  base: 62680535  \n",
      "Paso: 25,  acu: 63235719,  base: 10805207  \n",
      "Paso: 26,  acu: 63235719,  base: 8671437  \n",
      "Paso: 27,  acu: 1,  base: 28118256  \n",
      "Para la base 7 se tiene: \n",
      "  Paso  |  acu  |  base  \n",
      "-------------------------\n",
      "Paso: 0,  acu: 1,  base: 7  \n",
      "Paso: 1,  acu: 1,  base: 49  \n",
      "Paso: 2,  acu: 1,  base: 2401  \n",
      "Paso: 3,  acu: 1,  base: 5764801  \n",
      "Paso: 4,  acu: 1,  base: 64016519  \n",
      "Paso: 5,  acu: 1,  base: 66361301  \n",
      "Paso: 6,  acu: 66361301,  base: 53942426  \n",
      "Paso: 7,  acu: 11146291,  base: 10572008  \n",
      "Paso: 8,  acu: 11146291,  base: 3472833  \n",
      "Paso: 9,  acu: 4865544,  base: 62654490  \n",
      "Paso: 10,  acu: 4865544,  base: 59229057  \n",
      "Paso: 11,  acu: 37101810,  base: 71051765  \n",
      "Paso: 12,  acu: 58332031,  base: 36885562  \n",
      "Paso: 13,  acu: 58332031,  base: 46045556  \n",
      "Paso: 14,  acu: 55512383,  base: 3850811  \n",
      "Paso: 15,  acu: 55512383,  base: 12933127  \n",
      "Paso: 16,  acu: 42505399,  base: 61345597  \n",
      "Paso: 17,  acu: 42505399,  base: 28288883  \n",
      "Paso: 18,  acu: 50620210,  base: 1900642  \n",
      "Paso: 19,  acu: 50620210,  base: 19749714  \n",
      "Paso: 20,  acu: 50620210,  base: 28031156  \n",
      "Paso: 21,  acu: 50620210,  base: 48437372  \n",
      "Paso: 22,  acu: 26226364,  base: 3766720  \n",
      "Paso: 23,  acu: 26226364,  base: 39291003  \n",
      "Paso: 24,  acu: 40666288,  base: 69077328  \n",
      "Paso: 25,  acu: 40666288,  base: 55376817  \n",
      "Paso: 26,  acu: 40666288,  base: 56629098  \n",
      "Paso: 27,  acu: 1,  base: 6352934  \n",
      "Para la base 11 se tiene: \n",
      "  Paso  |  acu  |  base  \n",
      "-------------------------\n",
      "Paso: 0,  acu: 1,  base: 11  \n",
      "Paso: 1,  acu: 1,  base: 121  \n",
      "Paso: 2,  acu: 1,  base: 14641  \n",
      "Paso: 3,  acu: 1,  base: 58818719  \n",
      "Paso: 4,  acu: 1,  base: 66544732  \n",
      "Paso: 5,  acu: 1,  base: 8800012  \n",
      "Paso: 6,  acu: 8800012,  base: 30883746  \n",
      "Paso: 7,  acu: 66090327,  base: 52473686  \n",
      "Paso: 8,  acu: 66090327,  base: 52822068  \n",
      "Paso: 9,  acu: 48240432,  base: 61995449  \n",
      "Paso: 10,  acu: 48240432,  base: 30811749  \n",
      "Paso: 11,  acu: 41802059,  base: 96486  \n",
      "Paso: 12,  acu: 1523852,  base: 54908557  \n",
      "Paso: 13,  acu: 1523852,  base: 38676855  \n",
      "Paso: 14,  acu: 58039934,  base: 3824773  \n",
      "Paso: 15,  acu: 58039934,  base: 25185105  \n",
      "Paso: 16,  acu: 42622747,  base: 77338508  \n",
      "Paso: 17,  acu: 42622747,  base: 73680415  \n",
      "Paso: 18,  acu: 49309845,  base: 56601615  \n",
      "Paso: 19,  acu: 49309845,  base: 56458770  \n",
      "Paso: 20,  acu: 49309845,  base: 69634310  \n",
      "Paso: 21,  acu: 49309845,  base: 31664693  \n",
      "Paso: 22,  acu: 53354819,  base: 69239724  \n",
      "Paso: 23,  acu: 53354819,  base: 14398341  \n",
      "Paso: 24,  acu: 7518936,  base: 52010095  \n",
      "Paso: 25,  acu: 7518936,  base: 7393889  \n",
      "Paso: 26,  acu: 7518936,  base: 27324237  \n",
      "Paso: 27,  acu: 1,  base: 74340218  \n"
     ]
    }
   ],
   "source": [
    "lista_num = [2, 3, 5, 7, 11]\n",
    "\n",
    "for num in lista_num:\n",
    "    print(\"Para la base {} se tiene: \".format(num))\n",
    "    #print(exp_dcha_izq(num, n-1, n))\n",
    "    exp_dcha_izq(num, n-1, n)\n"
   ]
  },
  {
   "cell_type": "markdown",
   "id": "de077426",
   "metadata": {},
   "source": [
    "Como podemos ver, el número es pseudoprimo de Fermat para todas las bases, por lo que se va a comprobar para todas ellas si es pseudoprimo de Euler. Para ello comprobamos $\\left( \\frac{p}{n} \\right)= p^{\\frac{n-1}{2}}\\mod n$."
   ]
  },
  {
   "cell_type": "code",
   "execution_count": 19,
   "id": "a0cf9725",
   "metadata": {},
   "outputs": [
    {
     "name": "stdout",
     "output_type": "stream",
     "text": [
      "  Paso  |  acu  |  base  \n",
      "-------------------------\n",
      "Paso: 0,  acu: 1,  base: 2  \n",
      "Paso: 1,  acu: 1,  base: 4  \n",
      "Paso: 2,  acu: 1,  base: 16  \n",
      "Paso: 3,  acu: 1,  base: 256  \n",
      "Paso: 4,  acu: 1,  base: 65536  \n",
      "Paso: 5,  acu: 65536,  base: 17612841  \n",
      "Paso: 6,  acu: 11605574,  base: 69275565  \n",
      "Paso: 7,  acu: 11605574,  base: 9980674  \n",
      "Paso: 8,  acu: 69874828,  base: 23223320  \n",
      "Paso: 9,  acu: 69874828,  base: 67690927  \n",
      "Paso: 10,  acu: 13173522,  base: 77257279  \n",
      "Paso: 11,  acu: 11887340,  base: 25247343  \n",
      "Paso: 12,  acu: 11887340,  base: 13797891  \n",
      "Paso: 13,  acu: 9967700,  base: 15599233  \n",
      "Paso: 14,  acu: 9967700,  base: 19426093  \n",
      "Paso: 15,  acu: 41890761,  base: 70568710  \n",
      "Paso: 16,  acu: 41890761,  base: 10086087  \n",
      "Paso: 17,  acu: 53220709,  base: 52267494  \n",
      "Paso: 18,  acu: 53220709,  base: 10929208  \n",
      "Paso: 19,  acu: 53220709,  base: 53478878  \n",
      "Paso: 20,  acu: 53220709,  base: 18488420  \n",
      "Paso: 21,  acu: 2277206,  base: 3628315  \n",
      "Paso: 22,  acu: 2277206,  base: 61507869  \n",
      "Paso: 23,  acu: 72660827,  base: 45590014  \n",
      "Paso: 24,  acu: 72660827,  base: 21699431  \n",
      "Paso: 25,  acu: 72660827,  base: 50932700  \n",
      "Paso: 26,  acu: 1,  base: 44851232  \n",
      "BASE: 2\n",
      "Simbolo de Jacobi: 1\n",
      "Resultado de la potencias: None\n",
      "\n",
      "\n",
      "  Paso  |  acu  |  base  \n",
      "-------------------------\n",
      "Paso: 0,  acu: 1,  base: 3  \n",
      "Paso: 1,  acu: 1,  base: 9  \n",
      "Paso: 2,  acu: 1,  base: 81  \n",
      "Paso: 3,  acu: 1,  base: 6561  \n",
      "Paso: 4,  acu: 1,  base: 43046721  \n",
      "Paso: 5,  acu: 43046721,  base: 12562698  \n",
      "Paso: 6,  acu: 65100767,  base: 67023312  \n",
      "Paso: 7,  acu: 65100767,  base: 40759744  \n",
      "Paso: 8,  acu: 8749244,  base: 63810002  \n",
      "Paso: 9,  acu: 8749244,  base: 70788665  \n",
      "Paso: 10,  acu: 64969516,  base: 26430655  \n",
      "Paso: 11,  acu: 65638599,  base: 49886400  \n",
      "Paso: 12,  acu: 65638599,  base: 47309308  \n",
      "Paso: 13,  acu: 58223961,  base: 31523377  \n",
      "Paso: 14,  acu: 58223961,  base: 66869943  \n",
      "Paso: 15,  acu: 68880686,  base: 481537  \n",
      "Paso: 16,  acu: 68880686,  base: 45270908  \n",
      "Paso: 17,  acu: 22173965,  base: 75692200  \n",
      "Paso: 18,  acu: 22173965,  base: 27863284  \n",
      "Paso: 19,  acu: 22173965,  base: 52818504  \n",
      "Paso: 20,  acu: 22173965,  base: 43958962  \n",
      "Paso: 21,  acu: 31467141,  base: 41181807  \n",
      "Paso: 22,  acu: 31467141,  base: 50088853  \n",
      "Paso: 23,  acu: 66936124,  base: 51464019  \n",
      "Paso: 24,  acu: 66936124,  base: 62708747  \n",
      "Paso: 25,  acu: 66936124,  base: 43324625  \n",
      "Paso: 26,  acu: 1,  base: 75071723  \n",
      "BASE: 3\n",
      "Simbolo de Jacobi: 1\n",
      "Resultado de la potencias: None\n",
      "\n",
      "\n",
      "  Paso  |  acu  |  base  \n",
      "-------------------------\n",
      "Paso: 0,  acu: 1,  base: 5  \n",
      "Paso: 1,  acu: 1,  base: 25  \n",
      "Paso: 2,  acu: 1,  base: 625  \n",
      "Paso: 3,  acu: 1,  base: 390625  \n",
      "Paso: 4,  acu: 1,  base: 2991703  \n",
      "Paso: 5,  acu: 2991703,  base: 39298243  \n",
      "Paso: 6,  acu: 62606403,  base: 11535691  \n",
      "Paso: 7,  acu: 62606403,  base: 14558624  \n",
      "Paso: 8,  acu: 65051902,  base: 42797110  \n",
      "Paso: 9,  acu: 65051902,  base: 49630482  \n",
      "Paso: 10,  acu: 76302315,  base: 32027512  \n",
      "Paso: 11,  acu: 9983068,  base: 53957117  \n",
      "Paso: 12,  acu: 9983068,  base: 52967279  \n",
      "Paso: 13,  acu: 57895152,  base: 70302898  \n",
      "Paso: 14,  acu: 57895152,  base: 6980919  \n",
      "Paso: 15,  acu: 54677894,  base: 8687369  \n",
      "Paso: 16,  acu: 54677894,  base: 38207412  \n",
      "Paso: 17,  acu: 465722,  base: 6383268  \n",
      "Paso: 18,  acu: 465722,  base: 31821494  \n",
      "Paso: 19,  acu: 465722,  base: 40939349  \n",
      "Paso: 20,  acu: 465722,  base: 48295268  \n",
      "Paso: 21,  acu: 50367243,  base: 3819153  \n",
      "Paso: 22,  acu: 50367243,  base: 73175778  \n",
      "Paso: 23,  acu: 11756279,  base: 42371599  \n",
      "Paso: 24,  acu: 11756279,  base: 62680535  \n",
      "Paso: 25,  acu: 11756279,  base: 10805207  \n",
      "Paso: 26,  acu: 1,  base: 8671437  \n",
      "BASE: 5\n",
      "Simbolo de Jacobi: 1\n",
      "Resultado de la potencias: None\n",
      "\n",
      "\n",
      "  Paso  |  acu  |  base  \n",
      "-------------------------\n",
      "Paso: 0,  acu: 1,  base: 7  \n",
      "Paso: 1,  acu: 1,  base: 49  \n",
      "Paso: 2,  acu: 1,  base: 2401  \n",
      "Paso: 3,  acu: 1,  base: 5764801  \n",
      "Paso: 4,  acu: 1,  base: 64016519  \n",
      "Paso: 5,  acu: 64016519,  base: 66361301  \n",
      "Paso: 6,  acu: 36776249,  base: 53942426  \n",
      "Paso: 7,  acu: 36776249,  base: 10572008  \n",
      "Paso: 8,  acu: 32971776,  base: 3472833  \n",
      "Paso: 9,  acu: 32971776,  base: 62654490  \n",
      "Paso: 10,  acu: 50357183,  base: 59229057  \n",
      "Paso: 11,  acu: 23925373,  base: 71051765  \n",
      "Paso: 12,  acu: 23925373,  base: 36885562  \n",
      "Paso: 13,  acu: 13272104,  base: 46045556  \n",
      "Paso: 14,  acu: 13272104,  base: 3850811  \n",
      "Paso: 15,  acu: 44405412,  base: 12933127  \n",
      "Paso: 16,  acu: 44405412,  base: 61345597  \n",
      "Paso: 17,  acu: 6569097,  base: 28288883  \n",
      "Paso: 18,  acu: 6569097,  base: 1900642  \n",
      "Paso: 19,  acu: 6569097,  base: 19749714  \n",
      "Paso: 20,  acu: 6569097,  base: 28031156  \n",
      "Paso: 21,  acu: 51199192,  base: 48437372  \n",
      "Paso: 22,  acu: 51199192,  base: 3766720  \n",
      "Paso: 23,  acu: 17947736,  base: 39291003  \n",
      "Paso: 24,  acu: 17947736,  base: 69077328  \n",
      "Paso: 25,  acu: 17947736,  base: 55376817  \n",
      "Paso: 26,  acu: 1,  base: 56629098  \n",
      "BASE: 7\n",
      "Simbolo de Jacobi: 1\n",
      "Resultado de la potencias: None\n",
      "\n",
      "\n",
      "  Paso  |  acu  |  base  \n",
      "-------------------------\n",
      "Paso: 0,  acu: 1,  base: 11  \n",
      "Paso: 1,  acu: 1,  base: 121  \n",
      "Paso: 2,  acu: 1,  base: 14641  \n",
      "Paso: 3,  acu: 1,  base: 58818719  \n",
      "Paso: 4,  acu: 1,  base: 66544732  \n",
      "Paso: 5,  acu: 66544732,  base: 8800012  \n",
      "Paso: 6,  acu: 39901688,  base: 30883746  \n",
      "Paso: 7,  acu: 39901688,  base: 52473686  \n",
      "Paso: 8,  acu: 76924925,  base: 52822068  \n",
      "Paso: 9,  acu: 76924925,  base: 61995449  \n",
      "Paso: 10,  acu: 55436924,  base: 30811749  \n",
      "Paso: 11,  acu: 47440987,  base: 96486  \n",
      "Paso: 12,  acu: 47440987,  base: 54908557  \n",
      "Paso: 13,  acu: 43113226,  base: 38676855  \n",
      "Paso: 14,  acu: 43113226,  base: 3824773  \n",
      "Paso: 15,  acu: 66900968,  base: 25185105  \n",
      "Paso: 16,  acu: 66900968,  base: 77338508  \n",
      "Paso: 17,  acu: 35499153,  base: 73680415  \n",
      "Paso: 18,  acu: 35499153,  base: 56601615  \n",
      "Paso: 19,  acu: 35499153,  base: 56458770  \n",
      "Paso: 20,  acu: 35499153,  base: 69634310  \n",
      "Paso: 21,  acu: 59365955,  base: 31664693  \n",
      "Paso: 22,  acu: 59365955,  base: 69239724  \n",
      "Paso: 23,  acu: 2469011,  base: 14398341  \n",
      "Paso: 24,  acu: 2469011,  base: 52010095  \n",
      "Paso: 25,  acu: 2469011,  base: 7393889  \n",
      "Paso: 26,  acu: 1,  base: 27324237  \n",
      "BASE: 11\n",
      "Simbolo de Jacobi: 1\n",
      "Resultado de la potencias: None\n",
      "\n",
      "\n"
     ]
    }
   ],
   "source": [
    "lista_num = [2, 3, 5, 7, 11]\n",
    "\n",
    "for num in lista_num:\n",
    "    aux = exp_dcha_izq(num, (n-1)/2, n)\n",
    "    print(\"BASE: {}\".format(num))\n",
    "    print(\"Simbolo de Jacobi: {}\".format(jacobi(num,n)))\n",
    "    print(\"Resultado de la potencias: {}\".format(aux))\n",
    "    print(\"\\n\")"
   ]
  },
  {
   "cell_type": "markdown",
   "id": "5ba4c1d2",
   "metadata": {},
   "source": [
    "Como todos los números obtenidos coinciden con su símbolo de Jacobi, $n$ es pseudoprimo de Euler para todas las bases."
   ]
  },
  {
   "cell_type": "markdown",
   "id": "a881a48a",
   "metadata": {},
   "source": [
    "**iii) ¿Es tu número n pseudoprimo de Fermat o de Euler para alguna de las bases?**"
   ]
  },
  {
   "cell_type": "markdown",
   "id": "45d1e01d",
   "metadata": {},
   "source": [
    "Del apartado anterior tenemos que $n$ es pseudoprimo de Fermat para todas las bases, además, también es pseudoprimo de Euler para todas ellas."
   ]
  },
  {
   "cell_type": "code",
   "execution_count": null,
   "id": "c40e9e9d",
   "metadata": {},
   "outputs": [],
   "source": []
  }
 ],
 "metadata": {
  "kernelspec": {
   "display_name": "Python 3 (ipykernel)",
   "language": "python",
   "name": "python3"
  },
  "language_info": {
   "codemirror_mode": {
    "name": "ipython",
    "version": 3
   },
   "file_extension": ".py",
   "mimetype": "text/x-python",
   "name": "python",
   "nbconvert_exporter": "python",
   "pygments_lexer": "ipython3",
   "version": "3.8.8"
  }
 },
 "nbformat": 4,
 "nbformat_minor": 5
}
