{
 "cells": [
  {
   "cell_type": "markdown",
   "metadata": {},
   "source": [
    "# Ejercicio 10\n",
    "\n",
    "> Por: Mapachana\n",
    "\n",
    "**Toma tu número p de la lista publicada para este ejercicio.**"
   ]
  },
  {
   "cell_type": "code",
   "execution_count": 3,
   "metadata": {
    "scrolled": true
   },
   "outputs": [
    {
     "data": {
      "text/plain": [
       "77770081"
      ]
     },
     "execution_count": 3,
     "metadata": {},
     "output_type": "execute_result"
    }
   ],
   "source": [
    "p = 77770081\n",
    "p"
   ]
  },
  {
   "cell_type": "code",
   "execution_count": 4,
   "metadata": {},
   "outputs": [],
   "source": [
    "import math"
   ]
  },
  {
   "cell_type": "markdown",
   "metadata": {},
   "source": [
    "**i) Calcula el símbolo de Jacobi $\\left( \\frac{-11}{p} \\right)$. Si sale 1, usa el algoritmo de Tonelli-Shanks para hallar soluciones a la congruencia $x^2 \\equiv -11 \\mod p$.**"
   ]
  },
  {
   "cell_type": "code",
   "execution_count": 5,
   "metadata": {},
   "outputs": [
    {
     "data": {
      "text/plain": [
       "1"
      ]
     },
     "execution_count": 5,
     "metadata": {},
     "output_type": "execute_result"
    }
   ],
   "source": [
    "jacobi_symbol(-11, p)"
   ]
  },
  {
   "cell_type": "markdown",
   "metadata": {},
   "source": [
    "Tenemos que $\\left( \\frac{-11}{p}\\right)=1$ luego aplicamos el algoritmo de Tonelli-Shanks para hallar las soluciones de $x^2\\equiv -11\\mod p$.\n",
    "\n",
    "Para ello, comenzamos factorizando $p-1=2^5\\cdot 3^2\\cdot 5 \\cdot 53\\cdot 1019$\n",
    "\n",
    "Para ello vamos a usar el método $\\rho$ de Polard. Comenzamos sacando los factores 2, y aplicamos el algoritmo a 2430315. Para factorizar este número han sido necesarias un total de 11 iteraciones.\n",
    "\n",
    "Finalmente, aplicamos Lucas-Lehmer, obtenemos que 17 es elemento primitivo para $p$, ya que $17^{p-1}\\equiv 1\\mod p$ y $17^{\\frac{p-1}{p}}\\not\\equiv 1\\mod p $ para $p\\in\\{2,3,5, 53, 1019\\}$ pues::\n",
    "\n",
    "\\begin{verbatim}\n",
    "17^(p-1)/ 2 = 77770080 mod p\n",
    "17^(p-1)/ 3 = 58134188 mod p\n",
    "17^(p-1)/ 5 = 66432901 mod p\n",
    "17^(p-1)/ 53 = 68065795 mod p\n",
    "17^(p-1)/ 1019 = 65224721 mod p\n",
    "\\end{verbatim}\n",
    "\n",
    "Luego $p$ es primo.\n",
    "\n",
    "Como $p\\equiv 1\\mod 8$ tenemos que usar Tonelli-Shanks.\n",
    "\n",
    "Hemos visto además que $p-1=2^5\\cdot 2430315$, y  como $(-11)^{2430315} \\equiv 158982 \\mod p \\not\\equiv 1\\mod p$."
   ]
  },
  {
   "cell_type": "code",
   "execution_count": 7,
   "metadata": {},
   "outputs": [
    {
     "data": {
      "text/plain": [
       "2^5 * 3^2 * 5 * 53 * 1019"
      ]
     },
     "execution_count": 7,
     "metadata": {},
     "output_type": "execute_result"
    }
   ],
   "source": [
    "(p-1).factor()"
   ]
  },
  {
   "cell_type": "code",
   "execution_count": 11,
   "metadata": {},
   "outputs": [
    {
     "data": {
      "text/plain": [
       "1"
      ]
     },
     "execution_count": 11,
     "metadata": {},
     "output_type": "execute_result"
    }
   ],
   "source": [
    "p.mod(8)"
   ]
  },
  {
   "cell_type": "code",
   "execution_count": 12,
   "metadata": {},
   "outputs": [
    {
     "data": {
      "text/plain": [
       "158982"
      ]
     },
     "execution_count": 12,
     "metadata": {},
     "output_type": "execute_result"
    }
   ],
   "source": [
    "pow(-11, 2430315, p)"
   ]
  },
  {
   "cell_type": "code",
   "execution_count": 35,
   "metadata": {},
   "outputs": [],
   "source": [
    "def orden(t, p):\n",
    "    for i in range(1, p):\n",
    "        if pow(t,i,p) == 1:\n",
    "            return i\n",
    "        \n",
    "def exp_orden(n, p):\n",
    "    acu = 0\n",
    "    \n",
    "    while n != 1:\n",
    "        n = n//p\n",
    "        acu += 1\n",
    "        \n",
    "    return acu"
   ]
  },
  {
   "cell_type": "code",
   "execution_count": 36,
   "metadata": {},
   "outputs": [
    {
     "name": "stdout",
     "output_type": "stream",
     "text": [
      "4\n",
      "4\n"
     ]
    }
   ],
   "source": [
    "p = 77770081\n",
    "print(orden(158982, p))\n",
    "print(orden(4653122, 27213937))"
   ]
  },
  {
   "cell_type": "code",
   "execution_count": 21,
   "metadata": {},
   "outputs": [
    {
     "name": "stdout",
     "output_type": "stream",
     "text": [
      "77770081\n",
      "1\n",
      "1\n",
      "1\n",
      "1\n",
      "1\n",
      "1\n",
      "1\n",
      "1\n",
      "1\n",
      "1\n",
      "1\n",
      "1\n",
      "1\n",
      "1\n",
      "1\n",
      "1\n",
      "-1\n",
      "1\n",
      "-1\n",
      "1\n"
     ]
    }
   ],
   "source": [
    "print(p)\n",
    "print(jacobi_symbol(1, p))\n",
    "print(jacobi_symbol(2, p))\n",
    "print(jacobi_symbol(3, p))\n",
    "print(jacobi_symbol(4, p))\n",
    "print(jacobi_symbol(5, p))\n",
    "print(jacobi_symbol(6, p))\n",
    "print(jacobi_symbol(7, p))\n",
    "print(jacobi_symbol(8, p))\n",
    "print(jacobi_symbol(9, p))\n",
    "print(jacobi_symbol(10, p))\n",
    "print(jacobi_symbol(11, p))\n",
    "print(jacobi_symbol(12, p))\n",
    "print(jacobi_symbol(13, p))\n",
    "print(jacobi_symbol(14, p))\n",
    "print(jacobi_symbol(15, p))\n",
    "print(jacobi_symbol(16, p))\n",
    "print(jacobi_symbol(17, p))\n",
    "print(jacobi_symbol(18, p))\n",
    "print(jacobi_symbol(19, p))\n",
    "print(jacobi_symbol(20, p))"
   ]
  },
  {
   "cell_type": "code",
   "execution_count": 20,
   "metadata": {},
   "outputs": [
    {
     "name": "stdout",
     "output_type": "stream",
     "text": [
      "17\n"
     ]
    }
   ],
   "source": [
    "n = 1\n",
    "while jacobi_symbol(n, p) != -1:\n",
    "    n = n + 1 \n",
    "print(n)"
   ]
  },
  {
   "cell_type": "markdown",
   "metadata": {},
   "source": [
    "Y este tiene orden $2^2 \\mod p$.\n",
    "\n",
    "Calculamos ahora un no residuo cuadrático módulo p, y el primero es $n=17$.\n",
    "\n",
    "Por tanto un generador del 2-subgrupo de Sylow $G=\\mathbb{Z}_{2^{17}}$."
   ]
  },
  {
   "cell_type": "code",
   "execution_count": 46,
   "metadata": {},
   "outputs": [
    {
     "name": "stdout",
     "output_type": "stream",
     "text": [
      "z: 55328379, t: 158982, i: 2, r: 29971170\n",
      "b: 12935680, t1: 1, i1: 0, r1: 796425\n"
     ]
    }
   ],
   "source": [
    "p = 77770081\n",
    "q = 2430315\n",
    "e = 5\n",
    "gen = 17\n",
    "\n",
    "#p = 77646353\n",
    "#q = 4852897\n",
    "#e = 4\n",
    "#gen = 3\n",
    "\n",
    "z = pow(gen, q, p)\n",
    "t = pow(-11, q, p)\n",
    "i = exp_orden(int(orden(t, p)), 2)\n",
    "r = pow(-11, (q+1)//2, p)\n",
    "\n",
    "print(\"z: {}, t: {}, i: {}, r: {}\".format(z,t,i,r))\n",
    "\n",
    "aux = pow(2, e-i-1)\n",
    "b = pow(z, aux, p)\n",
    "t1 = (t*pow(b,2)).mod(p)\n",
    "i1 = exp_orden(orden(t1, p), 2)\n",
    "r1 = (r*b).mod(p)\n",
    "\n",
    "print(\"b: {}, t1: {}, i1: {}, r1: {}\".format(b,t1,i1,r1))\n"
   ]
  },
  {
   "cell_type": "code",
   "execution_count": 47,
   "metadata": {},
   "outputs": [
    {
     "name": "stdout",
     "output_type": "stream",
     "text": [
      "e = 5\n",
      "q = 2430315\n",
      "t mod p = 158982\n",
      "z mod p = 55328379\n",
      "r mod p = 29971170\n",
      "\n",
      "Inicio de bucle:\n",
      "\tOrden de t = 4 => i = 2\n",
      "\tb mod p = 12935680\n",
      "\tb^2 mod p = 77611099\n",
      "\tr_1 mod p = 796425\n",
      "\tt_1 mod p = 1\n"
     ]
    },
    {
     "data": {
      "text/plain": [
       "[796425, 76973656]"
      ]
     },
     "execution_count": 47,
     "metadata": {},
     "output_type": "execute_result"
    }
   ],
   "source": [
    "# Comprobaion algoritmo andres\n",
    "def orden(t, p):\n",
    "    for i in range(1, p):\n",
    "        if t.powermod(i, p) == 1:\n",
    "            return i\n",
    "    \n",
    "    return 0\n",
    "\n",
    "        \n",
    "def calcular_z(p):\n",
    "    n = 1\n",
    "    while jacobi_symbol(n, p) != -1:\n",
    "        n = n + 1 \n",
    "    \n",
    "    e = factor(p-1)[0][1]\n",
    "    q = (p-1)//2^e\n",
    "    z = (n^q).mod(p)\n",
    "    \n",
    "    return z\n",
    "    \n",
    "\n",
    "def tonelli_shanks(a, p):\n",
    "    e = factor(p-1)[0][1]\n",
    "    print(\"e = \" + str(e))\n",
    "    q = (p-1)//2^e\n",
    "    print(\"q = \" + str(q))\n",
    "    t = a^q\n",
    "    print(\"t mod p = \" + str(t.mod(p)))\n",
    "    z = calcular_z(p)\n",
    "    print(\"z mod p = \" + str(z))\n",
    "    r = a.powermod((q+1)//2, p)\n",
    "    print(\"r mod p = \" + str(r))\n",
    "    r_1 = r\n",
    "    \n",
    "    while t.mod(p) != 1:\n",
    "        print(\"\\nInicio de bucle:\")\n",
    "        i = factor(orden(t, p))[0][1]\n",
    "        print(\"\\tOrden de t = \" + str(orden(t, p)) + \" => \" + \"i = \" + str(i))\n",
    "        b = z.powermod(2^(e - i - 1), p)\n",
    "        print(\"\\tb mod p = \" + str(b))\n",
    "        b_cuadrado = b.powermod(2, p)\n",
    "        print(\"\\tb^2 mod p = \" + str(b_cuadrado))\n",
    "        r_1 = (r_1 * b).mod(p)\n",
    "        print(\"\\tr_1 mod p = \" + str(r_1))\n",
    "        t_1 = (t * b_cuadrado).mod(p)\n",
    "        print(\"\\tt_1 mod p = \" + str(t_1))\n",
    "\n",
    "        t = t_1\n",
    "    \n",
    "    x_1 = r_1.mod(p)\n",
    "    x_2 = (p - x_1).mod(p)\n",
    "    \n",
    "    return [x_1, x_2]\n",
    "\n",
    "soluciones = tonelli_shanks(-11, p)\n",
    "soluciones\n"
   ]
  },
  {
   "cell_type": "code",
   "execution_count": null,
   "metadata": {},
   "outputs": [],
   "source": []
  },
  {
   "cell_type": "code",
   "execution_count": null,
   "metadata": {},
   "outputs": [],
   "source": []
  },
  {
   "cell_type": "markdown",
   "metadata": {},
   "source": [
    "**ii) Usa una de esas soluciones para factorizar el ideal principal, (p) =(p,n+$\\sqrt{-11}$)(p,n+$\\sqrt{-11}$) como producto de dos ideales.**"
   ]
  },
  {
   "cell_type": "code",
   "execution_count": null,
   "metadata": {},
   "outputs": [],
   "source": []
  },
  {
   "cell_type": "code",
   "execution_count": null,
   "metadata": {},
   "outputs": [],
   "source": []
  },
  {
   "cell_type": "code",
   "execution_count": null,
   "metadata": {},
   "outputs": [],
   "source": []
  },
  {
   "cell_type": "markdown",
   "metadata": {},
   "source": [
    "**iii) Aplica el algoritmo de Cornachia- Smith modificado a 2p y n para encontrar una solucíón a la ecuación diofántica $4p =x^2 + 11y^2$ y la usas para encontrar una factorización de p en a.e. del cuerpo $\\mathbb{Q}(\\sqrt{-11})$.**"
   ]
  },
  {
   "cell_type": "code",
   "execution_count": null,
   "metadata": {},
   "outputs": [],
   "source": []
  },
  {
   "cell_type": "code",
   "execution_count": null,
   "metadata": {},
   "outputs": [],
   "source": []
  },
  {
   "cell_type": "code",
   "execution_count": null,
   "metadata": {},
   "outputs": [],
   "source": []
  },
  {
   "cell_type": "markdown",
   "metadata": {},
   "source": [
    "**iv) ¿ Son principales tus ideales (p,n+$\\sqrt{-11}$)(p,n+$\\sqrt{-11}$)**"
   ]
  },
  {
   "cell_type": "code",
   "execution_count": null,
   "metadata": {},
   "outputs": [],
   "source": []
  },
  {
   "cell_type": "code",
   "execution_count": null,
   "metadata": {},
   "outputs": [],
   "source": []
  },
  {
   "cell_type": "code",
   "execution_count": null,
   "metadata": {},
   "outputs": [],
   "source": []
  }
 ],
 "metadata": {
  "kernelspec": {
   "display_name": "SageMath 9.1",
   "language": "sage",
   "name": "sagemath"
  },
  "language_info": {
   "codemirror_mode": {
    "name": "ipython",
    "version": 3
   },
   "file_extension": ".py",
   "mimetype": "text/x-python",
   "name": "python",
   "nbconvert_exporter": "python",
   "pygments_lexer": "ipython3",
   "version": "3.7.3"
  }
 },
 "nbformat": 4,
 "nbformat_minor": 5
}
