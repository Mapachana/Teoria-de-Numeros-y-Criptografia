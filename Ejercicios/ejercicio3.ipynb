{
 "cells": [
  {
   "cell_type": "markdown",
   "id": "88860a20",
   "metadata": {},
   "source": [
    "# Ejercicio 3\n",
    "\n",
    "> Por: Mapachana\n",
    "\n",
    "**Dado tu número m (de 30 cifras o mas) de la lista publicada.**"
   ]
  },
  {
   "cell_type": "code",
   "execution_count": 2,
   "id": "5b5408bc",
   "metadata": {},
   "outputs": [],
   "source": [
    "m = 36580545945776718558633000960211"
   ]
  },
  {
   "cell_type": "markdown",
   "id": "384681d4",
   "metadata": {},
   "source": [
    "**i) Calcula $a^{m-1} \\mod m$, para los 5 primeros primos.**"
   ]
  },
  {
   "cell_type": "code",
   "execution_count": 3,
   "id": "2c59c7ff",
   "metadata": {},
   "outputs": [
    {
     "name": "stdout",
     "output_type": "stream",
     "text": [
      "Para la base 2 se tiene 1\n",
      "Para la base 3 se tiene 1\n",
      "Para la base 5 se tiene 1\n",
      "Para la base 7 se tiene 1\n",
      "Para la base 11 se tiene 1\n"
     ]
    }
   ],
   "source": [
    "lista_num = [2, 3, 5, 7, 11]\n",
    "\n",
    "for num in lista_num:\n",
    "    print(\"Para la base {} se tiene {}\".format(num, pow(num, m-1, m)))"
   ]
  },
  {
   "cell_type": "markdown",
   "id": "6ca150f4",
   "metadata": {},
   "source": [
    "Tenemos que:\n",
    "\n",
    "$$2^{m-1}\\equiv 1\\mod m$$\n",
    "$$3^{m-1}\\equiv 1\\mod m$$\n",
    "$$5^{m-1}\\equiv 1\\mod m$$\n",
    "$$7^{m-1}\\equiv 1\\mod m$$\n",
    "$$11^{m-1}\\equiv 1\\mod m$$\n"
   ]
  },
  {
   "cell_type": "markdown",
   "id": "68ea7adc",
   "metadata": {},
   "source": [
    "**ii) Calcula el test de Solovay-Strassen para los 5 primeros primos.**"
   ]
  },
  {
   "cell_type": "markdown",
   "id": "176b84c4",
   "metadata": {},
   "source": [
    "Usaremos la función para calcular el símbolo de Jacobi del segundo ejercicio y comprobaremos si pasa los tests de Fermat y de Euler."
   ]
  },
  {
   "cell_type": "code",
   "execution_count": 4,
   "id": "28784fca",
   "metadata": {},
   "outputs": [],
   "source": [
    "def jacobi(a, n):\n",
    "        assert(n > a > 0 and n%2 == 1)\n",
    "        t = 1\n",
    "        while a != 0:\n",
    "            while a % 2 == 0:\n",
    "                a /= 2\n",
    "                r = n % 8\n",
    "                if r == 3 or r == 5:\n",
    "                    t = -t\n",
    "            a, n = n, a\n",
    "            if a % 4 == n % 4 == 3:\n",
    "                t = -t\n",
    "            a %= n\n",
    "        if n == 1:\n",
    "            return t\n",
    "        else:\n",
    "            return 0"
   ]
  },
  {
   "cell_type": "code",
   "execution_count": 5,
   "id": "5591fec1",
   "metadata": {},
   "outputs": [
    {
     "name": "stdout",
     "output_type": "stream",
     "text": [
      "Para la base 2 se tiene -1\n",
      "Para la base 3 se tiene -1\n",
      "Para la base 5 se tiene 1\n",
      "Para la base 7 se tiene 1\n",
      "Para la base 11 se tiene 1\n"
     ]
    }
   ],
   "source": [
    "lista_num = [2, 3, 5, 7, 11]\n",
    "\n",
    "for num in lista_num:\n",
    "    print(\"Para la base {} se tiene {}\".format(num, jacobi(num, m)))"
   ]
  },
  {
   "cell_type": "markdown",
   "id": "d21482a2",
   "metadata": {},
   "source": [
    "Del primer apartado tenemos que el número es posible primo de Fermat, pues $a^{m-1}\\equiv 1\\mod m$ para $a$ siendo los 5 primeros primos.\n",
    "\n",
    "Comprobamos ahora si se cumple $\\left( \\frac{p}{m} \\right)= p^{\\frac{m-1}{2}}\\mod m$."
   ]
  },
  {
   "cell_type": "code",
   "execution_count": 6,
   "id": "42d938b6",
   "metadata": {},
   "outputs": [
    {
     "data": {
      "text/plain": [
       "3"
      ]
     },
     "execution_count": 6,
     "metadata": {},
     "output_type": "execute_result"
    }
   ],
   "source": [
    "pow(m,1,8)"
   ]
  },
  {
   "cell_type": "code",
   "execution_count": 9,
   "id": "e87cd263",
   "metadata": {},
   "outputs": [
    {
     "data": {
      "text/plain": [
       "-1"
      ]
     },
     "execution_count": 9,
     "metadata": {},
     "output_type": "execute_result"
    }
   ],
   "source": [
    "pow(-1, (m*m-1)//8)"
   ]
  },
  {
   "cell_type": "code",
   "execution_count": 10,
   "id": "7c9d064f",
   "metadata": {},
   "outputs": [
    {
     "data": {
      "text/plain": [
       "3"
      ]
     },
     "execution_count": 10,
     "metadata": {},
     "output_type": "execute_result"
    }
   ],
   "source": [
    "pow(m,1,4)"
   ]
  },
  {
   "cell_type": "code",
   "execution_count": 16,
   "id": "c5e7a52b",
   "metadata": {},
   "outputs": [
    {
     "data": {
      "text/plain": [
       "6"
      ]
     },
     "execution_count": 16,
     "metadata": {},
     "output_type": "execute_result"
    }
   ],
   "source": [
    "pow(m,1,11)"
   ]
  },
  {
   "cell_type": "markdown",
   "id": "2ecb34e6",
   "metadata": {},
   "source": [
    "Para $p=2$ tenemos que como $m\\equiv 3 \\mod 8$ entonces $\\left( \\frac{2}{m}\\right)=(-1)^{\\frac{m^2-1}{8}}=-1$.\n",
    "\n",
    "Para $p=3$ como $m\\equiv 3\\mod 4$ entonces $\\left( \\frac{3}{m}\\right)=-\\left( \\frac{m}{3}\\right)$ y como $m\\equiv 1\\mod 3$ entonces $-\\left( \\frac{m}{3}\\right)=-\\left( \\frac{1}{3}\\right)=-1$.\n",
    "\n",
    "Para $p=5$ como $5\\equiv 1\\mod 4$ entonces $\\left( \\frac{5}{m}\\right)=\\left( \\frac{m}{5}\\right)$ y como $m\\equiv 1\\mod 5$ entonces $\\left( \\frac{m}{5}\\right)=\\left( \\frac{1}{5}\\right)=1$.\n",
    "\n",
    "Para $p=7$ como $m\\equiv 3\\mod 4$ entonces $\\left( \\frac{7}{m}\\right)=-\\left( \\frac{m}{7}\\right)$ y como $m\\equiv 5\\mod 7$ entonces $-\\left( \\frac{m}{7}\\right)=-\\left( \\frac{5}{7}\\right)=1$.\n",
    "\n",
    "Para $p=11$ como $m\\equiv 3\\mod 4$ entonces $\\left( \\frac{11}{m}\\right)=-\\left( \\frac{m}{11}\\right)$ y como $m\\equiv 6\\mod 11$ entonces $-\\left( \\frac{m}{11}\\right)=-\\left( \\frac{6}{11}\\right)=1$."
   ]
  },
  {
   "cell_type": "code",
   "execution_count": 22,
   "id": "67412c0e",
   "metadata": {},
   "outputs": [
    {
     "name": "stdout",
     "output_type": "stream",
     "text": [
      "36580545945776718558633000960211\n",
      "Para la base 2 se tiene Jacobi: -1, potencia: 36580545945776718558633000960210\n",
      "Primo de Euler\n",
      "Para la base 3 se tiene Jacobi: -1, potencia: 36580545945776718558633000960210\n",
      "Primo de Euler\n",
      "Para la base 5 se tiene Jacobi: 1, potencia: 1\n",
      "Primo de Euler\n",
      "Para la base 7 se tiene Jacobi: 1, potencia: 1\n",
      "Primo de Euler\n",
      "Para la base 11 se tiene Jacobi: 1, potencia: 1\n",
      "Primo de Euler\n"
     ]
    }
   ],
   "source": [
    "lista_num = [2, 3, 5, 7, 11]\n",
    "\n",
    "print(m)\n",
    "for num in lista_num:\n",
    "    print(\"Para la base {} se tiene Jacobi: {}, potencia: {}\".format(num, jacobi(num, m), pow(num, (m-1)//2, m)))\n",
    "    if jacobi(num, m) == pow(num, (m-1)//2, m) or jacobi(num, m) == (-m+pow(num, (m-1)//2, m)):\n",
    "        print(\"Primo de Euler\")"
   ]
  },
  {
   "cell_type": "markdown",
   "id": "1ec62d0a",
   "metadata": {},
   "source": [
    "Luego $m$ es posible primo de Euler para todas las bases probadas.\n",
    "\n",
    "Y, como es posible primo de Fermat y posible primo de Euler para todas ellas, se tiene que pasa el test de Solovay-Strassen y por tanto es primo con la probabilidad $1-\\frac{1}{2^5}$."
   ]
  },
  {
   "cell_type": "markdown",
   "id": "979c305a",
   "metadata": {},
   "source": [
    "**iii)  Calcula el test de Miller-Rabin para esas 5 bases**"
   ]
  },
  {
   "cell_type": "markdown",
   "id": "2c7cfe69",
   "metadata": {},
   "source": [
    "Para comprobar el test de Miller-Rabin vamos a construir la a-sucesión correspondiente. Comenzamos descomponiendo el número como $m=2^rn$."
   ]
  },
  {
   "cell_type": "code",
   "execution_count": 76,
   "id": "b162c4ec",
   "metadata": {},
   "outputs": [
    {
     "data": {
      "text/plain": [
       "[2, 4, 16, 1, 1]"
      ]
     },
     "execution_count": 76,
     "metadata": {},
     "output_type": "execute_result"
    }
   ],
   "source": [
    "def calcular_r(num):\n",
    "    r = 0\n",
    "    while num % 2 == 0:\n",
    "        r += 1\n",
    "        num = num//2\n",
    "    return r\n",
    "\n",
    "def a_suc(base, num):\n",
    "    r = calcular_r(num-1)\n",
    "    n = (num-1)//pow(2,r)\n",
    "    \n",
    "    sucesion = []\n",
    "    \n",
    "    for i in range (0,r+1):\n",
    "        aux = pow(2,i)\n",
    "        exp = int(n*aux)\n",
    "        sucesion.append(pow(base, exp, num))        \n",
    "    return sucesion\n",
    "    \n",
    "a_suc(2,17)"
   ]
  },
  {
   "cell_type": "code",
   "execution_count": 19,
   "id": "da0e8a15",
   "metadata": {},
   "outputs": [
    {
     "name": "stdout",
     "output_type": "stream",
     "text": [
      "La a-sucesion obtenida para la base 2 es:\n"
     ]
    },
    {
     "ename": "NameError",
     "evalue": "name 'a_suc' is not defined",
     "output_type": "error",
     "traceback": [
      "\u001b[0;31m---------------------------------------------------------------------------\u001b[0m",
      "\u001b[0;31mNameError\u001b[0m                                 Traceback (most recent call last)",
      "\u001b[0;32m/tmp/ipykernel_11013/1756570334.py\u001b[0m in \u001b[0;36m<module>\u001b[0;34m\u001b[0m\n\u001b[1;32m      5\u001b[0m \u001b[0;32mfor\u001b[0m \u001b[0mnum\u001b[0m \u001b[0;32min\u001b[0m \u001b[0mlista_num\u001b[0m\u001b[0;34m:\u001b[0m\u001b[0;34m\u001b[0m\u001b[0;34m\u001b[0m\u001b[0m\n\u001b[1;32m      6\u001b[0m     \u001b[0mprint\u001b[0m\u001b[0;34m(\u001b[0m\u001b[0;34m\"La a-sucesion obtenida para la base {} es:\"\u001b[0m\u001b[0;34m.\u001b[0m\u001b[0mformat\u001b[0m\u001b[0;34m(\u001b[0m\u001b[0mnum\u001b[0m\u001b[0;34m)\u001b[0m\u001b[0;34m)\u001b[0m\u001b[0;34m\u001b[0m\u001b[0;34m\u001b[0m\u001b[0m\n\u001b[0;32m----> 7\u001b[0;31m     \u001b[0mprint\u001b[0m\u001b[0;34m(\u001b[0m\u001b[0ma_suc\u001b[0m\u001b[0;34m(\u001b[0m\u001b[0mnum\u001b[0m\u001b[0;34m,\u001b[0m \u001b[0mm\u001b[0m\u001b[0;34m)\u001b[0m\u001b[0;34m)\u001b[0m\u001b[0;34m\u001b[0m\u001b[0;34m\u001b[0m\u001b[0m\n\u001b[0m\u001b[1;32m      8\u001b[0m     \u001b[0mprint\u001b[0m\u001b[0;34m(\u001b[0m\u001b[0;34m\"\"\u001b[0m\u001b[0;34m)\u001b[0m\u001b[0;34m\u001b[0m\u001b[0;34m\u001b[0m\u001b[0m\n",
      "\u001b[0;31mNameError\u001b[0m: name 'a_suc' is not defined"
     ]
    }
   ],
   "source": [
    "lista_num = [2, 3, 5, 7, 11]\n",
    "\n",
    "m = 36580545945776718558633000960211\n",
    "\n",
    "for num in lista_num:\n",
    "    print(\"La a-sucesion obtenida para la base {} es:\".format(num))\n",
    "    print(a_suc(num, m))\n",
    "    print(\"\")"
   ]
  },
  {
   "cell_type": "markdown",
   "id": "18f6f3c2",
   "metadata": {},
   "source": [
    "Como $36580545945776718558633000960210\\equiv -1 \\mod m$ tenemos que $m$ pasa el test de Miller-Rabin para los 5 primeros primos, pues las sucesiones acaban en 1 y todo 1 va precedido de otro 1 o de -1."
   ]
  },
  {
   "cell_type": "markdown",
   "id": "041429ca",
   "metadata": {},
   "source": [
    "**iv) ¿Qué deduces sobre la primalidad de tu número?**"
   ]
  },
  {
   "cell_type": "markdown",
   "id": "da53a330",
   "metadata": {},
   "source": [
    "Dado que ha pasado el test de Miller-Rabin para 5 bases, la probabilidad de que sea compuesto es de $1-\\frac{1}{4^5}$.\n"
   ]
  },
  {
   "cell_type": "code",
   "execution_count": null,
   "id": "61816a64",
   "metadata": {},
   "outputs": [],
   "source": []
  }
 ],
 "metadata": {
  "kernelspec": {
   "display_name": "Python 3 (ipykernel)",
   "language": "python",
   "name": "python3"
  },
  "language_info": {
   "codemirror_mode": {
    "name": "ipython",
    "version": 3
   },
   "file_extension": ".py",
   "mimetype": "text/x-python",
   "name": "python",
   "nbconvert_exporter": "python",
   "pygments_lexer": "ipython3",
   "version": "3.8.8"
  }
 },
 "nbformat": 4,
 "nbformat_minor": 5
}
