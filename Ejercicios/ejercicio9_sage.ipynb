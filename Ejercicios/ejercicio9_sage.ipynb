{
 "cells": [
  {
   "cell_type": "markdown",
   "id": "46e17df5",
   "metadata": {},
   "source": [
    "# Ejercicio 9\n",
    "\n",
    "> Por: Mapachana\n",
    "\n",
    "**Toma n tu número publicado para el ejer_ 2. Escríbe n en base 2, usa esas cifras para definir un polinomio, f(x), donde tu bit más significativo defina el grado del polinomio n, el siguiente bit va multiplicado por $x^{n-1}$ y sucesivamente hasta que el bit menos significativo sea el término independiente.El polinomio que obtienes es universal en el sentido de que tiene coeficientes en cualquier anillo**\n",
    "\n",
    "**Sea f(x) el polinomio que obtienes con coeficientes en $\\mathbb{Z}$**"
   ]
  },
  {
   "cell_type": "code",
   "execution_count": 1,
   "id": "48d2bbc4",
   "metadata": {
    "scrolled": true
   },
   "outputs": [
    {
     "data": {
      "text/plain": [
       "-2"
      ]
     },
     "execution_count": 1,
     "metadata": {},
     "output_type": "execute_result"
    }
   ],
   "source": [
    "n = -2\n",
    "n"
   ]
  },
  {
   "cell_type": "code",
   "execution_count": 2,
   "id": "36a408e8",
   "metadata": {},
   "outputs": [],
   "source": [
    "import math"
   ]
  },
  {
   "cell_type": "markdown",
   "id": "cb805cdc",
   "metadata": {},
   "source": [
    "**i) Toma g(x) = f(x) mod 2 y halla el menor cuerpo de característica 2 que contenga a todas las raíces de g. ¿ Qué deduces sobre la irreducibilidad de g(x) en $\\mathbb{Z}_2[x]$ ?.**"
   ]
  },
  {
   "cell_type": "code",
   "execution_count": null,
   "id": "b09867b8",
   "metadata": {},
   "outputs": [],
   "source": []
  },
  {
   "cell_type": "code",
   "execution_count": null,
   "id": "dceed945",
   "metadata": {},
   "outputs": [],
   "source": []
  },
  {
   "cell_type": "code",
   "execution_count": null,
   "id": "3ffd09a9",
   "metadata": {},
   "outputs": [],
   "source": []
  },
  {
   "cell_type": "markdown",
   "id": "d8edb7c8",
   "metadata": {},
   "source": [
    "**ii) Extrae la parte libre de cuadrados de g(x) y le calculas su matriz de Berlekamp por columnas. Resuelve el s.l. (B-Id)X=0.**"
   ]
  },
  {
   "cell_type": "code",
   "execution_count": null,
   "id": "7700d9f6",
   "metadata": {},
   "outputs": [],
   "source": []
  },
  {
   "cell_type": "code",
   "execution_count": null,
   "id": "d86ab5d3",
   "metadata": {},
   "outputs": [],
   "source": []
  },
  {
   "cell_type": "code",
   "execution_count": null,
   "id": "3c7e660d",
   "metadata": {},
   "outputs": [],
   "source": []
  },
  {
   "cell_type": "markdown",
   "id": "269589a0",
   "metadata": {},
   "source": [
    "**iii) Aplica Berlekamp si es necesario recursivamente para hallar la descomposiciónen irreducibles de g(x) en $\\mathbb{Z}_2[x]$.**"
   ]
  },
  {
   "cell_type": "code",
   "execution_count": null,
   "id": "b7832247",
   "metadata": {},
   "outputs": [],
   "source": []
  },
  {
   "cell_type": "code",
   "execution_count": null,
   "id": "bd9dcd65",
   "metadata": {},
   "outputs": [],
   "source": []
  },
  {
   "cell_type": "code",
   "execution_count": null,
   "id": "077ff24f",
   "metadata": {},
   "outputs": [],
   "source": []
  },
  {
   "cell_type": "markdown",
   "id": "75ba8c4f",
   "metadata": {},
   "source": [
    "**iv) Haz lo mismo para hallar la descomposición en irreducibles de f(x) mod 3**"
   ]
  },
  {
   "cell_type": "code",
   "execution_count": null,
   "id": "b8b5340c",
   "metadata": {},
   "outputs": [],
   "source": []
  },
  {
   "cell_type": "code",
   "execution_count": null,
   "id": "5918024d",
   "metadata": {},
   "outputs": [],
   "source": []
  },
  {
   "cell_type": "code",
   "execution_count": null,
   "id": "6415aa83",
   "metadata": {},
   "outputs": [],
   "source": []
  },
  {
   "cell_type": "markdown",
   "id": "0f56c9af",
   "metadata": {},
   "source": [
    "**v) ¿ Qué deduces sobre la reducibilidad de f(x) en $\\mathbb{Z}[x]$ ?**"
   ]
  },
  {
   "cell_type": "code",
   "execution_count": null,
   "id": "1d867b2f",
   "metadata": {},
   "outputs": [],
   "source": []
  },
  {
   "cell_type": "code",
   "execution_count": null,
   "id": "e729bd30",
   "metadata": {},
   "outputs": [],
   "source": []
  },
  {
   "cell_type": "code",
   "execution_count": null,
   "id": "2becfda1",
   "metadata": {},
   "outputs": [],
   "source": []
  }
 ],
 "metadata": {
  "kernelspec": {
   "display_name": "Python 3 (ipykernel)",
   "language": "python",
   "name": "python3"
  },
  "language_info": {
   "codemirror_mode": {
    "name": "ipython",
    "version": 3
   },
   "file_extension": ".py",
   "mimetype": "text/x-python",
   "name": "python",
   "nbconvert_exporter": "python",
   "pygments_lexer": "ipython3",
   "version": "3.8.8"
  }
 },
 "nbformat": 4,
 "nbformat_minor": 5
}
