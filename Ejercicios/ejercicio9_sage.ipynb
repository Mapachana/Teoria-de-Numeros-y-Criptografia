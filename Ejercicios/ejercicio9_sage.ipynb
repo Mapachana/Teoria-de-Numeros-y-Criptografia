{
 "cells": [
  {
   "cell_type": "markdown",
   "metadata": {},
   "source": [
    "# Ejercicio 9\n",
    "\n",
    "> Por: Mapachana\n",
    "\n",
    "**Toma n tu número publicado para el ejer_ 2. Escríbe n en base 2, usa esas cifras para definir un polinomio, f(x), donde tu bit más significativo defina el grado del polinomio n, el siguiente bit va multiplicado por $x^{n-1}$ y sucesivamente hasta que el bit menos significativo sea el término independiente.El polinomio que obtienes es universal en el sentido de que tiene coeficientes en cualquier anillo**\n",
    "\n",
    "**Sea f(x) el polinomio que obtienes con coeficientes en $\\mathbb{Z}$**"
   ]
  },
  {
   "cell_type": "code",
   "execution_count": 1,
   "metadata": {
    "scrolled": true
   },
   "outputs": [
    {
     "name": "stdout",
     "output_type": "stream",
     "text": [
      "77770081\n"
     ]
    },
    {
     "data": {
      "text/plain": [
       "'100101000101010110101100001'"
      ]
     },
     "execution_count": 1,
     "metadata": {},
     "output_type": "execute_result"
    }
   ],
   "source": [
    "n = 77770081\n",
    "print(n)\n",
    "n.binary()"
   ]
  },
  {
   "cell_type": "code",
   "execution_count": 2,
   "metadata": {},
   "outputs": [],
   "source": [
    "import numpy as np"
   ]
  },
  {
   "cell_type": "code",
   "execution_count": 19,
   "metadata": {},
   "outputs": [
    {
     "name": "stdout",
     "output_type": "stream",
     "text": [
      "x^26 + x^23 + x^21 + x^17 + x^15 + x^13 + x^11 + x^10 + x^8 + x^6 + x^5 + 1\n"
     ]
    }
   ],
   "source": [
    "Z2 = PolynomialRing(GF(2), 'x')\n",
    "x = Z2.gen()\n",
    "g = x^26+x^23+x^21+x^17+x^15+x^13+x^11+x^10+x^8+x^6+x^5+1\n",
    "print(g)"
   ]
  },
  {
   "cell_type": "markdown",
   "metadata": {},
   "source": [
    "**i) Toma g(x) = f(x) mod 2 y halla el menor cuerpo de característica 2 que contenga a todas las raíces de g. ¿ Qué deduces sobre la irreducibilidad de g(x) en $\\mathbb{Z}_2[x]$ ?.**"
   ]
  },
  {
   "cell_type": "code",
   "execution_count": 23,
   "metadata": {},
   "outputs": [],
   "source": [
    "def menor_cuerpo(modulo, p, x):\n",
    "    g = x^p\n",
    "    g1 = (g-x).mod(modulo)\n",
    "    k = 1\n",
    "    \n",
    "    while g1 != 0:\n",
    "        g = (g^p).mod(modulo)\n",
    "        g1 = (g - x).mod(modulo)\n",
    "        k = k + 1\n",
    "        \n",
    "    print(k)\n",
    "    return k\n",
    "        "
   ]
  },
  {
   "cell_type": "code",
   "execution_count": 24,
   "metadata": {},
   "outputs": [
    {
     "name": "stdout",
     "output_type": "stream",
     "text": [
      "33\n",
      "153\n"
     ]
    },
    {
     "data": {
      "text/plain": [
       "153"
      ]
     },
     "execution_count": 24,
     "metadata": {},
     "output_type": "execute_result"
    }
   ],
   "source": [
    "# Ejemplo profe\n",
    "menor_cuerpo(1+x+x^2+x^3+x^4+x^6+x^7+x^8+x^10+x^11+x^14, 2, x)\n",
    "# Ejemplo wuolah\n",
    "menor_cuerpo(x^26+x^23+x^21+x^15+x^14+x^11+x^8+x^7+x^6+x^2+1, 2, x)"
   ]
  },
  {
   "cell_type": "code",
   "execution_count": 41,
   "metadata": {},
   "outputs": [
    {
     "name": "stdout",
     "output_type": "stream",
     "text": [
      "46\n"
     ]
    },
    {
     "data": {
      "text/plain": [
       "46"
      ]
     },
     "execution_count": 41,
     "metadata": {},
     "output_type": "execute_result"
    }
   ],
   "source": [
    "menor_cuerpo(g, 2, x)"
   ]
  },
  {
   "cell_type": "code",
   "execution_count": 42,
   "metadata": {},
   "outputs": [
    {
     "data": {
      "text/plain": [
       "2 * 23"
      ]
     },
     "execution_count": 42,
     "metadata": {},
     "output_type": "execute_result"
    }
   ],
   "source": [
    "factor(46)"
   ]
  },
  {
   "cell_type": "markdown",
   "metadata": {},
   "source": [
    "El menor cuerpo de característica 2 que contiene a todas las raíces de $g$ es $F_{2^{46}}=F_{2^{2\\cdot 23}}$. Como tenemos que $46>26$ entonces $g(x)$ es reducible en $\\mathbb{Z}_2[x]$. Además, sabemos que los factores en los que se descomponga $g$ serán de grado un divisor de $46$, esto es, $1$, $2$ o $23$. "
   ]
  },
  {
   "cell_type": "code",
   "execution_count": 43,
   "metadata": {},
   "outputs": [
    {
     "data": {
      "text/plain": [
       "False"
      ]
     },
     "execution_count": 43,
     "metadata": {},
     "output_type": "execute_result"
    }
   ],
   "source": [
    "g.is_irreducible()"
   ]
  },
  {
   "cell_type": "markdown",
   "metadata": {},
   "source": [
    "**ii) Extrae la parte libre de cuadrados de g(x) y le calculas su matriz de Berlekamp por columnas. Resuelve el s.l. (B-Id)X=0.**"
   ]
  },
  {
   "cell_type": "code",
   "execution_count": 44,
   "metadata": {},
   "outputs": [
    {
     "name": "stdout",
     "output_type": "stream",
     "text": [
      "x^26 + x^23 + x^21 + x^17 + x^15 + x^13 + x^11 + x^10 + x^8 + x^6 + x^5 + 1\n",
      "x^22 + x^20 + x^16 + x^14 + x^12 + x^10 + x^4\n",
      "1\n"
     ]
    }
   ],
   "source": [
    "print(g)\n",
    "print(g.derivative())\n",
    "print(gcd(g, g.derivative()))"
   ]
  },
  {
   "cell_type": "markdown",
   "metadata": {},
   "source": [
    "Tenemos que el máximo común divisor de $g$ y su derivada es $(g, g')=1$, luego $g$ es libre de cuadrados. Pasamos por tanto a calcular su matriz de Berlekamp por columnas:"
   ]
  },
  {
   "cell_type": "code",
   "execution_count": 47,
   "metadata": {},
   "outputs": [],
   "source": [
    "def calcular_B(g, p, cuerpo):\n",
    "    # g esta definido sobre cuerpo (en nuestro caso Z2 o Z3)\n",
    "    x = cuerpo.gen()\n",
    "    B = np.zeros([g.degree(), g.degree()], dtype = int)\n",
    "\n",
    "    for i in range(0, g.degree()):\n",
    "        coeficientes = [0] * g.degree()\n",
    "\n",
    "        pol = (x^(p*i)).mod(g)\n",
    "        #pol = pol.mod(g)\n",
    "        print(\"[\" + str(i) + \"] x^2i mod f = \" + str(pol))\n",
    "\n",
    "        for j, coef in enumerate(pol.coefficients(sparse = False)):\n",
    "            coeficientes[j] = coef\n",
    "\n",
    "        B[i, :] = coeficientes\n",
    "    return Matrix(cuerpo, B.tolist())\n",
    "\n",
    "#B = calcular_B(g, 2, Z2)\n"
   ]
  },
  {
   "cell_type": "code",
   "execution_count": 51,
   "metadata": {},
   "outputs": [
    {
     "name": "stdout",
     "output_type": "stream",
     "text": [
      "[0] x^2i mod f = 1\n",
      "[1] x^2i mod f = x^2\n",
      "[2] x^2i mod f = x^4\n",
      "[3] x^2i mod f = x^3 + x\n",
      "[4] x^2i mod f = x^3 + x^2 + 1\n",
      "[1 0 0 0 0]\n",
      "[0 0 1 0 0]\n",
      "[0 0 0 0 1]\n",
      "[0 1 0 1 0]\n",
      "[1 0 1 1 0]\n",
      "\n",
      "[0] x^2i mod f = 1\n",
      "[1] x^2i mod f = x^2\n",
      "[2] x^2i mod f = x^4\n",
      "[3] x^2i mod f = x^6\n",
      "[4] x^2i mod f = x^8\n",
      "[5] x^2i mod f = x^10\n",
      "[6] x^2i mod f = x^12\n",
      "[7] x^2i mod f = x^14\n",
      "[8] x^2i mod f = x^16\n",
      "[9] x^2i mod f = x^18\n",
      "[10] x^2i mod f = x^20\n",
      "[11] x^2i mod f = x^22\n",
      "[12] x^2i mod f = x^24\n",
      "[13] x^2i mod f = x^23 + x^21 + x^15 + x^14 + x^11 + x^8 + x^7 + x^6 + x^2 + 1\n",
      "[14] x^2i mod f = x^25 + x^23 + x^17 + x^16 + x^13 + x^10 + x^9 + x^8 + x^4 + x^2\n",
      "[15] x^2i mod f = x^25 + x^24 + x^22 + x^19 + x^18 + x^16 + x^11 + x^10 + x^9 + x^8 + x^7 + x^6 + x^4 + x^3 + x\n",
      "[16] x^2i mod f = x^23 + x^22 + x^20 + x^18 + x^16 + x^14 + x^13 + x^10 + x^8 + x^5 + x^2 + x + 1\n",
      "[17] x^2i mod f = x^25 + x^24 + x^22 + x^20 + x^18 + x^16 + x^15 + x^12 + x^10 + x^7 + x^4 + x^3 + x^2\n",
      "[18] x^2i mod f = x^23 + x^21 + x^20 + x^18 + x^17 + x^16 + x^11 + x^5 + x^4 + x^3 + x^2 + x + 1\n",
      "[19] x^2i mod f = x^25 + x^23 + x^22 + x^20 + x^19 + x^18 + x^13 + x^7 + x^6 + x^5 + x^4 + x^3 + x^2\n",
      "[20] x^2i mod f = x^25 + x^21 + x^20 + x^16 + x^12 + x^6 + x^5 + x^4 + x^3 + x\n",
      "[21] x^2i mod f = x^24 + x^23 + x^18 + x^16 + x^15 + x^14 + x^12 + x^9 + x^6 + x^5 + x\n",
      "[22] x^2i mod f = x^25 + x^23 + x^21 + x^20 + x^18 + x^17 + x^16 + x^15 + x^6 + x^3 + x^2 + 1\n",
      "[23] x^2i mod f = x^25 + x^24 + x^23 + x^20 + x^19 + x^18 + x^17 + x^16 + x^15 + x^12 + x^9 + x^7 + x^5 + x^4 + x^3 + x^2 + x\n",
      "[24] x^2i mod f = x^25 + x^24 + x^23 + x^20 + x^19 + x^18 + x^17 + x^16 + x^12 + x^7 + x^5 + x^4 + x^2 + x + 1\n",
      "[25] x^2i mod f = x^25 + x^24 + x^23 + x^20 + x^19 + x^18 + x^16 + x^12 + x^11 + x^7 + x^4 + x + 1\n",
      "[1 0 0 0 0 0 0 0 0 0 0 0 0 0 0 0 0 0 0 0 0 0 0 0 0 0]\n",
      "[0 0 1 0 0 0 0 0 0 0 0 0 0 0 0 0 0 0 0 0 0 0 0 0 0 0]\n",
      "[0 0 0 0 1 0 0 0 0 0 0 0 0 0 0 0 0 0 0 0 0 0 0 0 0 0]\n",
      "[0 0 0 0 0 0 1 0 0 0 0 0 0 0 0 0 0 0 0 0 0 0 0 0 0 0]\n",
      "[0 0 0 0 0 0 0 0 1 0 0 0 0 0 0 0 0 0 0 0 0 0 0 0 0 0]\n",
      "[0 0 0 0 0 0 0 0 0 0 1 0 0 0 0 0 0 0 0 0 0 0 0 0 0 0]\n",
      "[0 0 0 0 0 0 0 0 0 0 0 0 1 0 0 0 0 0 0 0 0 0 0 0 0 0]\n",
      "[0 0 0 0 0 0 0 0 0 0 0 0 0 0 1 0 0 0 0 0 0 0 0 0 0 0]\n",
      "[0 0 0 0 0 0 0 0 0 0 0 0 0 0 0 0 1 0 0 0 0 0 0 0 0 0]\n",
      "[0 0 0 0 0 0 0 0 0 0 0 0 0 0 0 0 0 0 1 0 0 0 0 0 0 0]\n",
      "[0 0 0 0 0 0 0 0 0 0 0 0 0 0 0 0 0 0 0 0 1 0 0 0 0 0]\n",
      "[0 0 0 0 0 0 0 0 0 0 0 0 0 0 0 0 0 0 0 0 0 0 1 0 0 0]\n",
      "[0 0 0 0 0 0 0 0 0 0 0 0 0 0 0 0 0 0 0 0 0 0 0 0 1 0]\n",
      "[1 0 1 0 0 0 1 1 1 0 0 1 0 0 1 1 0 0 0 0 0 1 0 1 0 0]\n",
      "[0 0 1 0 1 0 0 0 1 1 1 0 0 1 0 0 1 1 0 0 0 0 0 1 0 1]\n",
      "[0 1 0 1 1 0 1 1 1 1 1 1 0 0 0 0 1 0 1 1 0 0 1 0 1 1]\n",
      "[1 1 1 0 0 1 0 0 1 0 1 0 0 1 1 0 1 0 1 0 1 0 1 1 0 0]\n",
      "[0 0 1 1 1 0 0 1 0 0 1 0 1 0 0 1 1 0 1 0 1 0 1 0 1 1]\n",
      "[1 1 1 1 1 1 0 0 0 0 0 1 0 0 0 0 1 1 1 0 1 1 0 1 0 0]\n",
      "[0 0 1 1 1 1 1 1 0 0 0 0 0 1 0 0 0 0 1 1 1 0 1 1 0 1]\n",
      "[0 1 0 1 1 1 1 0 0 0 0 0 1 0 0 0 1 0 0 0 1 1 0 0 0 1]\n",
      "[0 1 0 0 0 1 1 0 0 1 0 0 1 0 1 1 1 0 1 0 0 0 0 1 1 0]\n",
      "[1 0 1 1 0 0 1 0 0 0 0 0 0 0 0 1 1 1 1 0 1 1 0 1 0 1]\n",
      "[0 1 1 1 1 1 0 1 0 1 0 0 1 0 0 1 1 1 1 1 1 0 0 1 1 1]\n",
      "[1 1 1 0 1 1 0 1 0 0 0 0 1 0 0 0 1 1 1 1 1 0 0 1 1 1]\n",
      "[1 1 0 0 1 0 0 1 0 0 0 1 1 0 0 0 1 0 1 1 1 0 0 1 1 1]\n"
     ]
    }
   ],
   "source": [
    "# Ejemplo diapos\n",
    "print(calcular_B(x^5+x^2+1, 2, Z2))\n",
    "print()\n",
    "# Ejemplo wuolah\n",
    "print(calcular_B(x^26+x^23+x^21+x^15+x^14+x^11+x^8+x^7+x^6+x^2+1, 2, Z2))"
   ]
  },
  {
   "cell_type": "code",
   "execution_count": 52,
   "metadata": {},
   "outputs": [
    {
     "name": "stdout",
     "output_type": "stream",
     "text": [
      "[0] x^2i mod f = 1\n",
      "[1] x^2i mod f = x^2\n",
      "[2] x^2i mod f = x^4\n",
      "[3] x^2i mod f = x^6\n",
      "[4] x^2i mod f = x^8\n",
      "[5] x^2i mod f = x^10\n",
      "[6] x^2i mod f = x^12\n",
      "[7] x^2i mod f = x^14\n",
      "[8] x^2i mod f = x^16\n",
      "[9] x^2i mod f = x^18\n",
      "[10] x^2i mod f = x^20\n",
      "[11] x^2i mod f = x^22\n",
      "[12] x^2i mod f = x^24\n",
      "[13] x^2i mod f = x^23 + x^21 + x^17 + x^15 + x^13 + x^11 + x^10 + x^8 + x^6 + x^5 + 1\n",
      "[14] x^2i mod f = x^25 + x^23 + x^19 + x^17 + x^15 + x^13 + x^12 + x^10 + x^8 + x^7 + x^2\n",
      "[15] x^2i mod f = x^25 + x^24 + x^22 + x^21 + x^19 + x^18 + x^17 + x^16 + x^15 + x^11 + x^10 + x^7 + x^6 + x^4 + x\n",
      "[16] x^2i mod f = x^22 + x^20 + x^19 + x^16 + x^15 + x^14 + x^10 + x^7 + x^6 + x^5 + x^3 + x + 1\n",
      "[17] x^2i mod f = x^24 + x^22 + x^21 + x^18 + x^17 + x^16 + x^12 + x^9 + x^8 + x^7 + x^5 + x^3 + x^2\n",
      "[18] x^2i mod f = x^24 + x^21 + x^20 + x^19 + x^18 + x^17 + x^15 + x^14 + x^13 + x^9 + x^8 + x^7 + x^6 + x^4 + 1\n",
      "[19] x^2i mod f = x^22 + x^20 + x^19 + x^16 + x^13 + x^9 + x^5 + x^2 + 1\n",
      "[20] x^2i mod f = x^24 + x^22 + x^21 + x^18 + x^15 + x^11 + x^7 + x^4 + x^2\n",
      "[21] x^2i mod f = x^24 + x^21 + x^20 + x^15 + x^11 + x^10 + x^9 + x^8 + x^5 + x^4 + 1\n",
      "[22] x^2i mod f = x^22 + x^21 + x^15 + x^12 + x^8 + x^7 + x^5 + x^2 + 1\n",
      "[23] x^2i mod f = x^24 + x^23 + x^17 + x^14 + x^10 + x^9 + x^7 + x^4 + x^2\n",
      "[24] x^2i mod f = x^25 + x^23 + x^21 + x^19 + x^17 + x^16 + x^15 + x^13 + x^12 + x^10 + x^9 + x^8 + x^5 + x^4 + 1\n",
      "[25] x^2i mod f = x^25 + x^24 + x^23 + x^22 + x^21 + x^19 + x^17 + x^16 + x^15 + x^10 + x^9 + x^2 + x\n"
     ]
    }
   ],
   "source": [
    "B = calcular_B(g, 2, Z2)"
   ]
  },
  {
   "cell_type": "code",
   "execution_count": 53,
   "metadata": {},
   "outputs": [
    {
     "name": "stdout",
     "output_type": "stream",
     "text": [
      "[1 0 0 0 0 0 0 0 0 0 0 0 0 0 0 0 0 0 0 0 0 0 0 0 0 0]\n",
      "[0 0 1 0 0 0 0 0 0 0 0 0 0 0 0 0 0 0 0 0 0 0 0 0 0 0]\n",
      "[0 0 0 0 1 0 0 0 0 0 0 0 0 0 0 0 0 0 0 0 0 0 0 0 0 0]\n",
      "[0 0 0 0 0 0 1 0 0 0 0 0 0 0 0 0 0 0 0 0 0 0 0 0 0 0]\n",
      "[0 0 0 0 0 0 0 0 1 0 0 0 0 0 0 0 0 0 0 0 0 0 0 0 0 0]\n",
      "[0 0 0 0 0 0 0 0 0 0 1 0 0 0 0 0 0 0 0 0 0 0 0 0 0 0]\n",
      "[0 0 0 0 0 0 0 0 0 0 0 0 1 0 0 0 0 0 0 0 0 0 0 0 0 0]\n",
      "[0 0 0 0 0 0 0 0 0 0 0 0 0 0 1 0 0 0 0 0 0 0 0 0 0 0]\n",
      "[0 0 0 0 0 0 0 0 0 0 0 0 0 0 0 0 1 0 0 0 0 0 0 0 0 0]\n",
      "[0 0 0 0 0 0 0 0 0 0 0 0 0 0 0 0 0 0 1 0 0 0 0 0 0 0]\n",
      "[0 0 0 0 0 0 0 0 0 0 0 0 0 0 0 0 0 0 0 0 1 0 0 0 0 0]\n",
      "[0 0 0 0 0 0 0 0 0 0 0 0 0 0 0 0 0 0 0 0 0 0 1 0 0 0]\n",
      "[0 0 0 0 0 0 0 0 0 0 0 0 0 0 0 0 0 0 0 0 0 0 0 0 1 0]\n",
      "[1 0 0 0 0 1 1 0 1 0 1 1 0 1 0 1 0 1 0 0 0 1 0 1 0 0]\n",
      "[0 0 1 0 0 0 0 1 1 0 1 0 1 1 0 1 0 1 0 1 0 0 0 1 0 1]\n",
      "[0 1 0 0 1 0 1 1 0 0 1 1 0 0 0 1 1 1 1 1 0 1 1 0 1 1]\n",
      "[1 1 0 1 0 1 1 1 0 0 1 0 0 0 1 1 1 0 0 1 1 0 1 0 0 0]\n",
      "[0 0 1 1 0 1 0 1 1 1 0 0 1 0 0 0 1 1 1 0 0 1 1 0 1 0]\n",
      "[1 0 0 0 1 0 1 1 1 1 0 0 0 1 1 1 0 1 1 1 1 1 0 0 1 0]\n",
      "[1 0 1 0 0 1 0 0 0 1 0 0 0 1 0 0 1 0 0 1 1 0 1 0 0 0]\n",
      "[0 0 1 0 1 0 0 1 0 0 0 1 0 0 0 1 0 0 1 0 0 1 1 0 1 0]\n",
      "[1 0 0 0 1 1 0 0 1 1 1 1 0 0 0 1 0 0 0 0 1 1 0 0 1 0]\n",
      "[1 0 1 0 0 1 0 1 1 0 0 0 1 0 0 1 0 0 0 0 0 1 1 0 0 0]\n",
      "[0 0 1 0 1 0 0 1 0 1 1 0 0 0 1 0 0 1 0 0 0 0 0 1 1 0]\n",
      "[1 0 0 0 1 1 0 0 1 1 1 0 1 1 0 1 1 1 0 1 0 1 0 1 0 1]\n",
      "[0 1 1 0 0 0 0 0 0 1 1 0 0 0 0 1 1 1 0 1 0 1 1 1 1 1]\n"
     ]
    }
   ],
   "source": [
    "print(B)"
   ]
  },
  {
   "cell_type": "markdown",
   "metadata": {},
   "source": [
    "Ahora que tenemos construida B, vamos a resolver (B-Id)X=0"
   ]
  },
  {
   "cell_type": "code",
   "execution_count": 57,
   "metadata": {},
   "outputs": [
    {
     "name": "stdout",
     "output_type": "stream",
     "text": [
      "26\n",
      "23\n"
     ]
    }
   ],
   "source": [
    "Id = Matrix.identity(g.degree())\n",
    "print(B.rank())\n",
    "print((B-Id).rank())\n"
   ]
  },
  {
   "cell_type": "markdown",
   "metadata": {},
   "source": [
    "El rango de B-Id es 23, luego la dimensión de $V_1=26-23=3$. Por tanto, hay $3$ soluciones."
   ]
  },
  {
   "cell_type": "code",
   "execution_count": 69,
   "metadata": {},
   "outputs": [
    {
     "name": "stdout",
     "output_type": "stream",
     "text": [
      "[0] x^2i mod f = 1\n",
      "[1] x^2i mod f = x^2\n",
      "[2] x^2i mod f = x^4\n",
      "[3] x^2i mod f = x^2 + x\n",
      "[4] x^2i mod f = x^4 + x^3\n",
      "Free module of degree 5 and rank 2 over Univariate Polynomial Ring in x over Finite Field of size 2 (using GF2X)\n",
      "Echelon basis matrix:\n",
      "[1 0 0 0 0]\n",
      "[0 1 0 1 1]\n",
      "[0] x^2i mod f = 1\n",
      "[1] x^2i mod f = x^2\n",
      "[2] x^2i mod f = x^4\n",
      "[3] x^2i mod f = x^6\n",
      "[4] x^2i mod f = x^8\n",
      "[5] x^2i mod f = x^10\n",
      "[6] x^2i mod f = x^12\n",
      "[7] x^2i mod f = x^14\n",
      "[8] x^2i mod f = x^16\n",
      "[9] x^2i mod f = x^18\n",
      "[10] x^2i mod f = x^20\n",
      "[11] x^2i mod f = x^22\n",
      "[12] x^2i mod f = x^24\n",
      "[13] x^2i mod f = x^23 + x^21 + x^15 + x^14 + x^11 + x^8 + x^7 + x^6 + x^2 + 1\n",
      "[14] x^2i mod f = x^25 + x^23 + x^17 + x^16 + x^13 + x^10 + x^9 + x^8 + x^4 + x^2\n",
      "[15] x^2i mod f = x^25 + x^24 + x^22 + x^19 + x^18 + x^16 + x^11 + x^10 + x^9 + x^8 + x^7 + x^6 + x^4 + x^3 + x\n",
      "[16] x^2i mod f = x^23 + x^22 + x^20 + x^18 + x^16 + x^14 + x^13 + x^10 + x^8 + x^5 + x^2 + x + 1\n",
      "[17] x^2i mod f = x^25 + x^24 + x^22 + x^20 + x^18 + x^16 + x^15 + x^12 + x^10 + x^7 + x^4 + x^3 + x^2\n",
      "[18] x^2i mod f = x^23 + x^21 + x^20 + x^18 + x^17 + x^16 + x^11 + x^5 + x^4 + x^3 + x^2 + x + 1\n",
      "[19] x^2i mod f = x^25 + x^23 + x^22 + x^20 + x^19 + x^18 + x^13 + x^7 + x^6 + x^5 + x^4 + x^3 + x^2\n",
      "[20] x^2i mod f = x^25 + x^21 + x^20 + x^16 + x^12 + x^6 + x^5 + x^4 + x^3 + x\n",
      "[21] x^2i mod f = x^24 + x^23 + x^18 + x^16 + x^15 + x^14 + x^12 + x^9 + x^6 + x^5 + x\n",
      "[22] x^2i mod f = x^25 + x^23 + x^21 + x^20 + x^18 + x^17 + x^16 + x^15 + x^6 + x^3 + x^2 + 1\n",
      "[23] x^2i mod f = x^25 + x^24 + x^23 + x^20 + x^19 + x^18 + x^17 + x^16 + x^15 + x^12 + x^9 + x^7 + x^5 + x^4 + x^3 + x^2 + x\n",
      "[24] x^2i mod f = x^25 + x^24 + x^23 + x^20 + x^19 + x^18 + x^17 + x^16 + x^12 + x^7 + x^5 + x^4 + x^2 + x + 1\n",
      "[25] x^2i mod f = x^25 + x^24 + x^23 + x^20 + x^19 + x^18 + x^16 + x^12 + x^11 + x^7 + x^4 + x + 1\n",
      "Free module of degree 26 and rank 2 over Univariate Polynomial Ring in x over Finite Field of size 2 (using GF2X)\n",
      "Echelon basis matrix:\n",
      "[1 0 0 0 0 0 0 0 0 0 0 0 0 0 0 0 0 0 0 0 0 0 0 0 0 0]\n",
      "[0 1 1 1 0 1 1 0 0 1 1 1 0 1 0 0 1 1 0 0 0 0 1 1 1 0]\n"
     ]
    }
   ],
   "source": [
    "Ka = (calcular_B(x^5+x+1, 2, Z2)-Matrix.identity(5)).left_kernel()\n",
    "print(Ka)\n",
    "\n",
    "# Ejemplo wuolah\n",
    "Ka = (calcular_B(x^26+x^23+x^21+x^15+x^14+x^11+x^8+x^7+x^6+x^2+1, 2, Z2)-Id).left_kernel()\n",
    "print(Ka)"
   ]
  },
  {
   "cell_type": "code",
   "execution_count": 70,
   "metadata": {},
   "outputs": [
    {
     "name": "stdout",
     "output_type": "stream",
     "text": [
      "Full MatrixSpace of 26 by 26 dense matrices over Univariate Polynomial Ring in x over Finite Field of size 2 (using GF2X)\n",
      "Vector space of dimension 26 over Finite Field of size 2\n",
      "Free module of degree 26 and rank 3 over Univariate Polynomial Ring in x over Finite Field of size 2 (using GF2X)\n",
      "Echelon basis matrix:\n",
      "[1 0 0 0 0 0 0 0 0 0 0 0 0 0 0 0 0 0 0 0 0 0 0 0 0 0]\n",
      "[0 1 0 1 1 1 1 0 0 0 1 0 1 0 1 0 1 0 1 1 0 0 0 1 1 0]\n",
      "[0 0 1 0 0 1 0 1 0 0 0 0 1 1 0 0 1 1 0 0 1 0 0 0 0 1]\n"
     ]
    }
   ],
   "source": [
    "# AX=C\n",
    "A = B-Id\n",
    "print(A.parent())\n",
    "C = vector(GF(2), [0] * g.degree())\n",
    "print(C.parent())\n",
    "\n",
    "K = A.left_kernel()\n",
    "\n",
    "print(K)\n",
    "\n"
   ]
  },
  {
   "cell_type": "markdown",
   "metadata": {},
   "source": [
    "Luego obtenemos los polinomios:\n",
    "$$f_1(x) = 1$$\n",
    "$$f_2(x) = x+x^3+x^4+x^5+x^6+x^{10}+x^{12}+x^{14}+x^{16}+x^{18}+x^{19}+x^{23}+x^{24}$$\n",
    "$$f_3(x) = x^2+x^5+x^7+x^{12}+x^{13}+x^{16}+x^{17}+x^{20}+x^{25}$$"
   ]
  },
  {
   "cell_type": "code",
   "execution_count": 71,
   "metadata": {},
   "outputs": [],
   "source": [
    "f1 = 1\n",
    "f2 = x+x^3+x^4+x^5+x^6+x^10+x^12+x^14+x^16+x^18+x^19+x^23+x^24\n",
    "f3 = x^2+x^5+x^7+x^12+x^13+x^16+x^17+x^20+x^25"
   ]
  },
  {
   "cell_type": "code",
   "execution_count": 76,
   "metadata": {},
   "outputs": [
    {
     "name": "stdout",
     "output_type": "stream",
     "text": [
      "1\n",
      "x^26 + x^23 + x^21 + x^17 + x^15 + x^13 + x^11 + x^10 + x^8 + x^6 + x^5 + 1\n",
      "x^26 + x^23 + x^21 + x^17 + x^15 + x^13 + x^11 + x^10 + x^8 + x^6 + x^5 + 1\n",
      "COINCIDE\n",
      "\n",
      "x^2 + x + 1\n",
      "x^24 + x^23 + x^19 + x^18 + x^16 + x^14 + x^12 + x^10 + x^6 + x^5 + x^4 + x^3 + x + 1\n",
      "x^26 + x^23 + x^21 + x^17 + x^15 + x^13 + x^11 + x^10 + x^8 + x^6 + x^5 + 1\n",
      "COINCIDE\n",
      "\n",
      "x^23 + x^18 + x^15 + x^14 + x^11 + x^10 + x^5 + x^3 + 1\n",
      "x^3 + 1\n",
      "x^26 + x^23 + x^21 + x^17 + x^15 + x^13 + x^11 + x^10 + x^8 + x^6 + x^5 + 1\n",
      "COINCIDE\n",
      "\n"
     ]
    }
   ],
   "source": [
    "print(gcd(g, f1))\n",
    "div = gcd(g, f1)\n",
    "a = g/div\n",
    "print(a)\n",
    "print(a*div)\n",
    "if (a*div == g):\n",
    "    print(\"COINCIDE\")\n",
    "print()\n",
    "\n",
    "print(gcd(g, f2))\n",
    "div = gcd(g, f2)\n",
    "a = g/div\n",
    "print(a)\n",
    "print(a*div)\n",
    "if (a*div == g):\n",
    "    print(\"COINCIDE\")\n",
    "print()\n",
    "\n",
    "print(gcd(g, f3))\n",
    "div = gcd(g, f3)\n",
    "a = g/div\n",
    "print(a)\n",
    "print(a*div)\n",
    "if (a*div == g):\n",
    "    print(\"COINCIDE\")\n",
    "print()"
   ]
  },
  {
   "cell_type": "markdown",
   "metadata": {},
   "source": [
    "Creo que tenemos que $f_2$ y $f_3$ son g-reductores. Pero no se hace asi, faltan cosas y va en el siguiente apartado creo"
   ]
  },
  {
   "cell_type": "markdown",
   "metadata": {},
   "source": [
    "**iii) Aplica Berlekamp si es necesario recursivamente para hallar la descomposiciónen irreducibles de g(x) en $\\mathbb{Z}_2[x]$.**"
   ]
  },
  {
   "cell_type": "code",
   "execution_count": null,
   "metadata": {},
   "outputs": [],
   "source": []
  },
  {
   "cell_type": "code",
   "execution_count": null,
   "metadata": {},
   "outputs": [],
   "source": []
  },
  {
   "cell_type": "code",
   "execution_count": null,
   "metadata": {},
   "outputs": [],
   "source": []
  },
  {
   "cell_type": "markdown",
   "metadata": {},
   "source": [
    "**iv) Haz lo mismo para hallar la descomposición en irreducibles de f(x) mod 3**"
   ]
  },
  {
   "cell_type": "code",
   "execution_count": null,
   "metadata": {},
   "outputs": [],
   "source": []
  },
  {
   "cell_type": "code",
   "execution_count": null,
   "metadata": {},
   "outputs": [],
   "source": []
  },
  {
   "cell_type": "code",
   "execution_count": null,
   "metadata": {},
   "outputs": [],
   "source": []
  },
  {
   "cell_type": "markdown",
   "metadata": {},
   "source": [
    "**v) ¿ Qué deduces sobre la reducibilidad de f(x) en $\\mathbb{Z}[x]$ ?**"
   ]
  },
  {
   "cell_type": "code",
   "execution_count": null,
   "metadata": {},
   "outputs": [],
   "source": []
  },
  {
   "cell_type": "code",
   "execution_count": null,
   "metadata": {},
   "outputs": [],
   "source": []
  },
  {
   "cell_type": "code",
   "execution_count": null,
   "metadata": {},
   "outputs": [],
   "source": []
  }
 ],
 "metadata": {
  "kernelspec": {
   "display_name": "SageMath 9.1",
   "language": "sage",
   "name": "sagemath"
  },
  "language_info": {
   "codemirror_mode": {
    "name": "ipython",
    "version": 3
   },
   "file_extension": ".py",
   "mimetype": "text/x-python",
   "name": "python",
   "nbconvert_exporter": "python",
   "pygments_lexer": "ipython3",
   "version": "3.7.3"
  }
 },
 "nbformat": 4,
 "nbformat_minor": 5
}
