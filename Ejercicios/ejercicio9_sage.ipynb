{
 "cells": [
  {
   "cell_type": "markdown",
   "metadata": {},
   "source": [
    "# Ejercicio 9\n",
    "\n",
    "> Por: Mapachana\n",
    "\n",
    "**Toma n tu número publicado para el ejer_ 2. Escríbe n en base 2, usa esas cifras para definir un polinomio, f(x), donde tu bit más significativo defina el grado del polinomio n, el siguiente bit va multiplicado por $x^{n-1}$ y sucesivamente hasta que el bit menos significativo sea el término independiente.El polinomio que obtienes es universal en el sentido de que tiene coeficientes en cualquier anillo**\n",
    "\n",
    "**Sea f(x) el polinomio que obtienes con coeficientes en $\\mathbb{Z}$**"
   ]
  },
  {
   "cell_type": "code",
   "execution_count": 73,
   "metadata": {
    "scrolled": true
   },
   "outputs": [
    {
     "name": "stdout",
     "output_type": "stream",
     "text": [
      "77770081\n"
     ]
    },
    {
     "data": {
      "text/plain": [
       "'100101000101010110101100001'"
      ]
     },
     "execution_count": 73,
     "metadata": {},
     "output_type": "execute_result"
    }
   ],
   "source": [
    "n = 77770081\n",
    "print(n)\n",
    "n.binary()"
   ]
  },
  {
   "cell_type": "code",
   "execution_count": 74,
   "metadata": {},
   "outputs": [],
   "source": [
    "import numpy as np"
   ]
  },
  {
   "cell_type": "code",
   "execution_count": 75,
   "metadata": {},
   "outputs": [
    {
     "name": "stdout",
     "output_type": "stream",
     "text": [
      "x^26 + x^23 + x^21 + x^17 + x^15 + x^13 + x^11 + x^10 + x^8 + x^6 + x^5 + 1\n"
     ]
    }
   ],
   "source": [
    "Z2 = PolynomialRing(GF(2), 'x')\n",
    "x = Z2.gen()\n",
    "g = x^26+x^23+x^21+x^17+x^15+x^13+x^11+x^10+x^8+x^6+x^5+1\n",
    "print(g)"
   ]
  },
  {
   "cell_type": "markdown",
   "metadata": {},
   "source": [
    "**i) Toma g(x) = f(x) mod 2 y halla el menor cuerpo de característica 2 que contenga a todas las raíces de g. ¿ Qué deduces sobre la irreducibilidad de g(x) en $\\mathbb{Z}_2[x]$ ?.**"
   ]
  },
  {
   "cell_type": "code",
   "execution_count": 76,
   "metadata": {},
   "outputs": [],
   "source": [
    "def menor_cuerpo(modulo, p, x):\n",
    "    g = x^p\n",
    "    g1 = (g-x).mod(modulo)\n",
    "    k = 1\n",
    "    \n",
    "    while g1 != 0:\n",
    "        g = (g^p).mod(modulo)\n",
    "        g1 = (g - x).mod(modulo)\n",
    "        k = k + 1\n",
    "        \n",
    "    print(k)\n",
    "    return k\n",
    "        "
   ]
  },
  {
   "cell_type": "code",
   "execution_count": 77,
   "metadata": {},
   "outputs": [
    {
     "name": "stdout",
     "output_type": "stream",
     "text": [
      "33\n",
      "153\n",
      "1\n"
     ]
    },
    {
     "data": {
      "text/plain": [
       "1"
      ]
     },
     "execution_count": 77,
     "metadata": {},
     "output_type": "execute_result"
    }
   ],
   "source": [
    "# Ejemplo profe\n",
    "menor_cuerpo(1+x+x^2+x^3+x^4+x^6+x^7+x^8+x^10+x^11+x^14, 2, x)\n",
    "# Ejemplo wuolah\n",
    "menor_cuerpo(x^26+x^23+x^21+x^15+x^14+x^11+x^8+x^7+x^6+x^2+1, 2, x)\n",
    "# Ejemplo mio\n",
    "menor_cuerpo(x^2+x, 2, x)"
   ]
  },
  {
   "cell_type": "code",
   "execution_count": 78,
   "metadata": {},
   "outputs": [
    {
     "name": "stdout",
     "output_type": "stream",
     "text": [
      "46\n"
     ]
    },
    {
     "data": {
      "text/plain": [
       "46"
      ]
     },
     "execution_count": 78,
     "metadata": {},
     "output_type": "execute_result"
    }
   ],
   "source": [
    "menor_cuerpo(g, 2, x)"
   ]
  },
  {
   "cell_type": "code",
   "execution_count": 79,
   "metadata": {},
   "outputs": [
    {
     "data": {
      "text/plain": [
       "2 * 23"
      ]
     },
     "execution_count": 79,
     "metadata": {},
     "output_type": "execute_result"
    }
   ],
   "source": [
    "factor(46)"
   ]
  },
  {
   "cell_type": "markdown",
   "metadata": {},
   "source": [
    "El menor cuerpo de característica 2 que contiene a todas las raíces de $g$ es $F_{2^{46}}=F_{2^{2\\cdot 23}}$. Como tenemos que $46>26$ entonces $g(x)$ es reducible en $\\mathbb{Z}_2[x]$. Además, sabemos que los factores en los que se descomponga $g$ serán de grado un divisor de $46$, esto es, $1$, $2$ o $23$. "
   ]
  },
  {
   "cell_type": "code",
   "execution_count": 80,
   "metadata": {},
   "outputs": [
    {
     "data": {
      "text/plain": [
       "False"
      ]
     },
     "execution_count": 80,
     "metadata": {},
     "output_type": "execute_result"
    }
   ],
   "source": [
    "g.is_irreducible()"
   ]
  },
  {
   "cell_type": "markdown",
   "metadata": {},
   "source": [
    "**ii) Extrae la parte libre de cuadrados de g(x) y le calculas su matriz de Berlekamp por columnas. Resuelve el s.l. (B-Id)X=0.**"
   ]
  },
  {
   "cell_type": "code",
   "execution_count": 81,
   "metadata": {},
   "outputs": [
    {
     "name": "stdout",
     "output_type": "stream",
     "text": [
      "x^26 + x^23 + x^21 + x^17 + x^15 + x^13 + x^11 + x^10 + x^8 + x^6 + x^5 + 1\n",
      "x^22 + x^20 + x^16 + x^14 + x^12 + x^10 + x^4\n",
      "1\n"
     ]
    }
   ],
   "source": [
    "print(g)\n",
    "print(g.derivative())\n",
    "print(gcd(g, g.derivative()))"
   ]
  },
  {
   "cell_type": "markdown",
   "metadata": {},
   "source": [
    "Tenemos que el máximo común divisor de $g$ y su derivada es $(g, g')=1$, luego $g$ es libre de cuadrados. Pasamos por tanto a calcular su matriz de Berlekamp por columnas:"
   ]
  },
  {
   "cell_type": "code",
   "execution_count": 82,
   "metadata": {},
   "outputs": [],
   "source": [
    "def calcular_B(g, p, cuerpo):\n",
    "    # g esta definido sobre cuerpo (en nuestro caso Z2 o Z3)\n",
    "    x = cuerpo.gen()\n",
    "    B = np.zeros([g.degree(), g.degree()], dtype = int)\n",
    "\n",
    "    for i in range(0, g.degree()):\n",
    "        coeficientes = [0] * g.degree()\n",
    "\n",
    "        pol = (x^(p*i)).mod(g)\n",
    "        #pol = pol.mod(g)\n",
    "        print(\"[\" + str(i) + \"] x^2i mod f = \" + str(pol))\n",
    "\n",
    "        for j, coef in enumerate(pol.coefficients(sparse = False)):\n",
    "            coeficientes[j] = coef\n",
    "\n",
    "        B[i, :] = coeficientes\n",
    "    return Matrix(cuerpo, B.tolist())\n",
    "\n",
    "#B = calcular_B(g, 2, Z2)\n"
   ]
  },
  {
   "cell_type": "code",
   "execution_count": 83,
   "metadata": {},
   "outputs": [
    {
     "name": "stdout",
     "output_type": "stream",
     "text": [
      "[0] x^2i mod f = 1\n",
      "[1] x^2i mod f = x^2\n",
      "[2] x^2i mod f = x^4\n",
      "[3] x^2i mod f = x^3 + x\n",
      "[4] x^2i mod f = x^3 + x^2 + 1\n",
      "[1 0 0 0 0]\n",
      "[0 0 1 0 0]\n",
      "[0 0 0 0 1]\n",
      "[0 1 0 1 0]\n",
      "[1 0 1 1 0]\n",
      "\n",
      "[0] x^2i mod f = 1\n",
      "[1] x^2i mod f = x^2\n",
      "[2] x^2i mod f = x^4\n",
      "[3] x^2i mod f = x^6\n",
      "[4] x^2i mod f = x^8\n",
      "[5] x^2i mod f = x^10\n",
      "[6] x^2i mod f = x^12\n",
      "[7] x^2i mod f = x^14\n",
      "[8] x^2i mod f = x^16\n",
      "[9] x^2i mod f = x^18\n",
      "[10] x^2i mod f = x^20\n",
      "[11] x^2i mod f = x^22\n",
      "[12] x^2i mod f = x^24\n",
      "[13] x^2i mod f = x^23 + x^21 + x^15 + x^14 + x^11 + x^8 + x^7 + x^6 + x^2 + 1\n",
      "[14] x^2i mod f = x^25 + x^23 + x^17 + x^16 + x^13 + x^10 + x^9 + x^8 + x^4 + x^2\n",
      "[15] x^2i mod f = x^25 + x^24 + x^22 + x^19 + x^18 + x^16 + x^11 + x^10 + x^9 + x^8 + x^7 + x^6 + x^4 + x^3 + x\n",
      "[16] x^2i mod f = x^23 + x^22 + x^20 + x^18 + x^16 + x^14 + x^13 + x^10 + x^8 + x^5 + x^2 + x + 1\n",
      "[17] x^2i mod f = x^25 + x^24 + x^22 + x^20 + x^18 + x^16 + x^15 + x^12 + x^10 + x^7 + x^4 + x^3 + x^2\n",
      "[18] x^2i mod f = x^23 + x^21 + x^20 + x^18 + x^17 + x^16 + x^11 + x^5 + x^4 + x^3 + x^2 + x + 1\n",
      "[19] x^2i mod f = x^25 + x^23 + x^22 + x^20 + x^19 + x^18 + x^13 + x^7 + x^6 + x^5 + x^4 + x^3 + x^2\n",
      "[20] x^2i mod f = x^25 + x^21 + x^20 + x^16 + x^12 + x^6 + x^5 + x^4 + x^3 + x\n",
      "[21] x^2i mod f = x^24 + x^23 + x^18 + x^16 + x^15 + x^14 + x^12 + x^9 + x^6 + x^5 + x\n",
      "[22] x^2i mod f = x^25 + x^23 + x^21 + x^20 + x^18 + x^17 + x^16 + x^15 + x^6 + x^3 + x^2 + 1\n",
      "[23] x^2i mod f = x^25 + x^24 + x^23 + x^20 + x^19 + x^18 + x^17 + x^16 + x^15 + x^12 + x^9 + x^7 + x^5 + x^4 + x^3 + x^2 + x\n",
      "[24] x^2i mod f = x^25 + x^24 + x^23 + x^20 + x^19 + x^18 + x^17 + x^16 + x^12 + x^7 + x^5 + x^4 + x^2 + x + 1\n",
      "[25] x^2i mod f = x^25 + x^24 + x^23 + x^20 + x^19 + x^18 + x^16 + x^12 + x^11 + x^7 + x^4 + x + 1\n",
      "[1 0 0 0 0 0 0 0 0 0 0 0 0 0 0 0 0 0 0 0 0 0 0 0 0 0]\n",
      "[0 0 1 0 0 0 0 0 0 0 0 0 0 0 0 0 0 0 0 0 0 0 0 0 0 0]\n",
      "[0 0 0 0 1 0 0 0 0 0 0 0 0 0 0 0 0 0 0 0 0 0 0 0 0 0]\n",
      "[0 0 0 0 0 0 1 0 0 0 0 0 0 0 0 0 0 0 0 0 0 0 0 0 0 0]\n",
      "[0 0 0 0 0 0 0 0 1 0 0 0 0 0 0 0 0 0 0 0 0 0 0 0 0 0]\n",
      "[0 0 0 0 0 0 0 0 0 0 1 0 0 0 0 0 0 0 0 0 0 0 0 0 0 0]\n",
      "[0 0 0 0 0 0 0 0 0 0 0 0 1 0 0 0 0 0 0 0 0 0 0 0 0 0]\n",
      "[0 0 0 0 0 0 0 0 0 0 0 0 0 0 1 0 0 0 0 0 0 0 0 0 0 0]\n",
      "[0 0 0 0 0 0 0 0 0 0 0 0 0 0 0 0 1 0 0 0 0 0 0 0 0 0]\n",
      "[0 0 0 0 0 0 0 0 0 0 0 0 0 0 0 0 0 0 1 0 0 0 0 0 0 0]\n",
      "[0 0 0 0 0 0 0 0 0 0 0 0 0 0 0 0 0 0 0 0 1 0 0 0 0 0]\n",
      "[0 0 0 0 0 0 0 0 0 0 0 0 0 0 0 0 0 0 0 0 0 0 1 0 0 0]\n",
      "[0 0 0 0 0 0 0 0 0 0 0 0 0 0 0 0 0 0 0 0 0 0 0 0 1 0]\n",
      "[1 0 1 0 0 0 1 1 1 0 0 1 0 0 1 1 0 0 0 0 0 1 0 1 0 0]\n",
      "[0 0 1 0 1 0 0 0 1 1 1 0 0 1 0 0 1 1 0 0 0 0 0 1 0 1]\n",
      "[0 1 0 1 1 0 1 1 1 1 1 1 0 0 0 0 1 0 1 1 0 0 1 0 1 1]\n",
      "[1 1 1 0 0 1 0 0 1 0 1 0 0 1 1 0 1 0 1 0 1 0 1 1 0 0]\n",
      "[0 0 1 1 1 0 0 1 0 0 1 0 1 0 0 1 1 0 1 0 1 0 1 0 1 1]\n",
      "[1 1 1 1 1 1 0 0 0 0 0 1 0 0 0 0 1 1 1 0 1 1 0 1 0 0]\n",
      "[0 0 1 1 1 1 1 1 0 0 0 0 0 1 0 0 0 0 1 1 1 0 1 1 0 1]\n",
      "[0 1 0 1 1 1 1 0 0 0 0 0 1 0 0 0 1 0 0 0 1 1 0 0 0 1]\n",
      "[0 1 0 0 0 1 1 0 0 1 0 0 1 0 1 1 1 0 1 0 0 0 0 1 1 0]\n",
      "[1 0 1 1 0 0 1 0 0 0 0 0 0 0 0 1 1 1 1 0 1 1 0 1 0 1]\n",
      "[0 1 1 1 1 1 0 1 0 1 0 0 1 0 0 1 1 1 1 1 1 0 0 1 1 1]\n",
      "[1 1 1 0 1 1 0 1 0 0 0 0 1 0 0 0 1 1 1 1 1 0 0 1 1 1]\n",
      "[1 1 0 0 1 0 0 1 0 0 0 1 1 0 0 0 1 0 1 1 1 0 0 1 1 1]\n"
     ]
    }
   ],
   "source": [
    "# Ejemplo diapos\n",
    "print(calcular_B(x^5+x^2+1, 2, Z2))\n",
    "print()\n",
    "# Ejemplo wuolah\n",
    "print(calcular_B(x^26+x^23+x^21+x^15+x^14+x^11+x^8+x^7+x^6+x^2+1, 2, Z2))"
   ]
  },
  {
   "cell_type": "code",
   "execution_count": 84,
   "metadata": {},
   "outputs": [
    {
     "name": "stdout",
     "output_type": "stream",
     "text": [
      "[0] x^2i mod f = 1\n",
      "[1] x^2i mod f = x^2\n",
      "[2] x^2i mod f = x^4\n",
      "[3] x^2i mod f = x^6\n",
      "[4] x^2i mod f = x^8\n",
      "[5] x^2i mod f = x^10\n",
      "[6] x^2i mod f = x^12\n",
      "[7] x^2i mod f = x^14\n",
      "[8] x^2i mod f = x^16\n",
      "[9] x^2i mod f = x^18\n",
      "[10] x^2i mod f = x^20\n",
      "[11] x^2i mod f = x^22\n",
      "[12] x^2i mod f = x^24\n",
      "[13] x^2i mod f = x^23 + x^21 + x^17 + x^15 + x^13 + x^11 + x^10 + x^8 + x^6 + x^5 + 1\n",
      "[14] x^2i mod f = x^25 + x^23 + x^19 + x^17 + x^15 + x^13 + x^12 + x^10 + x^8 + x^7 + x^2\n",
      "[15] x^2i mod f = x^25 + x^24 + x^22 + x^21 + x^19 + x^18 + x^17 + x^16 + x^15 + x^11 + x^10 + x^7 + x^6 + x^4 + x\n",
      "[16] x^2i mod f = x^22 + x^20 + x^19 + x^16 + x^15 + x^14 + x^10 + x^7 + x^6 + x^5 + x^3 + x + 1\n",
      "[17] x^2i mod f = x^24 + x^22 + x^21 + x^18 + x^17 + x^16 + x^12 + x^9 + x^8 + x^7 + x^5 + x^3 + x^2\n",
      "[18] x^2i mod f = x^24 + x^21 + x^20 + x^19 + x^18 + x^17 + x^15 + x^14 + x^13 + x^9 + x^8 + x^7 + x^6 + x^4 + 1\n",
      "[19] x^2i mod f = x^22 + x^20 + x^19 + x^16 + x^13 + x^9 + x^5 + x^2 + 1\n",
      "[20] x^2i mod f = x^24 + x^22 + x^21 + x^18 + x^15 + x^11 + x^7 + x^4 + x^2\n",
      "[21] x^2i mod f = x^24 + x^21 + x^20 + x^15 + x^11 + x^10 + x^9 + x^8 + x^5 + x^4 + 1\n",
      "[22] x^2i mod f = x^22 + x^21 + x^15 + x^12 + x^8 + x^7 + x^5 + x^2 + 1\n",
      "[23] x^2i mod f = x^24 + x^23 + x^17 + x^14 + x^10 + x^9 + x^7 + x^4 + x^2\n",
      "[24] x^2i mod f = x^25 + x^23 + x^21 + x^19 + x^17 + x^16 + x^15 + x^13 + x^12 + x^10 + x^9 + x^8 + x^5 + x^4 + 1\n",
      "[25] x^2i mod f = x^25 + x^24 + x^23 + x^22 + x^21 + x^19 + x^17 + x^16 + x^15 + x^10 + x^9 + x^2 + x\n"
     ]
    }
   ],
   "source": [
    "B = calcular_B(g, 2, Z2)"
   ]
  },
  {
   "cell_type": "code",
   "execution_count": 85,
   "metadata": {},
   "outputs": [
    {
     "name": "stdout",
     "output_type": "stream",
     "text": [
      "[1 0 0 0 0 0 0 0 0 0 0 0 0 0 0 0 0 0 0 0 0 0 0 0 0 0]\n",
      "[0 0 1 0 0 0 0 0 0 0 0 0 0 0 0 0 0 0 0 0 0 0 0 0 0 0]\n",
      "[0 0 0 0 1 0 0 0 0 0 0 0 0 0 0 0 0 0 0 0 0 0 0 0 0 0]\n",
      "[0 0 0 0 0 0 1 0 0 0 0 0 0 0 0 0 0 0 0 0 0 0 0 0 0 0]\n",
      "[0 0 0 0 0 0 0 0 1 0 0 0 0 0 0 0 0 0 0 0 0 0 0 0 0 0]\n",
      "[0 0 0 0 0 0 0 0 0 0 1 0 0 0 0 0 0 0 0 0 0 0 0 0 0 0]\n",
      "[0 0 0 0 0 0 0 0 0 0 0 0 1 0 0 0 0 0 0 0 0 0 0 0 0 0]\n",
      "[0 0 0 0 0 0 0 0 0 0 0 0 0 0 1 0 0 0 0 0 0 0 0 0 0 0]\n",
      "[0 0 0 0 0 0 0 0 0 0 0 0 0 0 0 0 1 0 0 0 0 0 0 0 0 0]\n",
      "[0 0 0 0 0 0 0 0 0 0 0 0 0 0 0 0 0 0 1 0 0 0 0 0 0 0]\n",
      "[0 0 0 0 0 0 0 0 0 0 0 0 0 0 0 0 0 0 0 0 1 0 0 0 0 0]\n",
      "[0 0 0 0 0 0 0 0 0 0 0 0 0 0 0 0 0 0 0 0 0 0 1 0 0 0]\n",
      "[0 0 0 0 0 0 0 0 0 0 0 0 0 0 0 0 0 0 0 0 0 0 0 0 1 0]\n",
      "[1 0 0 0 0 1 1 0 1 0 1 1 0 1 0 1 0 1 0 0 0 1 0 1 0 0]\n",
      "[0 0 1 0 0 0 0 1 1 0 1 0 1 1 0 1 0 1 0 1 0 0 0 1 0 1]\n",
      "[0 1 0 0 1 0 1 1 0 0 1 1 0 0 0 1 1 1 1 1 0 1 1 0 1 1]\n",
      "[1 1 0 1 0 1 1 1 0 0 1 0 0 0 1 1 1 0 0 1 1 0 1 0 0 0]\n",
      "[0 0 1 1 0 1 0 1 1 1 0 0 1 0 0 0 1 1 1 0 0 1 1 0 1 0]\n",
      "[1 0 0 0 1 0 1 1 1 1 0 0 0 1 1 1 0 1 1 1 1 1 0 0 1 0]\n",
      "[1 0 1 0 0 1 0 0 0 1 0 0 0 1 0 0 1 0 0 1 1 0 1 0 0 0]\n",
      "[0 0 1 0 1 0 0 1 0 0 0 1 0 0 0 1 0 0 1 0 0 1 1 0 1 0]\n",
      "[1 0 0 0 1 1 0 0 1 1 1 1 0 0 0 1 0 0 0 0 1 1 0 0 1 0]\n",
      "[1 0 1 0 0 1 0 1 1 0 0 0 1 0 0 1 0 0 0 0 0 1 1 0 0 0]\n",
      "[0 0 1 0 1 0 0 1 0 1 1 0 0 0 1 0 0 1 0 0 0 0 0 1 1 0]\n",
      "[1 0 0 0 1 1 0 0 1 1 1 0 1 1 0 1 1 1 0 1 0 1 0 1 0 1]\n",
      "[0 1 1 0 0 0 0 0 0 1 1 0 0 0 0 1 1 1 0 1 0 1 1 1 1 1]\n"
     ]
    }
   ],
   "source": [
    "print(B)"
   ]
  },
  {
   "cell_type": "markdown",
   "metadata": {},
   "source": [
    "Ahora que tenemos construida B, vamos a resolver (B-Id)X=0"
   ]
  },
  {
   "cell_type": "code",
   "execution_count": 86,
   "metadata": {},
   "outputs": [
    {
     "name": "stdout",
     "output_type": "stream",
     "text": [
      "26\n",
      "23\n"
     ]
    }
   ],
   "source": [
    "Id = Matrix.identity(g.degree())\n",
    "print(B.rank())\n",
    "print((B-Id).rank())\n"
   ]
  },
  {
   "cell_type": "markdown",
   "metadata": {},
   "source": [
    "El rango de B-Id es 23, luego la dimensión de $V_1=26-23=3$. Por tanto, hay $3$ soluciones."
   ]
  },
  {
   "cell_type": "code",
   "execution_count": 87,
   "metadata": {},
   "outputs": [
    {
     "name": "stdout",
     "output_type": "stream",
     "text": [
      "[0] x^2i mod f = 1\n",
      "[1] x^2i mod f = x^2\n",
      "[2] x^2i mod f = x^4\n",
      "[3] x^2i mod f = x^2 + x\n",
      "[4] x^2i mod f = x^4 + x^3\n",
      "Free module of degree 5 and rank 2 over Univariate Polynomial Ring in x over Finite Field of size 2 (using GF2X)\n",
      "Echelon basis matrix:\n",
      "[1 0 0 0 0]\n",
      "[0 1 0 1 1]\n",
      "[0] x^2i mod f = 1\n",
      "[1] x^2i mod f = x^2\n",
      "[2] x^2i mod f = x^4\n",
      "[3] x^2i mod f = x^6\n",
      "[4] x^2i mod f = x^8\n",
      "[5] x^2i mod f = x^10\n",
      "[6] x^2i mod f = x^12\n",
      "[7] x^2i mod f = x^14\n",
      "[8] x^2i mod f = x^16\n",
      "[9] x^2i mod f = x^18\n",
      "[10] x^2i mod f = x^20\n",
      "[11] x^2i mod f = x^22\n",
      "[12] x^2i mod f = x^24\n",
      "[13] x^2i mod f = x^23 + x^21 + x^15 + x^14 + x^11 + x^8 + x^7 + x^6 + x^2 + 1\n",
      "[14] x^2i mod f = x^25 + x^23 + x^17 + x^16 + x^13 + x^10 + x^9 + x^8 + x^4 + x^2\n",
      "[15] x^2i mod f = x^25 + x^24 + x^22 + x^19 + x^18 + x^16 + x^11 + x^10 + x^9 + x^8 + x^7 + x^6 + x^4 + x^3 + x\n",
      "[16] x^2i mod f = x^23 + x^22 + x^20 + x^18 + x^16 + x^14 + x^13 + x^10 + x^8 + x^5 + x^2 + x + 1\n",
      "[17] x^2i mod f = x^25 + x^24 + x^22 + x^20 + x^18 + x^16 + x^15 + x^12 + x^10 + x^7 + x^4 + x^3 + x^2\n",
      "[18] x^2i mod f = x^23 + x^21 + x^20 + x^18 + x^17 + x^16 + x^11 + x^5 + x^4 + x^3 + x^2 + x + 1\n",
      "[19] x^2i mod f = x^25 + x^23 + x^22 + x^20 + x^19 + x^18 + x^13 + x^7 + x^6 + x^5 + x^4 + x^3 + x^2\n",
      "[20] x^2i mod f = x^25 + x^21 + x^20 + x^16 + x^12 + x^6 + x^5 + x^4 + x^3 + x\n",
      "[21] x^2i mod f = x^24 + x^23 + x^18 + x^16 + x^15 + x^14 + x^12 + x^9 + x^6 + x^5 + x\n",
      "[22] x^2i mod f = x^25 + x^23 + x^21 + x^20 + x^18 + x^17 + x^16 + x^15 + x^6 + x^3 + x^2 + 1\n",
      "[23] x^2i mod f = x^25 + x^24 + x^23 + x^20 + x^19 + x^18 + x^17 + x^16 + x^15 + x^12 + x^9 + x^7 + x^5 + x^4 + x^3 + x^2 + x\n",
      "[24] x^2i mod f = x^25 + x^24 + x^23 + x^20 + x^19 + x^18 + x^17 + x^16 + x^12 + x^7 + x^5 + x^4 + x^2 + x + 1\n",
      "[25] x^2i mod f = x^25 + x^24 + x^23 + x^20 + x^19 + x^18 + x^16 + x^12 + x^11 + x^7 + x^4 + x + 1\n",
      "Free module of degree 26 and rank 2 over Univariate Polynomial Ring in x over Finite Field of size 2 (using GF2X)\n",
      "Echelon basis matrix:\n",
      "[1 0 0 0 0 0 0 0 0 0 0 0 0 0 0 0 0 0 0 0 0 0 0 0 0 0]\n",
      "[0 1 1 1 0 1 1 0 0 1 1 1 0 1 0 0 1 1 0 0 0 0 1 1 1 0]\n"
     ]
    }
   ],
   "source": [
    "Ka = (calcular_B(x^5+x+1, 2, Z2)-Matrix.identity(5)).left_kernel()\n",
    "print(Ka)\n",
    "\n",
    "# Ejemplo wuolah\n",
    "Ka = (calcular_B(x^26+x^23+x^21+x^15+x^14+x^11+x^8+x^7+x^6+x^2+1, 2, Z2)-Id).left_kernel()\n",
    "print(Ka)"
   ]
  },
  {
   "cell_type": "code",
   "execution_count": 88,
   "metadata": {},
   "outputs": [
    {
     "name": "stdout",
     "output_type": "stream",
     "text": [
      "Full MatrixSpace of 26 by 26 dense matrices over Univariate Polynomial Ring in x over Finite Field of size 2 (using GF2X)\n",
      "Vector space of dimension 26 over Finite Field of size 2\n",
      "Free module of degree 26 and rank 3 over Univariate Polynomial Ring in x over Finite Field of size 2 (using GF2X)\n",
      "Echelon basis matrix:\n",
      "[1 0 0 0 0 0 0 0 0 0 0 0 0 0 0 0 0 0 0 0 0 0 0 0 0 0]\n",
      "[0 1 0 1 1 1 1 0 0 0 1 0 1 0 1 0 1 0 1 1 0 0 0 1 1 0]\n",
      "[0 0 1 0 0 1 0 1 0 0 0 0 1 1 0 0 1 1 0 0 1 0 0 0 0 1]\n"
     ]
    }
   ],
   "source": [
    "# AX=C\n",
    "A = B-Id\n",
    "print(A.parent())\n",
    "C = vector(GF(2), [0] * g.degree())\n",
    "print(C.parent())\n",
    "\n",
    "K = A.left_kernel()\n",
    "\n",
    "print(K)\n",
    "\n"
   ]
  },
  {
   "cell_type": "markdown",
   "metadata": {},
   "source": [
    "Luego obtenemos los polinomios:\n",
    "$$f_1(x) = 1$$\n",
    "$$f_2(x) = x+x^3+x^4+x^5+x^6+x^{10}+x^{12}+x^{14}+x^{16}+x^{18}+x^{19}+x^{23}+x^{24}$$\n",
    "$$f_3(x) = x^2+x^5+x^7+x^{12}+x^{13}+x^{16}+x^{17}+x^{20}+x^{25}$$"
   ]
  },
  {
   "cell_type": "code",
   "execution_count": 89,
   "metadata": {},
   "outputs": [],
   "source": [
    "f1 = 1\n",
    "f2 = x+x^3+x^4+x^5+x^6+x^10+x^12+x^14+x^16+x^18+x^19+x^23+x^24\n",
    "f3 = x^2+x^5+x^7+x^12+x^13+x^16+x^17+x^20+x^25"
   ]
  },
  {
   "cell_type": "markdown",
   "metadata": {},
   "source": [
    "Creo que tenemos que $f_2$ y $f_3$ son g-reductores. Pero no se hace asi, faltan cosas y va en el siguiente apartado creo"
   ]
  },
  {
   "cell_type": "markdown",
   "metadata": {},
   "source": [
    "**iii) Aplica Berlekamp si es necesario recursivamente para hallar la descomposiciónen irreducibles de g(x) en $\\mathbb{Z}_2[x]$.**"
   ]
  },
  {
   "cell_type": "markdown",
   "metadata": {},
   "source": [
    "Comenzamos trabajando con $f_2$, para el que calculamos $(g, f_2) =h_1$ y $(g, f_2+1)=h_2$ y comprobamos si son libres de cuadrados:"
   ]
  },
  {
   "cell_type": "code",
   "execution_count": 90,
   "metadata": {},
   "outputs": [
    {
     "name": "stdout",
     "output_type": "stream",
     "text": [
      "(g, f2) = x^2 + x + 1\n",
      "(g, f2+1) = x^24 + x^23 + x^19 + x^18 + x^16 + x^14 + x^12 + x^10 + x^6 + x^5 + x^4 + x^3 + x + 1\n",
      "1\n",
      "1\n",
      "COINCIDE\n",
      "True\n",
      "False\n",
      "23\n"
     ]
    },
    {
     "data": {
      "text/plain": [
       "23"
      ]
     },
     "execution_count": 90,
     "metadata": {},
     "output_type": "execute_result"
    }
   ],
   "source": [
    "h1 = gcd(g, f2)\n",
    "h2 = gcd(g, f2+1)\n",
    "print(\"(g, f2) = {}\".format(h1))\n",
    "print(\"(g, f2+1) = {}\".format(h2))\n",
    "\n",
    "print(gcd(h1, h1.derivative()))\n",
    "print(gcd(h2, h2.derivative()))\n",
    "\n",
    "if g == h1*h2:\n",
    "    print(\"COINCIDE\")\n",
    "    \n",
    "print(h1.is_irreducible())\n",
    "print(h2.is_irreducible())\n",
    "\n",
    "h2.factor()\n",
    "g.factor()\n",
    "\n",
    "menor_cuerpo(h2, 2, x)"
   ]
  },
  {
   "cell_type": "markdown",
   "metadata": {},
   "source": [
    "Luego tenemos que $g=h_1\\cdot h_2$.\n",
    "Por el apartado 1, sabemos además que la descomposición debe venir dada por polinomios cuyo grado sea divisor de 46, es decir, 1, 2 o 23. Como $h_2$ tiene grado 24 y el menor cuerpo de característica 2 que lo contiene es $F_{2^{23}}$, con 23<24, no sabemos si debe ser reducible. En efecto, tenemos que $h_2$ tiene 1 como raíz y por tanto descompone como \n",
    "$$h_2=(x+1)\\cdot (x^{23}+x^{18}+x^{15}+x^{14}+x^{11}+x^{10}+x^5+x^3+1)$$\n",
    "\n",
    "Luego la descomposición en irreducibles de $g$ es:\n",
    "$$g=(x+1)\\cdot (x^2+x+1) \\cdot (x^{23}+x^{18}+x^{15}+x^{14}+x^{11}+x^{10}+x^5+x^3+1)$$\n",
    "\n",
    "Hacemos lo análogo con $f_3$, considerando $(g, f_3) =h_3$ y $(g, f_3+1)=h_4$ "
   ]
  },
  {
   "cell_type": "code",
   "execution_count": 91,
   "metadata": {},
   "outputs": [
    {
     "name": "stdout",
     "output_type": "stream",
     "text": [
      "(g, f3) = x^23 + x^18 + x^15 + x^14 + x^11 + x^10 + x^5 + x^3 + 1\n",
      "(g, f3+1) = x^3 + 1\n",
      "1\n",
      "1\n",
      "COINCIDE\n",
      "True\n",
      "False\n",
      "2\n"
     ]
    },
    {
     "data": {
      "text/plain": [
       "2"
      ]
     },
     "execution_count": 91,
     "metadata": {},
     "output_type": "execute_result"
    }
   ],
   "source": [
    "h3 = gcd(g, f3)\n",
    "h4 = gcd(g, f3+1)\n",
    "print(\"(g, f3) = {}\".format(h3))\n",
    "print(\"(g, f3+1) = {}\".format(h4))\n",
    "\n",
    "print(gcd(h3, h3.derivative()))\n",
    "print(gcd(h4, h4.derivative()))\n",
    "\n",
    "if g == h3*h4:\n",
    "    print(\"COINCIDE\")\n",
    "    \n",
    "print(h3.is_irreducible())\n",
    "print(h4.is_irreducible())\n",
    "\n",
    "h4.factor()\n",
    "menor_cuerpo(h4, 2, x)"
   ]
  },
  {
   "cell_type": "markdown",
   "metadata": {},
   "source": [
    "Obteniendo por tanto que $g=h_3\\cdot h_4$\n",
    "\n",
    "De nuevo, observamos que $h_4$ tiene grado 4 y el menor cuerpo de característica 2 que lo contiene es $F_{2^{2}}$, luego no sabemos si es reducible, si lo fuera, tendría un factor de grado 1 y otro de grado 2, y en efecto $h_4=(x+1)\\cdot x^2+x+1)$, pues 1 es raíz suyo, y la descomposición de $g$ en irreducibles resulta:\n",
    "\n",
    "$$g=(x+1)\\cdot (x^2+x+1) \\cdot (x^{23}+x^{18}+x^{15}+x^{14}+x^{11}+x^{10}+x^5+x^3+1)$$\n"
   ]
  },
  {
   "cell_type": "code",
   "execution_count": null,
   "metadata": {},
   "outputs": [],
   "source": []
  },
  {
   "cell_type": "markdown",
   "metadata": {},
   "source": [
    "**iv) Haz lo mismo para hallar la descomposición en irreducibles de f(x) mod 3**"
   ]
  },
  {
   "cell_type": "code",
   "execution_count": 92,
   "metadata": {},
   "outputs": [
    {
     "name": "stdout",
     "output_type": "stream",
     "text": [
      "56\n"
     ]
    },
    {
     "data": {
      "text/plain": [
       "56"
      ]
     },
     "execution_count": 92,
     "metadata": {},
     "output_type": "execute_result"
    }
   ],
   "source": [
    "menor_cuerpo(y^26+y^23+y^21+y^15+y^14+y^11+y^8+y^7+y^6+y^2+1, 3, y)"
   ]
  },
  {
   "cell_type": "code",
   "execution_count": 93,
   "metadata": {},
   "outputs": [
    {
     "name": "stdout",
     "output_type": "stream",
     "text": [
      "1\n",
      "117\n",
      "117\n",
      "3^2 * 13\n"
     ]
    }
   ],
   "source": [
    "Z3 = PolynomialRing(GF(3), 'y')\n",
    "y = Z3.gen()\n",
    "h = y^26+y^23+y^21+y^17+y^15+y^13+y^11+y^10+y^8+y^6+y^5+1\n",
    "\n",
    "print(gcd(h, h.derivative()))\n",
    "\n",
    "print(menor_cuerpo(h, 3, y))\n",
    "\n",
    "print(117.factor())"
   ]
  },
  {
   "cell_type": "markdown",
   "metadata": {},
   "source": [
    "Tenemos que $f \\mod 3 =g= h = x^{26} + x^{23} + x^{21} + x^{17} + x^{15} + x^{13} + x^{11} + x^{10} + x^8 + x^6 + x^5 + 1$\n",
    "\n",
    "Tenemos que $(g, g')=1$, luego $h$ es libre de cuadrados.\n",
    "\n",
    "El menor cuerpo de característica 3 que contiene las raíces de $h$ es $F_{3^{117}}=F_{3^{3^2\\cdot 13}}$, y como $117>26$ tenemos que $h$ es reducible, con factores de grado 1, 3, 9 o 13.\n",
    "\n",
    "Calculamos ahora la matriz B por columnas:\n"
   ]
  },
  {
   "cell_type": "code",
   "execution_count": 94,
   "metadata": {},
   "outputs": [
    {
     "name": "stdout",
     "output_type": "stream",
     "text": [
      "[0] x^2i mod f = 1\n",
      "[1] x^2i mod f = y^3\n",
      "[2] x^2i mod f = y^6\n",
      "[3] x^2i mod f = y^9\n",
      "[4] x^2i mod f = y^12\n",
      "[5] x^2i mod f = y^15\n",
      "[6] x^2i mod f = y^18\n",
      "[7] x^2i mod f = y^21\n",
      "[8] x^2i mod f = y^24\n",
      "[9] x^2i mod f = 2*y^24 + 2*y^22 + 2*y^18 + 2*y^16 + 2*y^14 + 2*y^12 + 2*y^11 + 2*y^9 + 2*y^7 + 2*y^6 + 2*y\n",
      "[10] x^2i mod f = 2*y^25 + y^24 + y^22 + 2*y^21 + 2*y^19 + y^18 + 2*y^17 + y^16 + 2*y^15 + y^11 + 2*y^10 + y^7 + y^6 + 2*y^4 + y\n",
      "[11] x^2i mod f = 2*y^25 + y^24 + y^23 + y^22 + y^21 + 2*y^20 + 2*y^19 + y^18 + y^17 + 2*y^16 + y^15 + 2*y^11 + 2*y^10 + y^8 + 2*y^7 + 2*y^6 + y^4 + y^2 + 2*y\n",
      "[12] x^2i mod f = 2*y^25 + 2*y^23 + y^22 + y^20 + 2*y^16 + y^14 + 2*y^13 + 2*y^11 + 2*y^10 + y^9 + y^7 + y^6 + 2*y^4 + y^2 + 2*y + 2\n",
      "[13] x^2i mod f = 2*y^25 + y^21 + 2*y^16 + 2*y^15 + 2*y^14 + y^13 + 2*y^12 + y^11 + y^9 + 2*y^8 + y^6 + 2*y^5 + 2*y^4 + 2*y^3 + y^2 + 1\n",
      "[14] x^2i mod f = y^25 + y^24 + y^23 + 2*y^18 + y^16 + y^14 + y^13 + 2*y^12 + 2*y^11 + y^10 + y^9 + 2*y^6 + y^5 + y^3 + y^2\n",
      "[15] x^2i mod f = 2*y^25 + 2*y^24 + y^23 + 2*y^22 + y^21 + 2*y^18 + 2*y^17 + y^14 + 2*y^13 + 2*y^12 + y^11 + y^10 + y^9 + 2*y^8 + y^7 + 2*y^6 + 2*y^2 + 2*y + 2\n",
      "[16] x^2i mod f = 2*y^24 + y^22 + y^21 + 2*y^20 + y^19 + y^18 + y^17 + 2*y^15 + 2*y^14 + y^13 + 2*y^11 + y^10 + 2*y^7 + y^5 + 2*y^4 + 2*y^3 + y^2 + y + 2\n",
      "[17] x^2i mod f = y^25 + 2*y^24 + 2*y^23 + 2*y^22 + y^21 + y^20 + 2*y^17 + 2*y^16 + y^13 + y^12 + y^11 + 2*y^10 + y^9 + y^8 + y^5 + y^4 + 2*y^3 + y\n",
      "[18] x^2i mod f = y^25 + 2*y^24 + y^23 + y^22 + y^21 + 2*y^20 + y^19 + y^18 + 2*y^16 + y^15 + 2*y^14 + 2*y^13 + y^12 + y^9 + y^8 + y^7 + y^6 + y^5 + y^4 + 2*y^2 + y + 1\n",
      "[19] x^2i mod f = 2*y^24 + 2*y^22 + y^19 + 2*y^18 + 2*y^15 + y^14 + y^13 + y^12 + y^11 + 2*y^10 + 2*y^9 + 2*y^8 + y^7 + y^5 + y^4 + y^3 + 2*y^2 + y + 2\n",
      "[20] x^2i mod f = 2*y^25 + y^24 + 2*y^22 + 2*y^21 + y^17 + 2*y^16 + y^15 + 2*y^14 + 2*y^13 + y^10 + y^9 + y^8 + 2*y^7 + 2*y^6 + 2*y^5 + y^4 + 2*y^3 + y\n",
      "[21] x^2i mod f = y^24 + y^23 + 2*y^22 + y^20 + y^16 + y^15 + 2*y^14 + 2*y^13 + y^12 + y^9 + y^7 + y^6 + y^4 + y^2 + 2*y\n",
      "[22] x^2i mod f = 2*y^25 + 2*y^24 + 2*y^22 + 2*y^21 + y^19 + y^17 + y^16 + 2*y^14 + 2*y^13 + y^11 + 2*y^8 + y^6 + 2*y^4 + 2*y + 2\n",
      "[23] x^2i mod f = y^23 + 2*y^22 + y^20 + 2*y^19 + y^18 + y^15 + 2*y^14 + y^13 + 2*y^12 + y^10 + 2*y^9 + y^8 + y^7 + y^6 + 2*y^4 + 2*y^3 + y^2 + y\n",
      "[24] x^2i mod f = 2*y^25 + 2*y^22 + y^18 + y^17 + y^16 + y^15 + 2*y^12 + y^9 + 2*y^8 + 2*y^7 + y^6 + y^4 + 2\n",
      "[25] x^2i mod f = y^23 + y^21 + y^20 + 2*y^19 + y^18 + y^17 + y^13 + 2*y^12 + 2*y^11 + y^9 + y^8 + 2*y^7 + 2*y^3 + y^2\n",
      "[1 0 0 0 0 0 0 0 0 0 0 0 0 0 0 0 0 0 0 0 0 0 0 0 0 0]\n",
      "[0 0 0 1 0 0 0 0 0 0 0 0 0 0 0 0 0 0 0 0 0 0 0 0 0 0]\n",
      "[0 0 0 0 0 0 1 0 0 0 0 0 0 0 0 0 0 0 0 0 0 0 0 0 0 0]\n",
      "[0 0 0 0 0 0 0 0 0 1 0 0 0 0 0 0 0 0 0 0 0 0 0 0 0 0]\n",
      "[0 0 0 0 0 0 0 0 0 0 0 0 1 0 0 0 0 0 0 0 0 0 0 0 0 0]\n",
      "[0 0 0 0 0 0 0 0 0 0 0 0 0 0 0 1 0 0 0 0 0 0 0 0 0 0]\n",
      "[0 0 0 0 0 0 0 0 0 0 0 0 0 0 0 0 0 0 1 0 0 0 0 0 0 0]\n",
      "[0 0 0 0 0 0 0 0 0 0 0 0 0 0 0 0 0 0 0 0 0 1 0 0 0 0]\n",
      "[0 0 0 0 0 0 0 0 0 0 0 0 0 0 0 0 0 0 0 0 0 0 0 0 1 0]\n",
      "[0 2 0 0 0 0 2 2 0 2 0 2 2 0 2 0 2 0 2 0 0 0 2 0 2 0]\n",
      "[0 1 0 0 2 0 1 1 0 0 2 1 0 0 0 2 1 2 1 2 0 2 1 0 1 2]\n",
      "[0 2 1 0 1 0 2 2 1 0 2 2 0 0 0 1 2 1 1 2 2 1 1 1 1 2]\n",
      "[2 2 1 0 2 0 1 1 0 1 2 2 0 2 1 0 2 0 0 0 1 0 1 2 0 2]\n",
      "[1 0 1 2 2 2 1 0 2 1 0 1 2 1 2 2 2 0 0 0 0 1 0 0 0 2]\n",
      "[0 0 1 1 0 1 2 0 0 1 1 2 2 1 1 0 1 0 2 0 0 0 0 1 1 1]\n",
      "[2 2 2 0 0 0 2 1 2 1 1 1 2 2 1 0 0 2 2 0 0 1 2 1 2 2]\n",
      "[2 1 1 2 2 1 0 2 0 0 1 2 0 1 2 2 0 1 1 1 2 1 1 0 2 0]\n",
      "[0 1 0 2 1 1 0 0 1 1 2 1 1 1 0 0 2 2 0 0 1 1 2 2 2 1]\n",
      "[1 1 2 0 1 1 1 1 1 1 0 0 1 2 2 1 2 0 1 1 2 1 1 1 2 1]\n",
      "[2 1 2 1 1 1 0 1 2 2 2 1 1 1 1 2 0 0 2 1 0 0 2 0 2 0]\n",
      "[0 1 0 2 1 2 2 2 1 1 1 0 0 2 2 1 2 1 0 0 0 2 2 0 1 2]\n",
      "[0 2 1 0 1 0 1 1 0 1 0 0 1 2 2 1 1 0 0 0 1 0 2 1 1 0]\n",
      "[2 2 0 0 2 0 1 0 2 0 0 1 0 2 2 0 1 1 0 1 0 2 2 0 2 2]\n",
      "[0 1 1 2 2 0 1 1 1 2 1 0 2 1 2 1 0 0 1 2 1 0 2 1 0 0]\n",
      "[2 0 0 0 1 0 1 2 2 1 0 0 2 0 0 1 1 1 1 0 0 0 2 0 0 2]\n",
      "[0 0 1 2 0 0 0 2 1 1 0 2 2 1 0 0 0 1 1 2 1 1 0 1 0 0]\n"
     ]
    }
   ],
   "source": [
    "B = calcular_B(h, 3, Z3)\n",
    "print(B)"
   ]
  },
  {
   "cell_type": "markdown",
   "metadata": {},
   "source": [
    "Como (B-Id) tiene rango 22, entonces $26-22=4$ tendremos 4 soluciones.\n",
    "Y resolvemos el sistema (B-Id)X=0"
   ]
  },
  {
   "cell_type": "code",
   "execution_count": 95,
   "metadata": {},
   "outputs": [
    {
     "name": "stdout",
     "output_type": "stream",
     "text": [
      "26\n",
      "22\n",
      "Full MatrixSpace of 26 by 26 dense matrices over Univariate Polynomial Ring in y over Finite Field of size 3\n",
      "Vector space of dimension 26 over Finite Field of size 3\n",
      "Free module of degree 26 and rank 4 over Univariate Polynomial Ring in y over Finite Field of size 3\n",
      "Echelon basis matrix:\n",
      "[1 0 0 0 0 0 0 0 0 0 0 0 0 0 0 0 0 0 0 0 0 0 0 0 0 0]\n",
      "[0 2 0 1 1 1 1 2 1 1 0 1 1 0 1 0 2 2 0 0 1 1 2 0 1 0]\n",
      "[0 0 1 2 0 2 1 0 2 0 1 1 2 1 0 1 0 1 2 1 1 2 2 2 0 0]\n",
      "[0 0 0 0 1 2 0 1 0 1 2 0 1 0 1 2 2 2 2 1 0 0 2 0 0 1]\n"
     ]
    }
   ],
   "source": [
    "Id = Matrix.identity(h.degree())\n",
    "print(B.rank())\n",
    "print((B-Id).rank())\n",
    "\n",
    "# AX=C\n",
    "A = B-Id\n",
    "print(A.parent())\n",
    "C = vector(GF(3), [0] * h.degree())\n",
    "print(C.parent())\n",
    "\n",
    "K = A.left_kernel()\n",
    "\n",
    "print(K)"
   ]
  },
  {
   "cell_type": "markdown",
   "metadata": {},
   "source": [
    "Obtenemos los siguientes polinomios:\n",
    "\n",
    "$$f_1 = 1$$\n",
    "$$f_2 = 2*y+y^3+y^4+y^5+y^6+2*y^7+y^8+y^9+y^{11}+y^{12}+y^{14}+2*y^{16}+2*y^{17}+y^{20}+y^{21}+2*y^{22}+y^{24}$$\n",
    "$$f_3 = y^2+2*y^3+2*y^5+y^6+2*y^8+y^{10}+y^{11}+2*y^{12}+y^{13}+y^{15}+y^{17}+2*y^{18}+y^{19}+y^{20}+2*y^{21}+2*y^{22}+2*y^{23}$$\n",
    "$$f_4 = y^4+2*y^5+y^7+y^9+2*y^{10}+y^{12}+y^{14}+2*y^{15}+2*y^{16}+2*y^{17}+2*y^{18}+y^{19}+2*y^{22}+y^{25}$$"
   ]
  },
  {
   "cell_type": "code",
   "execution_count": 96,
   "metadata": {},
   "outputs": [],
   "source": [
    "f1 = 1\n",
    "f2 = 2*y+y^3+y^4+y^5+y^6+2*y^7+y^8+y^9+y^11+y^12+y^14+2*y^16+2*y^17+y^20+y^21+2*y^22+y^24\n",
    "f3 = y^2+2*y^3+2*y^5+y^6+2*y^8+y^10+y^11+2*y^12+y^13+y^15+y^17+2*y^18+y^19+y^20+2*y^21+2*y^22+2*y^23\n",
    "f4 = y^4+2*y^5+y^7+y^9+2*y^10+y^12+y^14+2*y^15+2*y^16+2*y^17+2*y^18+y^19+2*y^22+y^25"
   ]
  },
  {
   "cell_type": "code",
   "execution_count": 97,
   "metadata": {},
   "outputs": [
    {
     "name": "stdout",
     "output_type": "stream",
     "text": [
      "(g, f2) = y^3 + 2*y^2 + 1\n",
      "(g, f2+1) = y^13 + 2*y^12 + y^11 + y^10 + 2*y^9 + 2*y^8 + 2*y^7 + y^5 + y^4 + y^2 + 2\n",
      "(g, f2+2) = y^10 + 2*y^9 + 2*y^8 + y^5 + 2*y^4 + y^3 + y^2 + 2\n",
      "1\n",
      "1\n",
      "1\n",
      "COINCIDE\n",
      "True\n",
      "True\n",
      "False\n",
      "3\n",
      "13\n",
      "9\n",
      "y^10 + 2*y^9 + 2*y^8 + y^5 + 2*y^4 + y^3 + y^2 + 2\n",
      "(y + 2) * (y^9 + 2*y^7 + 2*y^6 + 2*y^5 + 2*y^3 + y + 1)\n",
      "9\n",
      "True\n"
     ]
    }
   ],
   "source": [
    "h1 = gcd(h, f2)\n",
    "h2 = gcd(h, f2+1)\n",
    "h3 = gcd(h, f2+2)\n",
    "print(\"(g, f2) = {}\".format(h1))\n",
    "print(\"(g, f2+1) = {}\".format(h2))\n",
    "print(\"(g, f2+2) = {}\".format(h3))\n",
    "\n",
    "print(gcd(h1, h1.derivative()))\n",
    "print(gcd(h2, h2.derivative()))\n",
    "print(gcd(h3, h3.derivative()))\n",
    "\n",
    "if h == h1*h2*h3:\n",
    "    print(\"COINCIDE\")\n",
    "    \n",
    "print(h1.is_irreducible())\n",
    "print(h2.is_irreducible())\n",
    "print(h3.is_irreducible())\n",
    "\n",
    "menor_cuerpo(h1, 3, y)\n",
    "menor_cuerpo(h2, 3, y)\n",
    "menor_cuerpo(h3, 3, y)\n",
    "\n",
    "print(h3)\n",
    "print(h3.factor())\n",
    "\n",
    "haux = y^9 + 2*y^7 + 2*y^6 + 2*y^5 + 2*y^3 + y + 1\n",
    "menor_cuerpo(haux, 3, y)\n",
    "print(haux.is_irreducible())"
   ]
  },
  {
   "cell_type": "markdown",
   "metadata": {},
   "source": [
    "Obtenemos por tanto que $h=h_1\\cdot h_2\\cdot h_3$, y como el mínimo cuerpo de característica 3 que contiene las raíces de $h_1$ es 3, coincidiendo con su grado, se tiene que es irreducible. Análogamente se tiene que para $h_2$ es 13, y por tanto es irreducible. Mientras para $h_3$ es 9, distinto de su grado, y es fácil comprobar que tiene 1 como raíz simple, luego se descompone en $h_3=(x+2)\\cdot (y^9+2y^7+2y^6+2y^5+2y^3+y+1)$, luego la descomposición de $h$ en irreducibles es:\n",
    "\n",
    "$$h = (y^3 + 2y^2 + 1)\\cdot (y^{13} + 2y^{12} + y^{11} + y^{10} + 2*y^9 + 2*y^8 + 2*y^7 + y^5 + y^4 + y^2 + 2)\\cdot (y+2)\\cdot (y^9 + 2y^7 + 2y^6 + 2y^5 + 2y^3 + y + 1)$$"
   ]
  },
  {
   "cell_type": "code",
   "execution_count": 98,
   "metadata": {},
   "outputs": [
    {
     "name": "stdout",
     "output_type": "stream",
     "text": [
      "(g, f3) = y^16 + y^15 + 2*y^14 + y^13 + y^11 + y^10 + 2*y^7 + 2*y^6 + 2*y^5 + 2*y^3 + 2*y^2 + 2\n",
      "(g, f3+1) = y^9 + 2*y^7 + 2*y^6 + 2*y^5 + 2*y^3 + y + 1\n",
      "(g, f3+2) = y + 2\n",
      "1\n",
      "1\n",
      "1\n",
      "COINCIDE\n",
      "False\n",
      "True\n",
      "True\n",
      "39\n",
      "9\n",
      "1\n",
      "(y^3 + 2*y^2 + 1) * (y^13 + 2*y^12 + y^11 + y^10 + 2*y^9 + 2*y^8 + 2*y^7 + y^5 + y^4 + y^2 + 2)\n"
     ]
    }
   ],
   "source": [
    "h4 = gcd(h, f3)\n",
    "h5 = gcd(h, f3+1)\n",
    "h6 = gcd(h, f3+2)\n",
    "print(\"(g, f3) = {}\".format(h4))\n",
    "print(\"(g, f3+1) = {}\".format(h5))\n",
    "print(\"(g, f3+2) = {}\".format(h6))\n",
    "\n",
    "print(gcd(h4, h4.derivative()))\n",
    "print(gcd(h5, h5.derivative()))\n",
    "print(gcd(h6, h6.derivative()))\n",
    "\n",
    "if h == h4*h5*h6:\n",
    "    print(\"COINCIDE\")\n",
    "    \n",
    "print(h4.is_irreducible())\n",
    "print(h5.is_irreducible())\n",
    "print(h6.is_irreducible())\n",
    "\n",
    "menor_cuerpo(h4, 3, y)\n",
    "menor_cuerpo(h5, 3, y)\n",
    "menor_cuerpo(h6, 3, y)\n",
    "\n",
    "print(h4.factor())"
   ]
  },
  {
   "cell_type": "markdown",
   "metadata": {},
   "source": [
    "Obtenemos por tanto que $h=h_4\\cdot h_5\\cdot h_6$, y como el mínimo cuerpo de característica 3 que contiene las raíces de $h_5$ es 9, coincidiendo con su grado, se tiene que es irreducible. Análogamente se tiene que para $h_6$ es 1, y por tanto es irreducible. Mientras para $h_4$ es 39, mayor de su grado, y por tanto aplicamos el algoritmo de nuevo a este polinomio."
   ]
  },
  {
   "cell_type": "code",
   "execution_count": 99,
   "metadata": {},
   "outputs": [
    {
     "name": "stdout",
     "output_type": "stream",
     "text": [
      "[0] x^2i mod f = 1\n",
      "[1] x^2i mod f = y^3\n",
      "[2] x^2i mod f = y^6\n",
      "[3] x^2i mod f = y^9\n",
      "[4] x^2i mod f = y^12\n",
      "[5] x^2i mod f = y^15\n",
      "[6] x^2i mod f = 2*y^15 + 2*y^11 + y^10 + y^9 + 2*y^7 + y^6 + y^3 + 2*y + 2\n",
      "[7] x^2i mod f = y^15 + 2*y^14 + y^13 + y^12 + y^11 + y^10 + y^7 + 2*y^4 + y^3 + y + 1\n",
      "[8] x^2i mod f = y^14 + 2*y^13 + y^12 + y^11 + y^9 + 2*y^8 + 2*y^7 + 2*y^5 + 2*y^2 + y + 1\n",
      "[9] x^2i mod f = y^15 + y^14 + 2*y^13 + y^10 + 2*y^7 + 2*y^6 + 2*y^4 + y^2 + y + 1\n",
      "[10] x^2i mod f = 2*y^15 + 2*y^12 + 2*y^10 + y^8 + 2*y^5 + 2*y^4 + y^3 + y^2\n",
      "[11] x^2i mod f = 2*y^13 + 2*y^11 + 2*y^10 + 2*y^9 + 2*y^8 + y^5 + 2*y^3 + y + 1\n",
      "[12] x^2i mod f = y^15 + y^14 + 2*y^12 + y^10 + y^8 + 2*y^7 + y^6 + 2*y^5 + y^4 + 2*y^2 + 2\n",
      "[13] x^2i mod f = y^14 + 2*y^13 + 2*y^12 + y^10 + 2*y^9 + y^6 + y^5 + y^4 + 2*y^2 + 1\n",
      "[14] x^2i mod f = 2*y^15 + y^12 + y^11 + 2*y^10 + y^9 + 2*y^8 + 2*y^6 + y^4 + y^2 + y + 1\n",
      "[15] x^2i mod f = 2*y^15 + y^14 + 2*y^13 + y^12 + 2*y^10 + y^9 + 2*y^7 + 2*y^6 + y^5 + y^4 + y + 1\n",
      "[1 0 0 0 0 0 0 0 0 0 0 0 0 0 0 0]\n",
      "[0 0 0 1 0 0 0 0 0 0 0 0 0 0 0 0]\n",
      "[0 0 0 0 0 0 1 0 0 0 0 0 0 0 0 0]\n",
      "[0 0 0 0 0 0 0 0 0 1 0 0 0 0 0 0]\n",
      "[0 0 0 0 0 0 0 0 0 0 0 0 1 0 0 0]\n",
      "[0 0 0 0 0 0 0 0 0 0 0 0 0 0 0 1]\n",
      "[2 2 0 1 0 0 1 2 0 1 1 2 0 0 0 2]\n",
      "[1 1 0 1 2 0 0 1 0 0 1 1 1 1 2 1]\n",
      "[1 1 2 0 0 2 0 2 2 1 0 1 1 2 1 0]\n",
      "[1 1 1 0 2 0 2 2 0 0 1 0 0 2 1 1]\n",
      "[0 0 1 1 2 2 0 0 1 0 2 0 2 0 0 2]\n",
      "[1 1 0 2 0 1 0 0 2 2 2 2 0 2 0 0]\n",
      "[2 0 2 0 1 2 1 2 1 0 1 0 2 0 1 1]\n",
      "[1 0 2 0 1 1 1 0 0 2 1 0 2 2 1 0]\n",
      "[1 1 1 0 1 0 2 0 2 1 2 1 1 0 0 2]\n",
      "[1 1 0 0 1 1 2 2 0 1 2 0 1 2 1 2]\n",
      "16\n",
      "14\n",
      "Full MatrixSpace of 16 by 16 dense matrices over Univariate Polynomial Ring in y over Finite Field of size 3\n",
      "Vector space of dimension 16 over Finite Field of size 3\n",
      "Free module of degree 16 and rank 2 over Univariate Polynomial Ring in y over Finite Field of size 3\n",
      "Echelon basis matrix:\n",
      "[1 0 0 0 0 0 0 0 0 0 0 0 0 0 0 0]\n",
      "[0 1 0 2 0 2 2 0 1 1 1 2 2 1 2 0]\n"
     ]
    }
   ],
   "source": [
    "B = calcular_B(h4, 3, Z3)\n",
    "print(B)\n",
    "\n",
    "Id = Matrix.identity(h4.degree())\n",
    "print(B.rank())\n",
    "print((B-Id).rank())\n",
    "\n",
    "# AX=C\n",
    "A = B-Id\n",
    "print(A.parent())\n",
    "C = vector(GF(3), [0] * h4.degree())\n",
    "print(C.parent())\n",
    "\n",
    "K = A.left_kernel()\n",
    "\n",
    "print(K)"
   ]
  },
  {
   "cell_type": "markdown",
   "metadata": {},
   "source": [
    "Luego obtenemos el polinomio $f_5=y+2*y^3+2*y^5+2*y^6+y^8+y^9+y^{10}+2*y^{11}+2*y^{12}+y^{13}+2*y^{14}$"
   ]
  },
  {
   "cell_type": "code",
   "execution_count": 109,
   "metadata": {},
   "outputs": [
    {
     "name": "stdout",
     "output_type": "stream",
     "text": [
      "(g, f5) = y^13 + 2*y^12 + y^11 + y^10 + 2*y^9 + 2*y^8 + 2*y^7 + y^5 + y^4 + y^2 + 2\n",
      "(g, f5+1) = 1\n",
      "(g, f5+2) = y^3 + 2*y^2 + 1\n",
      "1\n",
      "1\n",
      "1\n",
      "COINCIDE\n",
      "True\n",
      "False\n",
      "True\n",
      "13\n",
      "1\n",
      "3\n"
     ]
    },
    {
     "data": {
      "text/plain": [
       "3"
      ]
     },
     "execution_count": 109,
     "metadata": {},
     "output_type": "execute_result"
    }
   ],
   "source": [
    "f5 = y+2*y^3+2*y^5+2*y^6+y^8+y^9+y^10+2*y^11+2*y^12+y^13+2*y^14\n",
    "\n",
    "h10 = gcd(h4, f5)\n",
    "h11 = gcd(h4, f5+1)\n",
    "h12 = gcd(h4, f5+2)\n",
    "print(\"(g, f5) = {}\".format(h10))\n",
    "print(\"(g, f5+1) = {}\".format(h11))\n",
    "print(\"(g, f5+2) = {}\".format(h12))\n",
    "\n",
    "print(gcd(h10, h10.derivative()))\n",
    "print(gcd(h11, h11.derivative()))\n",
    "print(gcd(h12, h12.derivative()))\n",
    "\n",
    "if h4 == h10*h11*h12:\n",
    "    print(\"COINCIDE\")\n",
    "    \n",
    "print(h10.is_irreducible())\n",
    "print(h11.is_irreducible())\n",
    "print(h12.is_irreducible())\n",
    "\n",
    "menor_cuerpo(h10, 3, y)\n",
    "menor_cuerpo(h11, 3, y)\n",
    "menor_cuerpo(h12, 3, y)"
   ]
  },
  {
   "cell_type": "markdown",
   "metadata": {},
   "source": [
    "Obtenemos lso polinomios $h_{10}, h_{11}. h_{12}$ y todos ellos son irreducibles. Por tanto $h_4=h_{10}\\cdot h_{11}\\cdot h_{12}$ es su descomposición en irreducibles y la de h queda como:\n",
    "$$h = (y^3 + 2y^2 + 1)\\cdot (y^{13} + 2y^{12} + y^{11} + y^{10} + 2*y^9 + 2*y^8 + 2*y^7 + y^5 + y^4 + y^2 + 2)\\cdot (y+2)\\cdot (y^9 + 2y^7 + 2y^6 + 2y^5 + 2y^3 + y + 1)$$"
   ]
  },
  {
   "cell_type": "code",
   "execution_count": 110,
   "metadata": {},
   "outputs": [
    {
     "name": "stdout",
     "output_type": "stream",
     "text": [
      "(g, f4) = y + 2\n",
      "(g, f4+1) = y^22 + 2*y^21 + y^19 + y^18 + y^17 + 2*y^15 + y^14 + 2*y^13 + y^12 + 2*y^11 + 2*y^10 + y^9 + 2*y^8 + y^7 + 2*y^6 + 2*y^5 + y^4 + 2*y^3 + y^2 + 2*y + 2\n",
      "(g, f4+2) = y^3 + 2*y^2 + 1\n",
      "1\n",
      "1\n",
      "1\n",
      "COINCIDE\n",
      "True\n",
      "False\n",
      "True\n",
      "1\n",
      "117\n",
      "3\n",
      "(y^9 + 2*y^7 + 2*y^6 + 2*y^5 + 2*y^3 + y + 1) * (y^13 + 2*y^12 + y^11 + y^10 + 2*y^9 + 2*y^8 + 2*y^7 + y^5 + y^4 + y^2 + 2)\n"
     ]
    }
   ],
   "source": [
    "h7 = gcd(h, f4)\n",
    "h8 = gcd(h, f4+1)\n",
    "h9 = gcd(h, f4+2)\n",
    "print(\"(g, f4) = {}\".format(h7))\n",
    "print(\"(g, f4+1) = {}\".format(h8))\n",
    "print(\"(g, f4+2) = {}\".format(h9))\n",
    "\n",
    "print(gcd(h7, h7.derivative()))\n",
    "print(gcd(h8, h8.derivative()))\n",
    "print(gcd(h9, h9.derivative()))\n",
    "\n",
    "if h == h7*h8*h9:\n",
    "    print(\"COINCIDE\")\n",
    "    \n",
    "print(h7.is_irreducible())\n",
    "print(h8.is_irreducible())\n",
    "print(h9.is_irreducible())\n",
    "\n",
    "menor_cuerpo(h7, 3, y)\n",
    "menor_cuerpo(h8, 3, y)\n",
    "menor_cuerpo(h9, 3, y)\n",
    "\n",
    "print(h8.factor())"
   ]
  },
  {
   "cell_type": "markdown",
   "metadata": {},
   "source": [
    "Obtenemos por tanto que $h=h_7\\cdot h_8\\cdot h_9$, y como el mínimo cuerpo de característica 3 que contiene las raíces de $h_7$ es 1, coincidiendo con su grado, se tiene que es irreducible. Análogamente se tiene que para $h_9$ es 3, y por tanto es irreducible. Mientras para $h_8$ es 117, mayor de su grado, y por tanto aplicamos el algoritmo de nuevo a este polinomio."
   ]
  },
  {
   "cell_type": "code",
   "execution_count": 111,
   "metadata": {},
   "outputs": [
    {
     "name": "stdout",
     "output_type": "stream",
     "text": [
      "[0] x^2i mod f = 1\n",
      "[1] x^2i mod f = y^3\n",
      "[2] x^2i mod f = y^6\n",
      "[3] x^2i mod f = y^9\n",
      "[4] x^2i mod f = y^12\n",
      "[5] x^2i mod f = y^15\n",
      "[6] x^2i mod f = y^18\n",
      "[7] x^2i mod f = y^21\n",
      "[8] x^2i mod f = y^20 + y^18 + y^15 + 2*y^14 + y^13 + y^12 + y^11 + y^10 + 2*y^9 + y^8 + y^7 + y^6 + y^5 + 2*y^4 + y^3 + y^2 + 2*y + 1\n",
      "[9] x^2i mod f = 2*y^21 + 2*y^20 + y^19 + 2*y^18 + y^17 + 2*y^16 + y^15 + y^14 + y^13 + 2*y^12 + y^10 + y^9 + y^8 + 2*y^7 + y^5 + 2*y^4 + y^3 + 2*y + 1\n",
      "[10] x^2i mod f = 2*y^21 + y^20 + y^18 + y^17 + 2*y^15 + y^13 + 2*y^12 + 2*y^11 + 2*y^10 + y^8 + 2*y^6 + 2*y^4 + y^3 + y^2 + 2\n",
      "[11] x^2i mod f = 2*y^21 + 2*y^20 + y^19 + 2*y^18 + 2*y^17 + 2*y^16 + y^15 + y^13 + 2*y^12 + 2*y^11 + 2*y^10 + 2*y^8 + y^7 + 2*y^6 + y^4 + y^3 + 2*y^2\n",
      "[12] x^2i mod f = 2*y^21 + 2*y^20 + y^18 + 2*y^15 + 2*y^14 + 2*y^13 + y^12 + y^10 + 2*y^9 + 2*y^7 + 2*y^6 + 2*y^5 + y^2 + 2\n",
      "[13] x^2i mod f = 2*y^19 + y^16 + y^14 + y^12 + y^10 + y^8 + 2*y^7 + y^4 + y^3 + 2*y^2 + 2*y + 1\n",
      "[14] x^2i mod f = 2*y^21 + 2*y^19 + y^18 + 2*y^17 + y^14 + y^12 + y^10 + y^9 + 2*y^8 + 2*y^7 + y^5 + y^2 + 2*y + 2\n",
      "[15] x^2i mod f = y^20 + y^19 + 2*y^17 + 2*y^15 + 2*y^14 + 2*y^13 + y^12 + 2*y^9 + 2*y^8 + y^6 + 2*y^5 + y^4 + 1\n",
      "[16] x^2i mod f = 2*y^21 + y^20 + 2*y^18 + 2*y^15 + 2*y^14 + y^13 + y^12 + 2*y^11 + y^10 + y^5 + 2*y^4 + 2*y^3 + 2*y^2 + 2\n",
      "[17] x^2i mod f = y^20 + y^19 + 2*y^18 + y^17 + 2*y^16 + 2*y^12 + y^11 + 2*y^10 + y^9 + y^7 + y^5 + y^4 + y^3 + 2*y^2\n",
      "[18] x^2i mod f = y^21 + 2*y^19 + y^17 + y^16 + 2*y^10 + 2*y^9 + 2*y^8 + y^6 + 2*y^4 + y^3 + 2*y^2 + 2\n",
      "[19] x^2i mod f = 2*y^21 + 2*y^20 + 2*y^19 + 2*y^18 + y^17 + 2*y^13 + y^12 + 2*y^11 + y^9 + y^7 + y^6 + 2*y^5 + 2*y^3 + 2*y^2 + y\n",
      "[20] x^2i mod f = y^20 + 2*y^18 + 2*y^17 + y^16 + 2*y^15 + y^14 + y^13 + y^12 + 2*y^11 + 2*y^10 + y^6 + y^3 + y\n",
      "[21] x^2i mod f = y^20 + 2*y^19 + 2*y^16 + y^15 + 2*y^14 + 2*y^13 + 2*y^11 + y^9 + y^4 + 2*y + 1\n",
      "[1 0 0 0 0 0 0 0 0 0 0 0 0 0 0 0 0 0 0 0 0 0]\n",
      "[0 0 0 1 0 0 0 0 0 0 0 0 0 0 0 0 0 0 0 0 0 0]\n",
      "[0 0 0 0 0 0 1 0 0 0 0 0 0 0 0 0 0 0 0 0 0 0]\n",
      "[0 0 0 0 0 0 0 0 0 1 0 0 0 0 0 0 0 0 0 0 0 0]\n",
      "[0 0 0 0 0 0 0 0 0 0 0 0 1 0 0 0 0 0 0 0 0 0]\n",
      "[0 0 0 0 0 0 0 0 0 0 0 0 0 0 0 1 0 0 0 0 0 0]\n",
      "[0 0 0 0 0 0 0 0 0 0 0 0 0 0 0 0 0 0 1 0 0 0]\n",
      "[0 0 0 0 0 0 0 0 0 0 0 0 0 0 0 0 0 0 0 0 0 1]\n",
      "[1 2 1 1 2 1 1 1 1 2 1 1 1 1 2 1 0 0 1 0 1 0]\n",
      "[1 2 0 1 2 1 0 2 1 1 1 0 2 1 1 1 2 1 2 1 2 2]\n",
      "[2 0 1 1 2 0 2 0 1 0 2 2 2 1 0 2 0 1 1 0 1 2]\n",
      "[0 0 2 1 1 0 2 1 2 0 2 2 2 1 0 1 2 2 2 1 2 2]\n",
      "[2 0 1 0 0 2 2 2 0 2 1 0 1 2 2 2 0 0 1 0 2 2]\n",
      "[1 2 2 1 1 0 0 2 1 0 1 0 1 0 1 0 1 0 0 2 0 0]\n",
      "[2 2 1 0 0 1 0 2 2 1 1 0 1 0 1 0 0 2 1 2 0 2]\n",
      "[1 0 0 0 1 2 1 0 2 2 0 0 1 2 2 2 0 2 0 1 1 0]\n",
      "[2 0 2 2 2 1 0 0 0 0 1 2 1 1 2 2 0 0 2 0 1 2]\n",
      "[0 0 2 1 1 1 0 1 0 1 2 1 2 0 0 0 2 1 2 1 1 0]\n",
      "[2 0 2 1 2 0 1 0 2 2 2 0 0 0 0 0 1 1 0 2 0 1]\n",
      "[0 1 2 2 0 2 1 1 0 1 0 2 1 2 0 0 0 1 2 2 2 2]\n",
      "[0 1 0 1 0 0 1 0 0 0 2 2 1 1 1 2 1 2 2 0 1 0]\n",
      "[1 2 0 0 1 0 0 0 0 1 0 2 0 2 2 1 2 0 0 2 1 0]\n",
      "22\n",
      "20\n",
      "Full MatrixSpace of 22 by 22 dense matrices over Univariate Polynomial Ring in y over Finite Field of size 3\n",
      "Vector space of dimension 22 over Finite Field of size 3\n",
      "Free module of degree 22 and rank 2 over Univariate Polynomial Ring in y over Finite Field of size 3\n",
      "Echelon basis matrix:\n",
      "[1 0 0 0 0 0 0 0 0 0 0 0 0 0 0 0 0 0 0 0 0 0]\n",
      "[0 0 2 1 1 1 1 1 1 1 0 1 0 0 1 0 2 0 2 1 2 0]\n",
      "(g, f6) = 1\n",
      "(g, f6+1) = y^13 + 2*y^12 + y^11 + y^10 + 2*y^9 + 2*y^8 + 2*y^7 + y^5 + y^4 + y^2 + 2\n",
      "(g, f6+2) = y^9 + 2*y^7 + 2*y^6 + 2*y^5 + 2*y^3 + y + 1\n",
      "1\n",
      "1\n",
      "1\n",
      "COINCIDE\n",
      "False\n",
      "True\n",
      "True\n",
      "1\n",
      "13\n",
      "9\n"
     ]
    },
    {
     "data": {
      "text/plain": [
       "9"
      ]
     },
     "execution_count": 111,
     "metadata": {},
     "output_type": "execute_result"
    }
   ],
   "source": [
    "B = calcular_B(h8, 3, Z3)\n",
    "print(B)\n",
    "\n",
    "Id = Matrix.identity(h8.degree())\n",
    "print(B.rank())\n",
    "print((B-Id).rank())\n",
    "\n",
    "# AX=C\n",
    "A = B-Id\n",
    "print(A.parent())\n",
    "C = vector(GF(3), [0] * h8.degree())\n",
    "print(C.parent())\n",
    "\n",
    "K = A.left_kernel()\n",
    "\n",
    "print(K)\n",
    "\n",
    "#[0 0 2 1 1            1 1 1 1 1         0 1 0 0 1          0 2 0 2 1        2 0]\n",
    "f6 = 2*y^2+y^3+y^4+y^5+y^6+y^7+y^8+y^9+y^11+y^14+2*y^16+2*y^18+y^19+2*y^20\n",
    "\n",
    "h13 = gcd(h8, f6)\n",
    "h14 = gcd(h8, f6+1)\n",
    "h15 = gcd(h8, f6+2)\n",
    "print(\"(g, f6) = {}\".format(h13))\n",
    "print(\"(g, f6+1) = {}\".format(h14))\n",
    "print(\"(g, f6+2) = {}\".format(h15))\n",
    "\n",
    "print(gcd(h13, h13.derivative()))\n",
    "print(gcd(h14, h14.derivative()))\n",
    "print(gcd(h15, h15.derivative()))\n",
    "\n",
    "if h8 == h13*h14*h15:\n",
    "    print(\"COINCIDE\")\n",
    "    \n",
    "print(h13.is_irreducible())\n",
    "print(h14.is_irreducible())\n",
    "print(h15.is_irreducible())\n",
    "\n",
    "menor_cuerpo(h13, 3, y)\n",
    "menor_cuerpo(h14, 3, y)\n",
    "menor_cuerpo(h15, 3, y)"
   ]
  },
  {
   "cell_type": "markdown",
   "metadata": {},
   "source": [
    "Luego obtenemos el polinomio $f_6=2*y^2+y^3+y^4+y^5+y^6+y^7+y^8+y^9+y^11+y^14+2*y^16+2*y^18+y^19+2*y^20$\n",
    "\n",
    "Obtenemos lso polinomios $h_{13}, h_{14}. h_{15}$ y todos ellos son irreducibles. Por tanto $h_8=h_{13}\\cdot h_{14}\\cdot h_{15}$ es su descomposición en irreducibles y la de h queda como:\n",
    "$$h = (y^3 + 2y^2 + 1)\\cdot (y^{13} + 2y^{12} + y^{11} + y^{10} + 2*y^9 + 2*y^8 + 2*y^7 + y^5 + y^4 + y^2 + 2)\\cdot (y+2)\\cdot (y^9 + 2y^7 + 2y^6 + 2y^5 + 2y^3 + y + 1)$$"
   ]
  },
  {
   "cell_type": "markdown",
   "metadata": {},
   "source": [
    "**v) ¿ Qué deduces sobre la reducibilidad de f(x) en $\\mathbb{Z}[x]$ ?**"
   ]
  },
  {
   "cell_type": "markdown",
   "metadata": {},
   "source": [
    "Como $g$ descompone en $\\mathbb{Z}_2[x]$ en 3 polinomios irreducibles de grados 1, 2 y 23, y en $\\mathbb{Z}_3[x]$ en 4 polinomios irreducibles de grados 1, 3, 9 y 13, tenemos que las factorizaciones son incompatibles y por tanto $g$ es irreducible en $\\mathbb{Z}[x]$"
   ]
  },
  {
   "cell_type": "code",
   "execution_count": 113,
   "metadata": {},
   "outputs": [
    {
     "name": "stdout",
     "output_type": "stream",
     "text": [
      "(x + 1) * (x^2 + x + 1) * (x^23 + x^18 + x^15 + x^14 + x^11 + x^10 + x^5 + x^3 + 1)\n",
      "(y + 2) * (y^3 + 2*y^2 + 1) * (y^9 + 2*y^7 + 2*y^6 + 2*y^5 + 2*y^3 + y + 1) * (y^13 + 2*y^12 + y^11 + y^10 + 2*y^9 + 2*y^8 + 2*y^7 + y^5 + y^4 + y^2 + 2)\n"
     ]
    }
   ],
   "source": [
    "print(g.factor())\n",
    "print(h.factor())"
   ]
  },
  {
   "cell_type": "code",
   "execution_count": null,
   "metadata": {},
   "outputs": [],
   "source": []
  }
 ],
 "metadata": {
  "kernelspec": {
   "display_name": "SageMath 9.1",
   "language": "sage",
   "name": "sagemath"
  },
  "language_info": {
   "codemirror_mode": {
    "name": "ipython",
    "version": 3
   },
   "file_extension": ".py",
   "mimetype": "text/x-python",
   "name": "python",
   "nbconvert_exporter": "python",
   "pygments_lexer": "ipython3",
   "version": "3.7.3"
  }
 },
 "nbformat": 4,
 "nbformat_minor": 5
}
