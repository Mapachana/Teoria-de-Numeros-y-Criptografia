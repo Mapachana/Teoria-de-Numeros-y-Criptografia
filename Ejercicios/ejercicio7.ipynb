{
 "cells": [
  {
   "cell_type": "markdown",
   "id": "46e17df5",
   "metadata": {},
   "source": [
    "# Ejercicio 7\n",
    "\n",
    "> Por: Mapachana\n",
    "\n",
    "**Toma tu número n de la lista publicada para el ejercicio 3. Sea d elprimer elemento de la sucesión 5, -7, 9, -11, 13, ... que satisface que el símbolo deJacobi es (d|n) = -1**"
   ]
  },
  {
   "cell_type": "code",
   "execution_count": 1,
   "id": "48d2bbc4",
   "metadata": {},
   "outputs": [
    {
     "data": {
      "text/plain": [
       "36580545945776718558633000960211"
      ]
     },
     "execution_count": 1,
     "metadata": {},
     "output_type": "execute_result"
    }
   ],
   "source": [
    "n = 36580545945776718558633000960211\n",
    "n"
   ]
  },
  {
   "cell_type": "code",
   "execution_count": 2,
   "id": "36a408e8",
   "metadata": {},
   "outputs": [],
   "source": [
    "import math"
   ]
  },
  {
   "cell_type": "markdown",
   "id": "cb805cdc",
   "metadata": {},
   "source": [
    "**i) Con P = 1, Q = (1-d)/4, define el e.c. $\\alpha$ y sus sucesiones de Lucas asociadas.**"
   ]
  },
  {
   "cell_type": "code",
   "execution_count": null,
   "id": "7950c989",
   "metadata": {},
   "outputs": [],
   "source": []
  },
  {
   "cell_type": "code",
   "execution_count": null,
   "id": "ab434090",
   "metadata": {},
   "outputs": [],
   "source": []
  },
  {
   "cell_type": "code",
   "execution_count": null,
   "id": "be3afb72",
   "metadata": {},
   "outputs": [],
   "source": []
  },
  {
   "cell_type": "code",
   "execution_count": null,
   "id": "d80a764d",
   "metadata": {},
   "outputs": [],
   "source": []
  },
  {
   "cell_type": "code",
   "execution_count": null,
   "id": "a6d078ad",
   "metadata": {},
   "outputs": [],
   "source": []
  },
  {
   "cell_type": "code",
   "execution_count": null,
   "id": "27d1e8ea",
   "metadata": {},
   "outputs": [],
   "source": []
  },
  {
   "cell_type": "markdown",
   "id": "7fb4a670",
   "metadata": {},
   "source": [
    "**ii) Si n primo ¿Que debería de pasarle a $V_r,U_r$,módulo n? ¿Y a $V_{r/2} ,U_{r/2}$? Calcula los términos $V_{r/2} ,U_{r/2},V_r ,U_r$, módulo n, de las sucesiones de Lucas. ¿ Tu n verifica el TPF para el entero cuadrático $\\alpha$ ?**"
   ]
  },
  {
   "cell_type": "code",
   "execution_count": null,
   "id": "7e95368f",
   "metadata": {},
   "outputs": [],
   "source": []
  },
  {
   "cell_type": "code",
   "execution_count": null,
   "id": "9dee6ce2",
   "metadata": {},
   "outputs": [],
   "source": []
  },
  {
   "cell_type": "code",
   "execution_count": null,
   "id": "f5281c0c",
   "metadata": {},
   "outputs": [],
   "source": []
  },
  {
   "cell_type": "code",
   "execution_count": null,
   "id": "f09f7b2f",
   "metadata": {},
   "outputs": [],
   "source": []
  },
  {
   "cell_type": "code",
   "execution_count": null,
   "id": "ff19efba",
   "metadata": {},
   "outputs": [],
   "source": []
  },
  {
   "cell_type": "code",
   "execution_count": null,
   "id": "472e7c86",
   "metadata": {},
   "outputs": [],
   "source": []
  },
  {
   "cell_type": "markdown",
   "id": "4a180863",
   "metadata": {},
   "source": [
    "**iii) Factoriza r = n+1 y para cada factor primo p suyo, calcula $U_{r/p}$ . ¿ Cuál es el rango de Lucas w(n) ?. ¿ Qué deduces sobre la primalidad de tu n ?**"
   ]
  },
  {
   "cell_type": "code",
   "execution_count": null,
   "id": "903a9e91",
   "metadata": {},
   "outputs": [],
   "source": []
  },
  {
   "cell_type": "code",
   "execution_count": null,
   "id": "3d9903d4",
   "metadata": {},
   "outputs": [],
   "source": []
  },
  {
   "cell_type": "code",
   "execution_count": null,
   "id": "ecc77c2b",
   "metadata": {},
   "outputs": [],
   "source": []
  },
  {
   "cell_type": "code",
   "execution_count": null,
   "id": "45734855",
   "metadata": {},
   "outputs": [],
   "source": []
  },
  {
   "cell_type": "code",
   "execution_count": null,
   "id": "b1cc9a1e",
   "metadata": {},
   "outputs": [],
   "source": []
  }
 ],
 "metadata": {
  "kernelspec": {
   "display_name": "Python 3 (ipykernel)",
   "language": "python",
   "name": "python3"
  },
  "language_info": {
   "codemirror_mode": {
    "name": "ipython",
    "version": 3
   },
   "file_extension": ".py",
   "mimetype": "text/x-python",
   "name": "python",
   "nbconvert_exporter": "python",
   "pygments_lexer": "ipython3",
   "version": "3.8.8"
  }
 },
 "nbformat": 4,
 "nbformat_minor": 5
}
