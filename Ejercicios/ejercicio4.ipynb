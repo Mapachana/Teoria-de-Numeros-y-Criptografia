{
 "cells": [
  {
   "cell_type": "markdown",
   "id": "46e17df5",
   "metadata": {},
   "source": [
    "# Ejercicio 4\n",
    "\n",
    "> Por: Mapachana\n",
    "\n",
    "**Dado tu número n de 8 cifras de la lista del ejercicio 2.**"
   ]
  },
  {
   "cell_type": "code",
   "execution_count": 156,
   "id": "48d2bbc4",
   "metadata": {},
   "outputs": [
    {
     "data": {
      "text/plain": [
       "77770081"
      ]
     },
     "execution_count": 156,
     "metadata": {},
     "output_type": "execute_result"
    }
   ],
   "source": [
    "n = 77770081\n",
    "n"
   ]
  },
  {
   "cell_type": "markdown",
   "id": "cb805cdc",
   "metadata": {},
   "source": [
    "**i) Facroriza n-1 aplicando el métodoΡ de Polard. ¿Cúantas iteraciones necesitas?**"
   ]
  },
  {
   "cell_type": "code",
   "execution_count": 157,
   "id": "36a408e8",
   "metadata": {},
   "outputs": [],
   "source": [
    "import math"
   ]
  },
  {
   "cell_type": "code",
   "execution_count": 158,
   "id": "3332f85b",
   "metadata": {},
   "outputs": [],
   "source": [
    "def f(x):\n",
    "    return pow(x,2)+1\n",
    "\n",
    "def rho_polar(n, x0, t0):\n",
    "    x = x0\n",
    "    y = x\n",
    "    t = t0\n",
    "    i = 0\n",
    "    g= '-'\n",
    "    print(\"Paso: {}, x: {}, y: {}, g: {}\".format(i,x,y,g))\n",
    "    while i < t:\n",
    "        i = i+1\n",
    "        x = pow(f(x),1,n)\n",
    "        y = pow(f(f(y)),1,n)\n",
    "        g = math.gcd(x-y, n)\n",
    "        print(\"Paso: {}, x: {}, y: {}, g: {}\".format(i,x,y,g))\n",
    "        if 1 < g and g < n:\n",
    "            print(\"g: {}\".format(g))\n",
    "            print(\"Iteraciones necesarias {}\".format(i))\n",
    "            \n",
    "            return g, i\n",
    "    \n",
    "    print(\"No hay divisores con t iteraciones\")\n",
    "    return \"No hay divisores con t iteraciones\""
   ]
  },
  {
   "cell_type": "code",
   "execution_count": 159,
   "id": "7762e212",
   "metadata": {},
   "outputs": [
    {
     "name": "stdout",
     "output_type": "stream",
     "text": [
      "Paso: 0, x: 1, y: 1, g: -\n",
      "Paso: 1, x: 2, y: 5, g: 1\n",
      "Paso: 2, x: 5, y: 677, g: 1\n",
      "Paso: 3, x: 26, y: 2957, g: 1\n",
      "Paso: 4, x: 677, y: 6890, g: 19\n",
      "g: 19\n",
      "Iteraciones necesarias 4\n"
     ]
    },
    {
     "data": {
      "text/plain": [
       "(19, 4)"
      ]
     },
     "execution_count": 159,
     "metadata": {},
     "output_type": "execute_result"
    }
   ],
   "source": [
    "rho_polar(7429, 1, 100)"
   ]
  },
  {
   "cell_type": "code",
   "execution_count": 160,
   "id": "b3066f19",
   "metadata": {},
   "outputs": [
    {
     "name": "stdout",
     "output_type": "stream",
     "text": [
      "Paso: 0, x: 1, y: 1, g: -\n",
      "Paso: 1, x: 2, y: 5, g: 1\n",
      "Paso: 2, x: 5, y: 286, g: 1\n",
      "Paso: 3, x: 26, y: 220, g: 1\n",
      "Paso: 4, x: 286, y: 243, g: 1\n",
      "Paso: 5, x: 78, y: 82, g: 1\n",
      "Paso: 6, x: 220, y: 220, g: 391\n",
      "Paso: 7, x: 308, y: 243, g: 1\n",
      "Paso: 8, x: 243, y: 82, g: 23\n",
      "g: 23\n",
      "Iteraciones necesarias 8\n"
     ]
    },
    {
     "data": {
      "text/plain": [
       "(23, 8)"
      ]
     },
     "execution_count": 160,
     "metadata": {},
     "output_type": "execute_result"
    }
   ],
   "source": [
    "rho_polar(391, 1, 100)"
   ]
  },
  {
   "cell_type": "markdown",
   "id": "ea317ce8",
   "metadata": {},
   "source": [
    "Comenzamos aplicando el metodo $\\rho$ de Polard a nuestro número $n$, que al ser par es claramente compuesto."
   ]
  },
  {
   "cell_type": "code",
   "execution_count": 161,
   "id": "22c6c071",
   "metadata": {},
   "outputs": [
    {
     "name": "stdout",
     "output_type": "stream",
     "text": [
      "Paso: 0, x: 1, y: 1, g: -\n",
      "Paso: 1, x: 2, y: 5, g: 3\n",
      "g: 3\n",
      "Iteraciones necesarias 1\n",
      "25923360\n"
     ]
    }
   ],
   "source": [
    "m = n-1\n",
    "factores = []\n",
    "itotal = 0\n",
    "g, i = rho_polar(m, 1, 100)\n",
    "factores.append(g)\n",
    "m = m//g\n",
    "itotal = itotal + i\n",
    "print(m)"
   ]
  },
  {
   "cell_type": "markdown",
   "id": "8339e0e6",
   "metadata": {},
   "source": [
    "Como la descomposición es $77770080=3\\cdot 25923360$ el cofactor es claramente compuesto al ser par."
   ]
  },
  {
   "cell_type": "code",
   "execution_count": 162,
   "id": "7889e9f0",
   "metadata": {},
   "outputs": [
    {
     "name": "stdout",
     "output_type": "stream",
     "text": [
      "Paso: 0, x: 1, y: 1, g: -\n",
      "Paso: 1, x: 2, y: 5, g: 3\n",
      "g: 3\n",
      "Iteraciones necesarias 1\n",
      "8641120\n"
     ]
    }
   ],
   "source": [
    "g, i = rho_polar(m, 1, 100)\n",
    "factores.append(g)\n",
    "m = m//g\n",
    "itotal = itotal + i\n",
    "print(m)"
   ]
  },
  {
   "cell_type": "markdown",
   "id": "91388b23",
   "metadata": {},
   "source": [
    "Como la descomposición es $25923360=3\\cdot 8641120$ el cofactor es claramente compuesto al ser par."
   ]
  },
  {
   "cell_type": "code",
   "execution_count": 163,
   "id": "088cd981",
   "metadata": {},
   "outputs": [
    {
     "name": "stdout",
     "output_type": "stream",
     "text": [
      "Paso: 0, x: 1, y: 1, g: -\n",
      "Paso: 1, x: 2, y: 5, g: 1\n",
      "Paso: 2, x: 5, y: 677, g: 32\n",
      "g: 32\n",
      "Iteraciones necesarias 2\n",
      "270035\n"
     ]
    }
   ],
   "source": [
    "g, i = rho_polar(m, 1, 100)\n",
    "factores.append(g)\n",
    "m = m//g\n",
    "itotal = itotal + i\n",
    "print(m)"
   ]
  },
  {
   "cell_type": "markdown",
   "id": "94a2e57c",
   "metadata": {},
   "source": [
    "Como la descomposición es $8641120=32\\cdot 270035$ el cofactor es claramente compuesto al ser múltiplo de 5."
   ]
  },
  {
   "cell_type": "code",
   "execution_count": 164,
   "id": "308b19af",
   "metadata": {},
   "outputs": [
    {
     "name": "stdout",
     "output_type": "stream",
     "text": [
      "Paso: 0, x: 1, y: 1, g: -\n",
      "Paso: 1, x: 2, y: 5, g: 1\n",
      "Paso: 2, x: 5, y: 677, g: 1\n",
      "Paso: 3, x: 26, y: 221631, g: 5\n",
      "g: 5\n",
      "Iteraciones necesarias 3\n",
      "54007\n"
     ]
    }
   ],
   "source": [
    "g, i = rho_polar(m, 1, 100)\n",
    "factores.append(g)\n",
    "m = m//g\n",
    "itotal = itotal + i\n",
    "print(m)"
   ]
  },
  {
   "cell_type": "code",
   "execution_count": 165,
   "id": "5a2c203f",
   "metadata": {},
   "outputs": [
    {
     "data": {
      "text/plain": [
       "29823"
      ]
     },
     "execution_count": 165,
     "metadata": {},
     "output_type": "execute_result"
    }
   ],
   "source": [
    "pow(2, 54007-1, 54007)"
   ]
  },
  {
   "cell_type": "markdown",
   "id": "f58264f6",
   "metadata": {},
   "source": [
    "Como la descomposición es $270035=5\\cdot 54007$ el cofactor es compuesto ya que $2^{54007-1}\\equiv 29823\\mod 54007\\not\\equiv 1\\mod 54007$."
   ]
  },
  {
   "cell_type": "code",
   "execution_count": 166,
   "id": "adccd21b",
   "metadata": {},
   "outputs": [
    {
     "name": "stdout",
     "output_type": "stream",
     "text": [
      "Paso: 0, x: 1, y: 1, g: -\n",
      "Paso: 1, x: 2, y: 5, g: 1\n",
      "Paso: 2, x: 5, y: 677, g: 1\n",
      "Paso: 3, x: 26, y: 5603, g: 1\n",
      "Paso: 4, x: 677, y: 11539, g: 1\n",
      "Paso: 5, x: 26274, y: 30672, g: 1\n",
      "Paso: 6, x: 5603, y: 12599, g: 53\n",
      "g: 53\n",
      "Iteraciones necesarias 6\n"
     ]
    }
   ],
   "source": [
    "g, i = rho_polar(m, 1, 100)\n",
    "factores.append(g)\n",
    "itotal = itotal + i\n",
    "m = m//g"
   ]
  },
  {
   "cell_type": "code",
   "execution_count": 167,
   "id": "85ca44a5",
   "metadata": {},
   "outputs": [
    {
     "name": "stdout",
     "output_type": "stream",
     "text": [
      "[3, 3, 32, 5, 53, 1019]\n",
      "13\n"
     ]
    }
   ],
   "source": [
    "factores.append(m)\n",
    "print(factores)\n",
    "print(itotal)"
   ]
  },
  {
   "cell_type": "markdown",
   "id": "77064047",
   "metadata": {},
   "source": [
    "La descomposición de este número es $54007=53*1019$, donde mirando en la lista vemos que tanto 53 como 1019 son primos, luego la descomposición en factores de nuestro número es:\n",
    "$n-1=3^2\\cdot 2^5\\cdot 5 \\cdot 53 \\cdot 1019$ y el total de iteraciones es $13$."
   ]
  },
  {
   "cell_type": "code",
   "execution_count": 168,
   "id": "1f27a7c2",
   "metadata": {},
   "outputs": [
    {
     "name": "stdout",
     "output_type": "stream",
     "text": [
      "Bien descompuesto\n"
     ]
    }
   ],
   "source": [
    "aux = 1\n",
    "for elem in factores:\n",
    "    aux = elem*aux\n",
    "\n",
    "if aux == n-1:\n",
    "    print(\"Bien descompuesto\")\n",
    "else:\n",
    "    print(\"dep\")"
   ]
  },
  {
   "cell_type": "markdown",
   "id": "dc0b53d8",
   "metadata": {},
   "source": [
    "**ii) Si es necesario aplica recursivamente Lucas-Lehmer para certificar factores primos de n-1 mayores de 4 cifras.**"
   ]
  },
  {
   "cell_type": "markdown",
   "id": "2eb991d6",
   "metadata": {},
   "source": [
    "No ha resultado ningún factor mayor de 4 cifras, por lo que no es necesario."
   ]
  },
  {
   "cell_type": "markdown",
   "id": "551d0bdc",
   "metadata": {},
   "source": [
    "**iii) Aplica Lucas-Lehmer para encontrar un certificado de primalidad de n.**\n",
    "\n",
    "**NOTA: Debes encontrar el natural más pequeño cuya clase sea primitiva.**"
   ]
  },
  {
   "cell_type": "code",
   "execution_count": 169,
   "id": "44c68ff5",
   "metadata": {},
   "outputs": [],
   "source": [
    "def lucas_lehmer(n, primos):\n",
    "    fermat = False\n",
    "    for a in range (1, 20):\n",
    "        if pow(a, n-1, n) == 1:\n",
    "            fermat = True\n",
    "            print(a)\n",
    "            print(\"test fermat: {}\".format(pow(a, n-1, n)))\n",
    "            for num in primos:\n",
    "                print(\"Para num: {}\".format(pow(a, (n-1)//num, n)))"
   ]
  },
  {
   "cell_type": "code",
   "execution_count": 170,
   "id": "a402ce9a",
   "metadata": {
    "scrolled": false
   },
   "outputs": [
    {
     "name": "stdout",
     "output_type": "stream",
     "text": [
      "1\n",
      "test fermat: 1\n",
      "Para num: 1\n",
      "Para num: 1\n",
      "Para num: 1\n",
      "Para num: 1\n",
      "Para num: 1\n",
      "2\n",
      "test fermat: 1\n",
      "Para num: 1\n",
      "Para num: 359699\n",
      "Para num: 134030\n",
      "Para num: 391816\n",
      "Para num: 251513\n",
      "3\n",
      "test fermat: 1\n",
      "Para num: 1\n",
      "Para num: 359699\n",
      "Para num: 134030\n",
      "Para num: 551078\n",
      "Para num: 296851\n",
      "4\n",
      "test fermat: 1\n",
      "Para num: 1\n",
      "Para num: 231901\n",
      "Para num: 76535\n",
      "Para num: 501558\n",
      "Para num: 77441\n",
      "5\n",
      "test fermat: 1\n",
      "Para num: 1\n",
      "Para num: 359699\n",
      "Para num: 164724\n",
      "Para num: 318079\n",
      "Para num: 165787\n",
      "6\n",
      "test fermat: 1\n",
      "Para num: 1\n",
      "Para num: 231901\n",
      "Para num: 76535\n",
      "Para num: 419471\n",
      "Para num: 64560\n",
      "7\n",
      "test fermat: 1\n",
      "Para num: 591600\n",
      "Para num: 359699\n",
      "Para num: 1\n",
      "Para num: 1\n",
      "Para num: 524350\n",
      "8\n",
      "test fermat: 1\n",
      "Para num: 1\n",
      "Para num: 1\n",
      "Para num: 216311\n",
      "Para num: 429148\n",
      "Para num: 138510\n",
      "9\n",
      "test fermat: 1\n",
      "Para num: 1\n",
      "Para num: 231901\n",
      "Para num: 76535\n",
      "Para num: 420754\n",
      "Para num: 364049\n",
      "10\n",
      "test fermat: 1\n",
      "Para num: 1\n",
      "Para num: 231901\n",
      "Para num: 1\n",
      "Para num: 1\n",
      "Para num: 364049\n",
      "11\n",
      "test fermat: 1\n",
      "Para num: 591600\n",
      "Para num: 1\n",
      "Para num: 164724\n",
      "Para num: 419471\n",
      "Para num: 581071\n",
      "12\n",
      "test fermat: 1\n",
      "Para num: 1\n",
      "Para num: 1\n",
      "Para num: 216311\n",
      "Para num: 409122\n",
      "Para num: 6633\n",
      "13\n",
      "test fermat: 1\n",
      "Para num: 1\n",
      "Para num: 1\n",
      "Para num: 134030\n",
      "Para num: 175618\n",
      "Para num: 572078\n",
      "14\n",
      "test fermat: 1\n",
      "Para num: 591600\n",
      "Para num: 231901\n",
      "Para num: 134030\n",
      "Para num: 391816\n",
      "Para num: 555029\n",
      "15\n",
      "test fermat: 1\n",
      "Para num: 1\n",
      "Para num: 231901\n",
      "Para num: 1\n",
      "Para num: 287271\n",
      "Para num: 524350\n",
      "16\n",
      "test fermat: 1\n",
      "Para num: 1\n",
      "Para num: 359699\n",
      "Para num: 164724\n",
      "Para num: 441745\n",
      "Para num: 49144\n",
      "17\n",
      "test fermat: 1\n",
      "Para num: 1\n",
      "Para num: 359699\n",
      "Para num: 1\n",
      "Para num: 391816\n",
      "Para num: 582872\n",
      "18\n",
      "test fermat: 1\n",
      "Para num: 1\n",
      "Para num: 1\n",
      "Para num: 216311\n",
      "Para num: 248200\n",
      "Para num: 377766\n",
      "19\n",
      "test fermat: 1\n",
      "Para num: 1\n",
      "Para num: 359699\n",
      "Para num: 164724\n",
      "Para num: 501558\n",
      "Para num: 1\n"
     ]
    }
   ],
   "source": [
    "lucas_lehmer(591601 ,[2, 3, 5, 17, 29])"
   ]
  },
  {
   "cell_type": "code",
   "execution_count": 171,
   "id": "8e2b7b3c",
   "metadata": {},
   "outputs": [
    {
     "name": "stdout",
     "output_type": "stream",
     "text": [
      "1\n",
      "test fermat: 1\n",
      "Para num: 1\n",
      "Para num: 1\n",
      "Para num: 1\n",
      "Para num: 1\n",
      "Para num: 1\n",
      "2\n",
      "test fermat: 1\n",
      "Para num: 1\n",
      "Para num: 19635892\n",
      "Para num: 1\n",
      "Para num: 66308477\n",
      "Para num: 51905151\n",
      "3\n",
      "test fermat: 1\n",
      "Para num: 1\n",
      "Para num: 58134188\n",
      "Para num: 77424475\n",
      "Para num: 38633269\n",
      "Para num: 30239188\n",
      "4\n",
      "test fermat: 1\n",
      "Para num: 1\n",
      "Para num: 58134188\n",
      "Para num: 1\n",
      "Para num: 898507\n",
      "Para num: 35425890\n",
      "5\n",
      "test fermat: 1\n",
      "Para num: 1\n",
      "Para num: 1\n",
      "Para num: 1\n",
      "Para num: 32102390\n",
      "Para num: 58752468\n",
      "6\n",
      "test fermat: 1\n",
      "Para num: 1\n",
      "Para num: 1\n",
      "Para num: 77424475\n",
      "Para num: 46375981\n",
      "Para num: 1440970\n",
      "7\n",
      "test fermat: 1\n",
      "Para num: 1\n",
      "Para num: 19635892\n",
      "Para num: 26472647\n",
      "Para num: 23657361\n",
      "Para num: 17963547\n",
      "8\n",
      "test fermat: 1\n",
      "Para num: 1\n",
      "Para num: 1\n",
      "Para num: 1\n",
      "Para num: 60470873\n",
      "Para num: 18085434\n",
      "9\n",
      "test fermat: 1\n",
      "Para num: 1\n",
      "Para num: 19635892\n",
      "Para num: 66432901\n",
      "Para num: 64599758\n",
      "Para num: 10633980\n",
      "10\n",
      "test fermat: 1\n",
      "Para num: 1\n",
      "Para num: 19635892\n",
      "Para num: 1\n",
      "Para num: 70122749\n",
      "Para num: 77143975\n",
      "11\n",
      "test fermat: 1\n",
      "Para num: 1\n",
      "Para num: 58134188\n",
      "Para num: 26472647\n",
      "Para num: 23657361\n",
      "Para num: 16330631\n",
      "12\n",
      "test fermat: 1\n",
      "Para num: 1\n",
      "Para num: 19635892\n",
      "Para num: 77424475\n",
      "Para num: 53595519\n",
      "Para num: 23206421\n",
      "13\n",
      "test fermat: 1\n",
      "Para num: 1\n",
      "Para num: 58134188\n",
      "Para num: 62980219\n",
      "Para num: 37777953\n",
      "Para num: 32831121\n",
      "14\n",
      "test fermat: 1\n",
      "Para num: 1\n",
      "Para num: 58134188\n",
      "Para num: 26472647\n",
      "Para num: 72235693\n",
      "Para num: 31025883\n",
      "15\n",
      "test fermat: 1\n",
      "Para num: 1\n",
      "Para num: 58134188\n",
      "Para num: 77424475\n",
      "Para num: 22094283\n",
      "Para num: 66282898\n",
      "16\n",
      "test fermat: 1\n",
      "Para num: 1\n",
      "Para num: 19635892\n",
      "Para num: 1\n",
      "Para num: 61388269\n",
      "Para num: 75846551\n",
      "17\n",
      "test fermat: 1\n",
      "Para num: 77770080\n",
      "Para num: 58134188\n",
      "Para num: 66432901\n",
      "Para num: 68065795\n",
      "Para num: 65224721\n",
      "18\n",
      "test fermat: 1\n",
      "Para num: 1\n",
      "Para num: 58134188\n",
      "Para num: 66432901\n",
      "Para num: 55235796\n",
      "Para num: 41818951\n",
      "19\n",
      "test fermat: 1\n",
      "Para num: 77770080\n",
      "Para num: 19635892\n",
      "Para num: 26472647\n",
      "Para num: 13713446\n",
      "Para num: 75829703\n"
     ]
    }
   ],
   "source": [
    "primos = [2, 3, 5, 53, 1019]\n",
    "\n",
    "lucas_lehmer(n, primos)"
   ]
  },
  {
   "cell_type": "markdown",
   "id": "4207f96d",
   "metadata": {},
   "source": [
    "Tenemos que $a=17$ es un elemento primitivo para $n=77770081$ porque $17^{n-1}\\equiv 1\\mod n$ y $17^{\\frac{n-1}{p}}\\not\\equiv 1\\mod n $ para $p\\in\\{2,3,5,53,1019\\}$ pues:\n",
    "\n",
    "$$17^{\\frac{n-1}{2}}\\equiv 77770080\\mod n$$\n",
    "$$17^{\\frac{n-1}{3}}\\equiv 58134188\\mod n$$\n",
    "$$17^{\\frac{n-1}{5}}\\equiv 66432901\\mod n$$\n",
    "$$17^{\\frac{n-1}{53}}\\equiv 68065795\\mod n$$\n",
    "$$17^{\\frac{n-1}{1019}}\\equiv 65224721\\mod n$$"
   ]
  },
  {
   "cell_type": "code",
   "execution_count": 172,
   "id": "ae5c7453",
   "metadata": {},
   "outputs": [
    {
     "data": {
      "text/plain": [
       "65224721"
      ]
     },
     "execution_count": 172,
     "metadata": {},
     "output_type": "execute_result"
    }
   ],
   "source": [
    "pow(17, 77770080//1019, 77770081)"
   ]
  },
  {
   "cell_type": "code",
   "execution_count": null,
   "id": "a74b3548",
   "metadata": {},
   "outputs": [],
   "source": []
  }
 ],
 "metadata": {
  "kernelspec": {
   "display_name": "Python 3 (ipykernel)",
   "language": "python",
   "name": "python3"
  },
  "language_info": {
   "codemirror_mode": {
    "name": "ipython",
    "version": 3
   },
   "file_extension": ".py",
   "mimetype": "text/x-python",
   "name": "python",
   "nbconvert_exporter": "python",
   "pygments_lexer": "ipython3",
   "version": "3.8.8"
  }
 },
 "nbformat": 4,
 "nbformat_minor": 5
}
