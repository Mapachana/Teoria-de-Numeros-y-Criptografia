{
 "cells": [
  {
   "cell_type": "markdown",
   "id": "46e17df5",
   "metadata": {},
   "source": [
    "# Ejercicio 5\n",
    "\n",
    "> Por: Mapachana\n",
    "\n",
    "**Dado tu número n de la lista publicada para este ejercicio.**"
   ]
  },
  {
   "cell_type": "code",
   "execution_count": 6,
   "id": "48d2bbc4",
   "metadata": {},
   "outputs": [
    {
     "data": {
      "text/plain": [
       "55325267"
      ]
     },
     "execution_count": 6,
     "metadata": {},
     "output_type": "execute_result"
    }
   ],
   "source": [
    "n = 55325267\n",
    "n"
   ]
  },
  {
   "cell_type": "markdown",
   "id": "cb805cdc",
   "metadata": {},
   "source": [
    "**i) Factoriza n aplicando el método $\\rho$ de Polard. ¿Cúantas iteraciones necesitas? Sea p1 el mayor de sus factores primos y p2 el siguiente primo.**"
   ]
  },
  {
   "cell_type": "code",
   "execution_count": 7,
   "id": "36a408e8",
   "metadata": {},
   "outputs": [],
   "source": [
    "import math"
   ]
  },
  {
   "cell_type": "code",
   "execution_count": 3,
   "id": "3332f85b",
   "metadata": {},
   "outputs": [],
   "source": [
    "def f(x):\n",
    "    return pow(x,2)+1\n",
    "\n",
    "def rho_polar(n, x0, t0):\n",
    "    x = x0\n",
    "    y = x\n",
    "    t = t0\n",
    "    i = 0\n",
    "    g= '-'\n",
    "    print(\"Paso: {}, x: {}, y: {}, g: {}\".format(i,x,y,g))\n",
    "    while i < t:\n",
    "        i = i+1\n",
    "        x = pow(f(x),1,n)\n",
    "        y = pow(f(f(y)),1,n)\n",
    "        g = math.gcd(x-y, n)\n",
    "        print(\"Paso: {}, x: {}, y: {}, g: {}\".format(i,x,y,g))\n",
    "        if 1 < g and g < n:\n",
    "            print(\"g: {}\".format(g))\n",
    "            print(\"Iteraciones necesarias {}\".format(i))\n",
    "            \n",
    "            return g, i\n",
    "    \n",
    "    print(\"No hay divisores con t iteraciones\")\n",
    "    return \"No hay divisores con t iteraciones\""
   ]
  },
  {
   "cell_type": "markdown",
   "id": "ea317ce8",
   "metadata": {},
   "source": [
    "Comenzamos aplicando el metodo $\\rho$ de Polard a nuestro número $n$ FALTA VER QUE ES COMPUESTO."
   ]
  },
  {
   "cell_type": "code",
   "execution_count": 5,
   "id": "2d3baaf6",
   "metadata": {},
   "outputs": [
    {
     "name": "stdout",
     "output_type": "stream",
     "text": [
      "55325267\n"
     ]
    },
    {
     "data": {
      "text/plain": [
       "27708036"
      ]
     },
     "execution_count": 5,
     "metadata": {},
     "output_type": "execute_result"
    }
   ],
   "source": [
    "print(n)\n",
    "pow(2, n-1, n)"
   ]
  },
  {
   "cell_type": "code",
   "execution_count": 6,
   "id": "22c6c071",
   "metadata": {},
   "outputs": [
    {
     "name": "stdout",
     "output_type": "stream",
     "text": [
      "Paso: 0, x: 1, y: 1, g: -\n",
      "Paso: 1, x: 2, y: 5, g: 1\n",
      "Paso: 2, x: 5, y: 677, g: 1\n",
      "Paso: 3, x: 26, y: 51675369, g: 1\n",
      "Paso: 4, x: 677, y: 30918578, g: 1\n",
      "Paso: 5, x: 458330, y: 20918513, g: 1\n",
      "Paso: 6, x: 51675369, y: 4476096, g: 1\n",
      "Paso: 7, x: 39694742, y: 19159688, g: 1\n",
      "Paso: 8, x: 30918578, y: 43005507, g: 1\n",
      "Paso: 9, x: 37382193, y: 10999303, g: 1\n",
      "Paso: 10, x: 20918513, y: 11264057, g: 1\n",
      "Paso: 11, x: 51848070, y: 25221256, g: 1\n",
      "Paso: 12, x: 4476096, y: 36305392, g: 1\n",
      "Paso: 13, x: 53860371, y: 21377178, g: 1\n",
      "Paso: 14, x: 19159688, y: 10203213, g: 1\n",
      "Paso: 15, x: 41236882, y: 55163530, g: 1\n",
      "Paso: 16, x: 43005507, y: 43254653, g: 1\n",
      "Paso: 17, x: 25883685, y: 30892027, g: 1\n",
      "Paso: 18, x: 10999303, y: 34247685, g: 1\n",
      "Paso: 19, x: 36513414, y: 32513805, g: 1\n",
      "Paso: 20, x: 11264057, y: 18150787, g: 1\n",
      "Paso: 21, x: 51505941, y: 27172055, g: 1\n",
      "Paso: 22, x: 25221256, y: 40927192, g: 1\n",
      "Paso: 23, x: 36264380, y: 51966041, g: 1\n",
      "Paso: 24, x: 36305392, y: 24486635, g: 1\n",
      "Paso: 25, x: 45056391, y: 50098650, g: 1\n",
      "Paso: 26, x: 21377178, y: 53944114, g: 1\n",
      "Paso: 27, x: 21388103, y: 43023640, g: 1\n",
      "Paso: 28, x: 10203213, y: 40414351, g: 1\n",
      "Paso: 29, x: 609470, y: 38411815, g: 1\n",
      "Paso: 30, x: 55163530, y: 50432401, g: 1\n",
      "Paso: 31, x: 45331146, y: 22050380, g: 1\n",
      "Paso: 32, x: 43254653, y: 45396597, g: 1\n",
      "Paso: 33, x: 23114560, y: 2676022, g: 1\n",
      "Paso: 34, x: 30892027, y: 44427175, g: 1\n",
      "Paso: 35, x: 17403859, y: 10969745, g: 1\n",
      "Paso: 36, x: 34247685, y: 11591274, g: 1\n",
      "Paso: 37, x: 23994443, y: 24995716, g: 1\n",
      "Paso: 38, x: 32513805, y: 30794228, g: 1\n",
      "Paso: 39, x: 3954139, y: 43786827, g: 1\n",
      "Paso: 40, x: 18150787, y: 11463397, g: 1\n",
      "Paso: 41, x: 2811969, y: 23550260, g: 1\n",
      "Paso: 42, x: 27172055, y: 4883391, g: 1\n",
      "Paso: 43, x: 16184530, y: 3355419, g: 1\n",
      "Paso: 44, x: 40927192, y: 17821556, g: 1\n",
      "Paso: 45, x: 13702888, y: 2482039, g: 1\n",
      "Paso: 46, x: 51966041, y: 1805680, g: 1\n",
      "Paso: 47, x: 36560689, y: 28082988, g: 1\n",
      "Paso: 48, x: 24486635, y: 12765638, g: 1\n",
      "Paso: 49, x: 22298613, y: 24195215, g: 1\n",
      "Paso: 50, x: 50098650, y: 26262465, g: 1\n",
      "Paso: 51, x: 10780236, y: 10831589, g: 1\n",
      "Paso: 52, x: 53944114, y: 178515, g: 1\n",
      "Paso: 53, x: 23728517, y: 37601443, g: 1\n",
      "Paso: 54, x: 43023640, y: 26980895, g: 1\n",
      "Paso: 55, x: 41177904, y: 51006614, g: 1\n",
      "Paso: 56, x: 40414351, y: 29035729, g: 1\n",
      "Paso: 57, x: 42092492, y: 46484497, g: 1\n",
      "Paso: 58, x: 38411815, y: 4359243, g: 1\n",
      "Paso: 59, x: 33006105, y: 45104852, g: 1\n",
      "Paso: 60, x: 50432401, y: 5128052, g: 1\n",
      "Paso: 61, x: 9458785, y: 42380224, g: 1\n",
      "Paso: 62, x: 22050380, y: 25159005, g: 1\n",
      "Paso: 63, x: 9448009, y: 43016604, g: 1\n",
      "Paso: 64, x: 45396597, y: 54559035, g: 1\n",
      "Paso: 65, x: 37878835, y: 36810182, g: 1\n",
      "Paso: 66, x: 2676022, y: 21813140, g: 1\n",
      "Paso: 67, x: 12485073, y: 36327695, g: 1\n",
      "Paso: 68, x: 44427175, y: 36168569, g: 1\n",
      "Paso: 69, x: 54138822, y: 19206011, g: 1\n",
      "Paso: 70, x: 10969745, y: 9027196, g: 1\n",
      "Paso: 71, x: 28051409, y: 8144697, g: 1\n",
      "Paso: 72, x: 11591274, y: 53664963, g: 1\n",
      "Paso: 73, x: 732509, y: 35084546, g: 1\n",
      "Paso: 74, x: 24995716, y: 46703119, g: 1\n",
      "Paso: 75, x: 12433405, y: 34786209, g: 1\n",
      "Paso: 76, x: 30794228, y: 31403205, g: 1\n",
      "Paso: 77, x: 51765862, y: 34782764, g: 1\n",
      "Paso: 78, x: 43786827, y: 44318778, g: 1\n",
      "Paso: 79, x: 45245796, y: 46621105, g: 1\n",
      "Paso: 80, x: 11463397, y: 16660470, g: 1\n",
      "Paso: 81, x: 11396938, y: 25996135, g: 1\n",
      "Paso: 82, x: 23550260, y: 19416314, g: 7103\n",
      "g: 7103\n",
      "Iteraciones necesarias 82\n",
      "[7103, 7789]\n",
      "82\n"
     ]
    }
   ],
   "source": [
    "m = n\n",
    "factores = []\n",
    "itotal = 0\n",
    "g, i = rho_polar(m, 1, 100)\n",
    "factores.append(g)\n",
    "m = m//g\n",
    "itotal = itotal + i\n",
    "\n",
    "factores.append(m)\n",
    "print(factores)\n",
    "print(itotal)"
   ]
  },
  {
   "cell_type": "markdown",
   "id": "8339e0e6",
   "metadata": {},
   "source": [
    "Como la descomposición es $55325267= 7103 \\cdot 7789$ donde mirando en la lista vemos que 7103 y 7789 son primos, portanto hemos terminado la descomposición de $n$. Se han necesitado 82 iteraciones."
   ]
  },
  {
   "cell_type": "code",
   "execution_count": 5,
   "id": "8fa58742",
   "metadata": {},
   "outputs": [
    {
     "data": {
      "text/plain": [
       "55325267"
      ]
     },
     "execution_count": 5,
     "metadata": {},
     "output_type": "execute_result"
    }
   ],
   "source": [
    "7103*7789"
   ]
  },
  {
   "cell_type": "code",
   "execution_count": 8,
   "id": "85ca44a5",
   "metadata": {},
   "outputs": [
    {
     "name": "stdout",
     "output_type": "stream",
     "text": [
      "Bien descompuesto\n"
     ]
    }
   ],
   "source": [
    "aux = 1\n",
    "for elem in factores:\n",
    "    aux = elem*aux\n",
    "\n",
    "if aux == n:\n",
    "    print(\"Bien descompuesto\")\n",
    "else:\n",
    "    print(\"dep\")"
   ]
  },
  {
   "cell_type": "markdown",
   "id": "77064047",
   "metadata": {},
   "source": [
    "Tenemos entonces que $p_1=7789$ y $p_2=7103$"
   ]
  },
  {
   "cell_type": "code",
   "execution_count": 9,
   "id": "a8751f61",
   "metadata": {},
   "outputs": [],
   "source": [
    "p1 = 7789\n",
    "p2 = 7103"
   ]
  },
  {
   "cell_type": "markdown",
   "id": "6a4c2005",
   "metadata": {},
   "source": [
    "**ii) Calcula las partes enteras de $\\sqrt{p_1}$ y $\\sqrt{p_2}$ con el algoritmo entero.**"
   ]
  },
  {
   "cell_type": "code",
   "execution_count": 33,
   "id": "acdaf18b",
   "metadata": {},
   "outputs": [],
   "source": [
    "def algoritmo_entero(n):\n",
    "    if n%2 == 0:\n",
    "        a = n//2\n",
    "    else:\n",
    "        a = (n+1)//2\n",
    "        \n",
    "    paso = 1\n",
    "    \n",
    "    a_ant = n+1\n",
    "    \n",
    "    while a < a_ant:\n",
    "        num = a*a+n\n",
    "\n",
    "        resto = num%(2*a)\n",
    "        \n",
    "        print(\"Paso: {}, a_i: {}, a_i^2+n: {}\".format(paso, a, num))\n",
    "        \n",
    "        a_ant = a\n",
    "        a = (num-resto)/(2*a)\n",
    "        paso += 1\n",
    "        \n",
    "    return a_ant\n",
    "    "
   ]
  },
  {
   "cell_type": "code",
   "execution_count": 34,
   "id": "5899d992",
   "metadata": {},
   "outputs": [
    {
     "name": "stdout",
     "output_type": "stream",
     "text": [
      "Paso: 1, a_i: 8, a_i^2+n: 79\n",
      "Paso: 2, a_i: 4.0, a_i^2+n: 31.0\n",
      "Paso: 3, a_i: 3.0, a_i^2+n: 24.0\n",
      "Paso: 1, a_i: 51, a_i^2+n: 2702\n",
      "Paso: 2, a_i: 26.0, a_i^2+n: 777.0\n",
      "Paso: 3, a_i: 14.0, a_i^2+n: 297.0\n",
      "Paso: 4, a_i: 10.0, a_i^2+n: 201.0\n"
     ]
    },
    {
     "data": {
      "text/plain": [
       "10.0"
      ]
     },
     "execution_count": 34,
     "metadata": {},
     "output_type": "execute_result"
    }
   ],
   "source": [
    "algoritmo_entero(15)\n",
    "algoritmo_entero(101)"
   ]
  },
  {
   "cell_type": "markdown",
   "id": "3cf025c4",
   "metadata": {},
   "source": [
    "Comenzamos comprobando que los números dados no son cuadrados perfectos:"
   ]
  },
  {
   "cell_type": "code",
   "execution_count": 35,
   "id": "25068d78",
   "metadata": {},
   "outputs": [
    {
     "name": "stdout",
     "output_type": "stream",
     "text": [
      "Raiz de p1: 88.25531145489205\n",
      "Raiz de p2: 84.27929757656977\n"
     ]
    }
   ],
   "source": [
    "print(\"Raiz de p1: {}\".format(math.sqrt(p1)))\n",
    "print(\"Raiz de p2: {}\".format(math.sqrt(p2)))"
   ]
  },
  {
   "cell_type": "markdown",
   "id": "46d60a1c",
   "metadata": {},
   "source": [
    "Ahora aplicamos el algoritmo entero a p1:"
   ]
  },
  {
   "cell_type": "code",
   "execution_count": 36,
   "id": "7563a206",
   "metadata": {},
   "outputs": [
    {
     "name": "stdout",
     "output_type": "stream",
     "text": [
      "Paso: 1, a_i: 3895, a_i^2+n: 15178814\n",
      "Paso: 2, a_i: 1948.0, a_i^2+n: 3802493.0\n",
      "Paso: 3, a_i: 975.0, a_i^2+n: 958414.0\n",
      "Paso: 4, a_i: 491.0, a_i^2+n: 248870.0\n",
      "Paso: 5, a_i: 253.0, a_i^2+n: 71798.0\n",
      "Paso: 6, a_i: 141.0, a_i^2+n: 27670.0\n",
      "Paso: 7, a_i: 98.0, a_i^2+n: 17393.0\n",
      "Paso: 8, a_i: 88.0, a_i^2+n: 15533.0\n"
     ]
    },
    {
     "data": {
      "text/plain": [
       "88.0"
      ]
     },
     "execution_count": 36,
     "metadata": {},
     "output_type": "execute_result"
    }
   ],
   "source": [
    "algoritmo_entero(p1)"
   ]
  },
  {
   "cell_type": "markdown",
   "id": "1ff3ebf9",
   "metadata": {},
   "source": [
    "Y aplicamos el mismo algoritmo a p2:"
   ]
  },
  {
   "cell_type": "code",
   "execution_count": 37,
   "id": "53d74f20",
   "metadata": {},
   "outputs": [
    {
     "name": "stdout",
     "output_type": "stream",
     "text": [
      "Paso: 1, a_i: 3552, a_i^2+n: 12623807\n",
      "Paso: 2, a_i: 1776.0, a_i^2+n: 3161279.0\n",
      "Paso: 3, a_i: 889.0, a_i^2+n: 797424.0\n",
      "Paso: 4, a_i: 448.0, a_i^2+n: 207807.0\n",
      "Paso: 5, a_i: 231.0, a_i^2+n: 60464.0\n",
      "Paso: 6, a_i: 130.0, a_i^2+n: 24003.0\n",
      "Paso: 7, a_i: 92.0, a_i^2+n: 15567.0\n",
      "Paso: 8, a_i: 84.0, a_i^2+n: 14159.0\n"
     ]
    },
    {
     "data": {
      "text/plain": [
       "84.0"
      ]
     },
     "execution_count": 37,
     "metadata": {},
     "output_type": "execute_result"
    }
   ],
   "source": [
    "algoritmo_entero(p2)"
   ]
  },
  {
   "cell_type": "markdown",
   "id": "79240f26",
   "metadata": {},
   "source": [
    "Obteniendo así que la parte entera de $\\sqrt{p_1}=88$ y $\\sqrt{p_2}=84$."
   ]
  },
  {
   "cell_type": "markdown",
   "id": "bf747459",
   "metadata": {},
   "source": [
    "**iii) Calcula las FCS de $\\sqrt{p_1}$ y $\\sqrt{p_2}$ aplicando el algoritmo que usa aritmética entera.**"
   ]
  },
  {
   "cell_type": "code",
   "execution_count": 65,
   "id": "c7ab9db7",
   "metadata": {},
   "outputs": [],
   "source": [
    "def FCS(d):\n",
    "    P = 0\n",
    "    Q = 1\n",
    "    fsd = math.floor(math.sqrt(d))\n",
    "    q = fsd\n",
    "    i = 0\n",
    "    \n",
    "    lista = []\n",
    "    lista.append(q)\n",
    "    \n",
    "    print(\"Paso: {}, P: {}, Q: {}, q: {}\". format(i, P, Q, q))\n",
    "    \n",
    "    i = 1\n",
    "    P = q*Q-P\n",
    "    Q_prev = Q\n",
    "    Q = (d-P*P)//Q\n",
    "    q = (P+fsd)//Q\n",
    "    \n",
    "    lista.append(q)\n",
    "    \n",
    "    print(\"Paso: {}, P: {}, Q: {}, q: {}\". format(i, P, Q, q))\n",
    "\n",
    "    while True:\n",
    "        i += 1\n",
    "        P_prev = P\n",
    "        P = q*Q-P\n",
    "        Q_prev2 = Q_prev\n",
    "        Q_prev = Q\n",
    "        Q = Q_prev2+q*(P_prev-P)\n",
    "        q = (P+fsd)//Q\n",
    "\n",
    "        if Q_prev == 1:\n",
    "            print(\"\\n\")\n",
    "            return lista\n",
    "        \n",
    "        lista.append(q)\n",
    "        \n",
    "        print(\"Paso: {}, P: {}, Q: {}, q: {}\". format(i, P, Q, q))\n",
    "        "
   ]
  },
  {
   "cell_type": "code",
   "execution_count": 66,
   "id": "90246ca7",
   "metadata": {},
   "outputs": [
    {
     "name": "stdout",
     "output_type": "stream",
     "text": [
      "Paso: 0, P: 0, Q: 1, q: 70\n",
      "Paso: 1, P: 70, Q: 33, q: 4\n",
      "Paso: 2, P: 62, Q: 33, q: 4\n",
      "Paso: 3, P: 70, Q: 1, q: 140\n",
      "\n",
      "\n",
      "[70, 4, 4, 140]\n",
      "\n",
      "\n",
      "Paso: 0, P: 0, Q: 1, q: 67\n",
      "Paso: 1, P: 67, Q: 94, q: 1\n",
      "Paso: 2, P: 27, Q: 41, q: 2\n",
      "Paso: 3, P: 55, Q: 38, q: 3\n",
      "Paso: 4, P: 59, Q: 29, q: 4\n",
      "Paso: 5, P: 57, Q: 46, q: 2\n",
      "Paso: 6, P: 35, Q: 73, q: 1\n",
      "Paso: 7, P: 38, Q: 43, q: 2\n",
      "Paso: 8, P: 48, Q: 53, q: 2\n",
      "Paso: 9, P: 58, Q: 23, q: 5\n",
      "Paso: 10, P: 57, Q: 58, q: 2\n",
      "Paso: 11, P: 59, Q: 19, q: 6\n",
      "Paso: 12, P: 55, Q: 82, q: 1\n",
      "Paso: 13, P: 27, Q: 47, q: 2\n",
      "Paso: 14, P: 67, Q: 2, q: 67\n",
      "Paso: 15, P: 67, Q: 47, q: 2\n",
      "Paso: 16, P: 27, Q: 82, q: 1\n",
      "Paso: 17, P: 55, Q: 19, q: 6\n",
      "Paso: 18, P: 59, Q: 58, q: 2\n",
      "Paso: 19, P: 57, Q: 23, q: 5\n",
      "Paso: 20, P: 58, Q: 53, q: 2\n",
      "Paso: 21, P: 48, Q: 43, q: 2\n",
      "Paso: 22, P: 38, Q: 73, q: 1\n",
      "Paso: 23, P: 35, Q: 46, q: 2\n",
      "Paso: 24, P: 57, Q: 29, q: 4\n",
      "Paso: 25, P: 59, Q: 38, q: 3\n",
      "Paso: 26, P: 55, Q: 41, q: 2\n",
      "Paso: 27, P: 27, Q: 94, q: 1\n",
      "Paso: 28, P: 67, Q: 1, q: 134\n",
      "\n",
      "\n",
      "[67, 1, 2, 3, 4, 2, 1, 2, 2, 5, 2, 6, 1, 2, 67, 2, 1, 6, 2, 5, 2, 2, 1, 2, 4, 3, 2, 1, 134]\n"
     ]
    }
   ],
   "source": [
    "print(FCS(4933))\n",
    "print(\"\\n\")\n",
    "print(FCS(4583))"
   ]
  },
  {
   "cell_type": "markdown",
   "id": "78e22cac",
   "metadata": {},
   "source": [
    "Comenzamos aplicando el algoritmo a $p_1$:"
   ]
  },
  {
   "cell_type": "code",
   "execution_count": 67,
   "id": "873a8551",
   "metadata": {},
   "outputs": [
    {
     "name": "stdout",
     "output_type": "stream",
     "text": [
      "Paso: 0, P: 0, Q: 1, q: 88\n",
      "Paso: 1, P: 88, Q: 45, q: 3\n",
      "Paso: 2, P: 47, Q: 124, q: 1\n",
      "Paso: 3, P: 77, Q: 15, q: 11\n",
      "Paso: 4, P: 88, Q: 3, q: 58\n",
      "Paso: 5, P: 86, Q: 131, q: 1\n",
      "Paso: 6, P: 45, Q: 44, q: 3\n",
      "Paso: 7, P: 87, Q: 5, q: 35\n",
      "Paso: 8, P: 88, Q: 9, q: 19\n",
      "Paso: 9, P: 83, Q: 100, q: 1\n",
      "Paso: 10, P: 17, Q: 75, q: 1\n",
      "Paso: 11, P: 58, Q: 59, q: 2\n",
      "Paso: 12, P: 60, Q: 71, q: 2\n",
      "Paso: 13, P: 82, Q: 15, q: 11\n",
      "Paso: 14, P: 83, Q: 60, q: 2\n",
      "Paso: 15, P: 37, Q: 107, q: 1\n",
      "Paso: 16, P: 70, Q: 27, q: 5\n",
      "Paso: 17, P: 65, Q: 132, q: 1\n",
      "Paso: 18, P: 67, Q: 25, q: 6\n",
      "Paso: 19, P: 83, Q: 36, q: 4\n",
      "Paso: 20, P: 61, Q: 113, q: 1\n",
      "Paso: 21, P: 52, Q: 45, q: 3\n",
      "Paso: 22, P: 83, Q: 20, q: 8\n",
      "Paso: 23, P: 77, Q: 93, q: 1\n",
      "Paso: 24, P: 16, Q: 81, q: 1\n",
      "Paso: 25, P: 65, Q: 44, q: 3\n",
      "Paso: 26, P: 67, Q: 75, q: 2\n",
      "Paso: 27, P: 83, Q: 12, q: 14\n",
      "Paso: 28, P: 85, Q: 47, q: 3\n",
      "Paso: 29, P: 56, Q: 99, q: 1\n",
      "Paso: 30, P: 43, Q: 60, q: 2\n",
      "Paso: 31, P: 77, Q: 31, q: 5\n",
      "Paso: 32, P: 78, Q: 55, q: 3\n",
      "Paso: 33, P: 87, Q: 4, q: 43\n",
      "Paso: 34, P: 85, Q: 141, q: 1\n",
      "Paso: 35, P: 56, Q: 33, q: 4\n",
      "Paso: 36, P: 76, Q: 61, q: 2\n",
      "Paso: 37, P: 46, Q: 93, q: 1\n",
      "Paso: 38, P: 47, Q: 60, q: 2\n",
      "Paso: 39, P: 73, Q: 41, q: 3\n",
      "Paso: 40, P: 50, Q: 129, q: 1\n",
      "Paso: 41, P: 79, Q: 12, q: 13\n",
      "Paso: 42, P: 77, Q: 155, q: 1\n",
      "Paso: 43, P: 78, Q: 11, q: 15\n",
      "Paso: 44, P: 87, Q: 20, q: 8\n",
      "Paso: 45, P: 73, Q: 123, q: 1\n",
      "Paso: 46, P: 50, Q: 43, q: 3\n",
      "Paso: 47, P: 79, Q: 36, q: 4\n",
      "Paso: 48, P: 65, Q: 99, q: 1\n",
      "Paso: 49, P: 34, Q: 67, q: 1\n",
      "Paso: 50, P: 33, Q: 100, q: 1\n",
      "Paso: 51, P: 67, Q: 33, q: 4\n",
      "Paso: 52, P: 65, Q: 108, q: 1\n",
      "Paso: 53, P: 43, Q: 55, q: 2\n",
      "Paso: 54, P: 67, Q: 60, q: 2\n",
      "Paso: 55, P: 53, Q: 83, q: 1\n",
      "Paso: 56, P: 30, Q: 83, q: 1\n",
      "Paso: 57, P: 53, Q: 60, q: 2\n",
      "Paso: 58, P: 67, Q: 55, q: 2\n",
      "Paso: 59, P: 43, Q: 108, q: 1\n",
      "Paso: 60, P: 65, Q: 33, q: 4\n",
      "Paso: 61, P: 67, Q: 100, q: 1\n",
      "Paso: 62, P: 33, Q: 67, q: 1\n",
      "Paso: 63, P: 34, Q: 99, q: 1\n",
      "Paso: 64, P: 65, Q: 36, q: 4\n",
      "Paso: 65, P: 79, Q: 43, q: 3\n",
      "Paso: 66, P: 50, Q: 123, q: 1\n",
      "Paso: 67, P: 73, Q: 20, q: 8\n",
      "Paso: 68, P: 87, Q: 11, q: 15\n",
      "Paso: 69, P: 78, Q: 155, q: 1\n",
      "Paso: 70, P: 77, Q: 12, q: 13\n",
      "Paso: 71, P: 79, Q: 129, q: 1\n",
      "Paso: 72, P: 50, Q: 41, q: 3\n",
      "Paso: 73, P: 73, Q: 60, q: 2\n",
      "Paso: 74, P: 47, Q: 93, q: 1\n",
      "Paso: 75, P: 46, Q: 61, q: 2\n",
      "Paso: 76, P: 76, Q: 33, q: 4\n",
      "Paso: 77, P: 56, Q: 141, q: 1\n",
      "Paso: 78, P: 85, Q: 4, q: 43\n",
      "Paso: 79, P: 87, Q: 55, q: 3\n",
      "Paso: 80, P: 78, Q: 31, q: 5\n",
      "Paso: 81, P: 77, Q: 60, q: 2\n",
      "Paso: 82, P: 43, Q: 99, q: 1\n",
      "Paso: 83, P: 56, Q: 47, q: 3\n",
      "Paso: 84, P: 85, Q: 12, q: 14\n",
      "Paso: 85, P: 83, Q: 75, q: 2\n",
      "Paso: 86, P: 67, Q: 44, q: 3\n",
      "Paso: 87, P: 65, Q: 81, q: 1\n",
      "Paso: 88, P: 16, Q: 93, q: 1\n",
      "Paso: 89, P: 77, Q: 20, q: 8\n",
      "Paso: 90, P: 83, Q: 45, q: 3\n",
      "Paso: 91, P: 52, Q: 113, q: 1\n",
      "Paso: 92, P: 61, Q: 36, q: 4\n",
      "Paso: 93, P: 83, Q: 25, q: 6\n",
      "Paso: 94, P: 67, Q: 132, q: 1\n",
      "Paso: 95, P: 65, Q: 27, q: 5\n",
      "Paso: 96, P: 70, Q: 107, q: 1\n",
      "Paso: 97, P: 37, Q: 60, q: 2\n",
      "Paso: 98, P: 83, Q: 15, q: 11\n",
      "Paso: 99, P: 82, Q: 71, q: 2\n",
      "Paso: 100, P: 60, Q: 59, q: 2\n",
      "Paso: 101, P: 58, Q: 75, q: 1\n",
      "Paso: 102, P: 17, Q: 100, q: 1\n",
      "Paso: 103, P: 83, Q: 9, q: 19\n",
      "Paso: 104, P: 88, Q: 5, q: 35\n",
      "Paso: 105, P: 87, Q: 44, q: 3\n",
      "Paso: 106, P: 45, Q: 131, q: 1\n",
      "Paso: 107, P: 86, Q: 3, q: 58\n",
      "Paso: 108, P: 88, Q: 15, q: 11\n",
      "Paso: 109, P: 77, Q: 124, q: 1\n",
      "Paso: 110, P: 47, Q: 45, q: 3\n",
      "Paso: 111, P: 88, Q: 1, q: 176\n",
      "\n",
      "\n",
      "[88, 3, 1, 11, 58, 1, 3, 35, 19, 1, 1, 2, 2, 11, 2, 1, 5, 1, 6, 4, 1, 3, 8, 1, 1, 3, 2, 14, 3, 1, 2, 5, 3, 43, 1, 4, 2, 1, 2, 3, 1, 13, 1, 15, 8, 1, 3, 4, 1, 1, 1, 4, 1, 2, 2, 1, 1, 2, 2, 1, 4, 1, 1, 1, 4, 3, 1, 8, 15, 1, 13, 1, 3, 2, 1, 2, 4, 1, 43, 3, 5, 2, 1, 3, 14, 2, 3, 1, 1, 8, 3, 1, 4, 6, 1, 5, 1, 2, 11, 2, 2, 1, 1, 19, 35, 3, 1, 58, 11, 1, 3, 176]\n"
     ]
    }
   ],
   "source": [
    "print(FCS(p1))"
   ]
  },
  {
   "cell_type": "markdown",
   "id": "62bdcff8",
   "metadata": {},
   "source": [
    "La longitud del período de $p_1$ es 111, luego tenemos que:\n",
    "La FCS de $\\sqrt{p_1}$ es {111, {88, {3, 1, 11, 58, 1, 3, 35, 19, 1, 1, 2, 2, 11, 2, 1, 5, 1, 6, 4, 1, 3, 8, 1, 1, 3, 2, 14, 3, 1, 2, 5, 3, 43, 1, 4, 2, 1, 2, 3, 1, 13, 1, 15, 8, 1, 3, 4, 1, 1, 1, 4, 1, 2, 2, 1, 1, 2, 2, 1, 4, 1, 1, 1, 4, 3, 1, 8, 15, 1, 13, 1, 3, 2, 1, 2, 4, 1, 43, 3, 5, 2, 1, 3, 14, 2, 3, 1, 1, 8, 3, 1, 4, 6, 1, 5, 1, 2, 11, 2, 2, 1, 1, 19, 35, 3, 1, 58, 11, 1, 3, 176}}}"
   ]
  },
  {
   "cell_type": "markdown",
   "id": "c2743c67",
   "metadata": {},
   "source": [
    "Al aplicarlo a $p_2$ obtenemos:"
   ]
  },
  {
   "cell_type": "code",
   "execution_count": 69,
   "id": "1ed08118",
   "metadata": {
    "scrolled": true
   },
   "outputs": [
    {
     "name": "stdout",
     "output_type": "stream",
     "text": [
      "Paso: 0, P: 0, Q: 1, q: 84\n",
      "Paso: 1, P: 84, Q: 47, q: 3\n",
      "Paso: 2, P: 57, Q: 82, q: 1\n",
      "Paso: 3, P: 25, Q: 79, q: 1\n",
      "Paso: 4, P: 54, Q: 53, q: 2\n",
      "Paso: 5, P: 52, Q: 83, q: 1\n",
      "Paso: 6, P: 31, Q: 74, q: 1\n",
      "Paso: 7, P: 43, Q: 71, q: 1\n",
      "Paso: 8, P: 28, Q: 89, q: 1\n",
      "Paso: 9, P: 61, Q: 38, q: 3\n",
      "Paso: 10, P: 53, Q: 113, q: 1\n",
      "Paso: 11, P: 60, Q: 31, q: 4\n",
      "Paso: 12, P: 64, Q: 97, q: 1\n",
      "Paso: 13, P: 33, Q: 62, q: 1\n",
      "Paso: 14, P: 29, Q: 101, q: 1\n",
      "Paso: 15, P: 72, Q: 19, q: 8\n",
      "Paso: 16, P: 80, Q: 37, q: 4\n",
      "Paso: 17, P: 68, Q: 67, q: 2\n",
      "Paso: 18, P: 66, Q: 41, q: 3\n",
      "Paso: 19, P: 57, Q: 94, q: 1\n",
      "Paso: 20, P: 37, Q: 61, q: 1\n",
      "Paso: 21, P: 24, Q: 107, q: 1\n",
      "Paso: 22, P: 83, Q: 2, q: 83\n",
      "Paso: 23, P: 83, Q: 107, q: 1\n",
      "Paso: 24, P: 24, Q: 61, q: 1\n",
      "Paso: 25, P: 37, Q: 94, q: 1\n",
      "Paso: 26, P: 57, Q: 41, q: 3\n",
      "Paso: 27, P: 66, Q: 67, q: 2\n",
      "Paso: 28, P: 68, Q: 37, q: 4\n",
      "Paso: 29, P: 80, Q: 19, q: 8\n",
      "Paso: 30, P: 72, Q: 101, q: 1\n",
      "Paso: 31, P: 29, Q: 62, q: 1\n",
      "Paso: 32, P: 33, Q: 97, q: 1\n",
      "Paso: 33, P: 64, Q: 31, q: 4\n",
      "Paso: 34, P: 60, Q: 113, q: 1\n",
      "Paso: 35, P: 53, Q: 38, q: 3\n",
      "Paso: 36, P: 61, Q: 89, q: 1\n",
      "Paso: 37, P: 28, Q: 71, q: 1\n",
      "Paso: 38, P: 43, Q: 74, q: 1\n",
      "Paso: 39, P: 31, Q: 83, q: 1\n",
      "Paso: 40, P: 52, Q: 53, q: 2\n",
      "Paso: 41, P: 54, Q: 79, q: 1\n",
      "Paso: 42, P: 25, Q: 82, q: 1\n",
      "Paso: 43, P: 57, Q: 47, q: 3\n",
      "Paso: 44, P: 84, Q: 1, q: 168\n",
      "\n",
      "\n",
      "[84, 3, 1, 1, 2, 1, 1, 1, 1, 3, 1, 4, 1, 1, 1, 8, 4, 2, 3, 1, 1, 1, 83, 1, 1, 1, 3, 2, 4, 8, 1, 1, 1, 4, 1, 3, 1, 1, 1, 1, 2, 1, 1, 3, 168]\n"
     ]
    }
   ],
   "source": [
    "print(FCS(p2))"
   ]
  },
  {
   "cell_type": "markdown",
   "id": "abd67329",
   "metadata": {},
   "source": [
    "La longitud del período de $p_2$ es 44, luego tenemos que:\n",
    "La FCS de $\\sqrt{p_2}$ es {44, {84, {3, 1, 1, 2, 1, 1, 1, 1, 3, 1, 4, 1, 1, 1, 8, 4, 2, 3, 1, 1, 1, 83, 1, 1, 1, 3, 2, 4, 8, 1, 1, 1, 4, 1, 3, 1, 1, 1, 1, 2, 1, 1, 3, 168}}}"
   ]
  },
  {
   "cell_type": "code",
   "execution_count": 72,
   "id": "b86f8ccb",
   "metadata": {},
   "outputs": [
    {
     "name": "stdout",
     "output_type": "stream",
     "text": [
      "Paso: 0, P: 0, Q: 1, q: 60\n",
      "Paso: 1, P: 60, Q: 13, q: 9\n",
      "Paso: 2, P: 57, Q: 28, q: 4\n",
      "Paso: 3, P: 55, Q: 21, q: 5\n",
      "Paso: 4, P: 50, Q: 53, q: 2\n",
      "Paso: 5, P: 56, Q: 9, q: 12\n",
      "Paso: 6, P: 52, Q: 101, q: 1\n",
      "Paso: 7, P: 49, Q: 12, q: 9\n",
      "Paso: 8, P: 59, Q: 11, q: 10\n",
      "Paso: 9, P: 51, Q: 92, q: 1\n",
      "Paso: 10, P: 41, Q: 21, q: 4\n",
      "Paso: 11, P: 43, Q: 84, q: 1\n",
      "Paso: 12, P: 41, Q: 23, q: 4\n",
      "Paso: 13, P: 51, Q: 44, q: 2\n",
      "Paso: 14, P: 37, Q: 51, q: 1\n",
      "Paso: 15, P: 14, Q: 67, q: 1\n",
      "Paso: 16, P: 53, Q: 12, q: 9\n",
      "Paso: 17, P: 55, Q: 49, q: 2\n",
      "Paso: 18, P: 43, Q: 36, q: 2\n",
      "Paso: 19, P: 29, Q: 77, q: 1\n",
      "Paso: 20, P: 48, Q: 17, q: 6\n",
      "Paso: 21, P: 54, Q: 41, q: 2\n",
      "Paso: 22, P: 28, Q: 69, q: 1\n",
      "Paso: 23, P: 41, Q: 28, q: 3\n",
      "Paso: 24, P: 43, Q: 63, q: 1\n",
      "Paso: 25, P: 20, Q: 51, q: 1\n",
      "Paso: 26, P: 31, Q: 52, q: 1\n",
      "Paso: 27, P: 21, Q: 61, q: 1\n",
      "Paso: 28, P: 40, Q: 33, q: 3\n",
      "Paso: 29, P: 59, Q: 4, q: 29\n",
      "Paso: 30, P: 57, Q: 91, q: 1\n",
      "Paso: 31, P: 34, Q: 27, q: 3\n",
      "Paso: 32, P: 47, Q: 52, q: 2\n",
      "Paso: 33, P: 57, Q: 7, q: 16\n",
      "Paso: 34, P: 55, Q: 84, q: 1\n",
      "Paso: 35, P: 29, Q: 33, q: 2\n",
      "Paso: 36, P: 37, Q: 68, q: 1\n",
      "Paso: 37, P: 31, Q: 39, q: 2\n",
      "Paso: 38, P: 47, Q: 36, q: 2\n",
      "Paso: 39, P: 25, Q: 83, q: 1\n",
      "Paso: 40, P: 58, Q: 3, q: 39\n",
      "Paso: 41, P: 59, Q: 44, q: 2\n",
      "Paso: 42, P: 29, Q: 63, q: 1\n",
      "Paso: 43, P: 34, Q: 39, q: 2\n",
      "Paso: 44, P: 44, Q: 43, q: 2\n",
      "Paso: 45, P: 42, Q: 43, q: 2\n",
      "Paso: 46, P: 44, Q: 39, q: 2\n",
      "Paso: 47, P: 34, Q: 63, q: 1\n",
      "Paso: 48, P: 29, Q: 44, q: 2\n",
      "Paso: 49, P: 59, Q: 3, q: 39\n",
      "Paso: 50, P: 58, Q: 83, q: 1\n",
      "Paso: 51, P: 25, Q: 36, q: 2\n",
      "Paso: 52, P: 47, Q: 39, q: 2\n",
      "Paso: 53, P: 31, Q: 68, q: 1\n",
      "Paso: 54, P: 37, Q: 33, q: 2\n",
      "Paso: 55, P: 29, Q: 84, q: 1\n",
      "Paso: 56, P: 55, Q: 7, q: 16\n",
      "Paso: 57, P: 57, Q: 52, q: 2\n",
      "Paso: 58, P: 47, Q: 27, q: 3\n",
      "Paso: 59, P: 34, Q: 91, q: 1\n",
      "Paso: 60, P: 57, Q: 4, q: 29\n",
      "Paso: 61, P: 59, Q: 33, q: 3\n",
      "Paso: 62, P: 40, Q: 61, q: 1\n",
      "Paso: 63, P: 21, Q: 52, q: 1\n",
      "Paso: 64, P: 31, Q: 51, q: 1\n",
      "Paso: 65, P: 20, Q: 63, q: 1\n",
      "Paso: 66, P: 43, Q: 28, q: 3\n",
      "Paso: 67, P: 41, Q: 69, q: 1\n",
      "Paso: 68, P: 28, Q: 41, q: 2\n",
      "Paso: 69, P: 54, Q: 17, q: 6\n",
      "Paso: 70, P: 48, Q: 77, q: 1\n",
      "Paso: 71, P: 29, Q: 36, q: 2\n",
      "Paso: 72, P: 43, Q: 49, q: 2\n",
      "Paso: 73, P: 55, Q: 12, q: 9\n",
      "Paso: 74, P: 53, Q: 67, q: 1\n",
      "Paso: 75, P: 14, Q: 51, q: 1\n",
      "Paso: 76, P: 37, Q: 44, q: 2\n",
      "Paso: 77, P: 51, Q: 23, q: 4\n",
      "Paso: 78, P: 41, Q: 84, q: 1\n",
      "Paso: 79, P: 43, Q: 21, q: 4\n",
      "Paso: 80, P: 41, Q: 92, q: 1\n",
      "Paso: 81, P: 51, Q: 11, q: 10\n",
      "Paso: 82, P: 59, Q: 12, q: 9\n",
      "Paso: 83, P: 49, Q: 101, q: 1\n",
      "Paso: 84, P: 52, Q: 9, q: 12\n",
      "Paso: 85, P: 56, Q: 53, q: 2\n",
      "Paso: 86, P: 50, Q: 21, q: 5\n",
      "Paso: 87, P: 55, Q: 28, q: 4\n",
      "Paso: 88, P: 57, Q: 13, q: 9\n",
      "Paso: 89, P: 60, Q: 1, q: 120\n",
      "\n",
      "\n",
      "[60, 9, 4, 5, 2, 12, 1, 9, 10, 1, 4, 1, 4, 2, 1, 1, 9, 2, 2, 1, 6, 2, 1, 3, 1, 1, 1, 1, 3, 29, 1, 3, 2, 16, 1, 2, 1, 2, 2, 1, 39, 2, 1, 2, 2, 2, 2, 1, 2, 39, 1, 2, 2, 1, 2, 1, 16, 2, 3, 1, 29, 3, 1, 1, 1, 1, 3, 1, 2, 6, 1, 2, 2, 9, 1, 1, 2, 4, 1, 4, 1, 10, 9, 1, 12, 2, 5, 4, 9, 120]\n"
     ]
    }
   ],
   "source": [
    "print(FCS(3613))"
   ]
  },
  {
   "cell_type": "code",
   "execution_count": null,
   "id": "e31d3656",
   "metadata": {},
   "outputs": [],
   "source": []
  }
 ],
 "metadata": {
  "kernelspec": {
   "display_name": "Python 3 (ipykernel)",
   "language": "python",
   "name": "python3"
  },
  "language_info": {
   "codemirror_mode": {
    "name": "ipython",
    "version": 3
   },
   "file_extension": ".py",
   "mimetype": "text/x-python",
   "name": "python",
   "nbconvert_exporter": "python",
   "pygments_lexer": "ipython3",
   "version": "3.8.8"
  }
 },
 "nbformat": 4,
 "nbformat_minor": 5
}
