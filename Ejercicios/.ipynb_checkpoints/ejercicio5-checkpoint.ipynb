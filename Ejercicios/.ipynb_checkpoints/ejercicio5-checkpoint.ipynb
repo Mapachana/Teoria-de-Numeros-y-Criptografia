{
 "cells": [
  {
   "cell_type": "markdown",
   "id": "46e17df5",
   "metadata": {},
   "source": [
    "# Ejercicio 5\n",
    "\n",
    "> Por: Mapachana\n",
    "\n",
    "**Dado tu número n de 8 cifras de la lista del ejercicio 2.**"
   ]
  },
  {
   "cell_type": "code",
   "execution_count": 2,
   "id": "48d2bbc4",
   "metadata": {},
   "outputs": [
    {
     "data": {
      "text/plain": [
       "55325267"
      ]
     },
     "execution_count": 2,
     "metadata": {},
     "output_type": "execute_result"
    }
   ],
   "source": [
    "n = 55325267\n",
    "n"
   ]
  },
  {
   "cell_type": "markdown",
   "id": "cb805cdc",
   "metadata": {},
   "source": [
    "**i) Facroriza n-1 aplicando el métodoΡ de Polard. ¿Cúantas iteraciones necesitas?**"
   ]
  },
  {
   "cell_type": "code",
   "execution_count": 3,
   "id": "36a408e8",
   "metadata": {},
   "outputs": [],
   "source": [
    "import math"
   ]
  },
  {
   "cell_type": "code",
   "execution_count": 20,
   "id": "3332f85b",
   "metadata": {},
   "outputs": [],
   "source": [
    "def f(x):\n",
    "    return pow(x,2)+1\n",
    "\n",
    "def rho_polar(n, x0, t0):\n",
    "    x = x0\n",
    "    y = x\n",
    "    t = t0\n",
    "    i = 0\n",
    "    g= '-'\n",
    "    print(\"Paso: {}, x: {}, y: {}, g: {}\".format(i,x,y,g))\n",
    "    while i < t:\n",
    "        i = i+1\n",
    "        x = pow(f(x),1,n)\n",
    "        y = pow(f(f(y)),1,n)\n",
    "        g = math.gcd(x-y, n)\n",
    "        print(\"Paso: {}, x: {}, y: {}, g: {}\".format(i,x,y,g))\n",
    "        if 1 < g and g < n:\n",
    "            print(\"g: {}\".format(g))\n",
    "            print(\"Iteraciones necesarias {}\".format(i))\n",
    "            \n",
    "            return g, i\n",
    "    \n",
    "    print(\"No hay divisores con t iteraciones\")\n",
    "    return \"No hay divisores con t iteraciones\""
   ]
  },
  {
   "cell_type": "code",
   "execution_count": 21,
   "id": "7762e212",
   "metadata": {},
   "outputs": [
    {
     "name": "stdout",
     "output_type": "stream",
     "text": [
      "Paso: 0, x: 1, y: 1, g: -\n",
      "Paso: 1, x: 2, y: 5, g: 1\n",
      "Paso: 2, x: 5, y: 677, g: 1\n",
      "Paso: 3, x: 26, y: 2957, g: 1\n",
      "Paso: 4, x: 677, y: 6890, g: 19\n",
      "g: 19\n",
      "Iteraciones necesarias 4\n"
     ]
    },
    {
     "data": {
      "text/plain": [
       "(19, 4)"
      ]
     },
     "execution_count": 21,
     "metadata": {},
     "output_type": "execute_result"
    }
   ],
   "source": [
    "rho_polar(7429, 1, 100)"
   ]
  },
  {
   "cell_type": "code",
   "execution_count": 22,
   "id": "b3066f19",
   "metadata": {},
   "outputs": [
    {
     "name": "stdout",
     "output_type": "stream",
     "text": [
      "Paso: 0, x: 1, y: 1, g: -\n",
      "Paso: 1, x: 2, y: 5, g: 1\n",
      "Paso: 2, x: 5, y: 286, g: 1\n",
      "Paso: 3, x: 26, y: 220, g: 1\n",
      "Paso: 4, x: 286, y: 243, g: 1\n",
      "Paso: 5, x: 78, y: 82, g: 1\n",
      "Paso: 6, x: 220, y: 220, g: 391\n",
      "Paso: 7, x: 308, y: 243, g: 1\n",
      "Paso: 8, x: 243, y: 82, g: 23\n",
      "g: 23\n",
      "Iteraciones necesarias 8\n"
     ]
    },
    {
     "data": {
      "text/plain": [
       "(23, 8)"
      ]
     },
     "execution_count": 22,
     "metadata": {},
     "output_type": "execute_result"
    }
   ],
   "source": [
    "rho_polar(391, 1, 100)"
   ]
  },
  {
   "cell_type": "markdown",
   "id": "ea317ce8",
   "metadata": {},
   "source": [
    "Comenzamos aplicando el metodo $\\rho$ de Polard a nuestro número $n$, que al ser par es claramente compuesto."
   ]
  },
  {
   "cell_type": "code",
   "execution_count": 23,
   "id": "22c6c071",
   "metadata": {},
   "outputs": [
    {
     "name": "stdout",
     "output_type": "stream",
     "text": [
      "Paso: 0, x: 1, y: 1, g: -\n",
      "Paso: 1, x: 2, y: 5, g: 3\n",
      "g: 3\n",
      "Iteraciones necesarias 1\n",
      "25923360\n"
     ]
    }
   ],
   "source": [
    "m = n-1\n",
    "factores = []\n",
    "itotal = 0\n",
    "g, i = rho_polar(m, 1, 100)\n",
    "factores.append(g)\n",
    "m = m//g\n",
    "itotal = itotal + i\n",
    "print(m)"
   ]
  },
  {
   "cell_type": "markdown",
   "id": "8339e0e6",
   "metadata": {},
   "source": [
    "Como la descomposición es $77770080=3\\cdot 25923360$ el cofactor es claramente compuesto al ser par."
   ]
  },
  {
   "cell_type": "code",
   "execution_count": 24,
   "id": "7889e9f0",
   "metadata": {},
   "outputs": [
    {
     "name": "stdout",
     "output_type": "stream",
     "text": [
      "Paso: 0, x: 1, y: 1, g: -\n",
      "Paso: 1, x: 2, y: 5, g: 3\n",
      "g: 3\n",
      "Iteraciones necesarias 1\n",
      "8641120\n"
     ]
    }
   ],
   "source": [
    "g, i = rho_polar(m, 1, 100)\n",
    "factores.append(g)\n",
    "m = m//g\n",
    "itotal = itotal + i\n",
    "print(m)"
   ]
  },
  {
   "cell_type": "markdown",
   "id": "91388b23",
   "metadata": {},
   "source": [
    "Como la descomposición es $25923360=3\\cdot 8641120$ el cofactor es claramente compuesto al ser par."
   ]
  },
  {
   "cell_type": "code",
   "execution_count": 25,
   "id": "088cd981",
   "metadata": {},
   "outputs": [
    {
     "name": "stdout",
     "output_type": "stream",
     "text": [
      "Paso: 0, x: 1, y: 1, g: -\n",
      "Paso: 1, x: 2, y: 5, g: 1\n",
      "Paso: 2, x: 5, y: 677, g: 32\n",
      "g: 32\n",
      "Iteraciones necesarias 2\n",
      "270035\n"
     ]
    }
   ],
   "source": [
    "g, i = rho_polar(m, 1, 100)\n",
    "factores.append(g)\n",
    "m = m//g\n",
    "itotal = itotal + i\n",
    "print(m)"
   ]
  },
  {
   "cell_type": "markdown",
   "id": "94a2e57c",
   "metadata": {},
   "source": [
    "Como la descomposición es $8641120=32\\cdot 270035$ el cofactor es claramente compuesto al ser múltiplo de 5."
   ]
  },
  {
   "cell_type": "code",
   "execution_count": 26,
   "id": "308b19af",
   "metadata": {},
   "outputs": [
    {
     "name": "stdout",
     "output_type": "stream",
     "text": [
      "Paso: 0, x: 1, y: 1, g: -\n",
      "Paso: 1, x: 2, y: 5, g: 1\n",
      "Paso: 2, x: 5, y: 677, g: 1\n",
      "Paso: 3, x: 26, y: 221631, g: 5\n",
      "g: 5\n",
      "Iteraciones necesarias 3\n",
      "54007\n"
     ]
    }
   ],
   "source": [
    "g, i = rho_polar(m, 1, 100)\n",
    "factores.append(g)\n",
    "m = m//g\n",
    "itotal = itotal + i\n",
    "print(m)"
   ]
  },
  {
   "cell_type": "code",
   "execution_count": 27,
   "id": "5a2c203f",
   "metadata": {},
   "outputs": [
    {
     "data": {
      "text/plain": [
       "29823"
      ]
     },
     "execution_count": 27,
     "metadata": {},
     "output_type": "execute_result"
    }
   ],
   "source": [
    "pow(2, 54007-1, 54007)"
   ]
  },
  {
   "cell_type": "markdown",
   "id": "f58264f6",
   "metadata": {},
   "source": [
    "Como la descomposición es $270035=5\\cdot 54007$ el cofactor es compuesto ya que $2^{54007-1}\\equiv 29823\\mod 54007\\not\\equiv 1\\mod 54007$."
   ]
  },
  {
   "cell_type": "code",
   "execution_count": 28,
   "id": "adccd21b",
   "metadata": {},
   "outputs": [
    {
     "name": "stdout",
     "output_type": "stream",
     "text": [
      "Paso: 0, x: 1, y: 1, g: -\n",
      "Paso: 1, x: 2, y: 5, g: 1\n",
      "Paso: 2, x: 5, y: 677, g: 1\n",
      "Paso: 3, x: 26, y: 5603, g: 1\n",
      "Paso: 4, x: 677, y: 11539, g: 1\n",
      "Paso: 5, x: 26274, y: 30672, g: 1\n",
      "Paso: 6, x: 5603, y: 12599, g: 53\n",
      "g: 53\n",
      "Iteraciones necesarias 6\n"
     ]
    }
   ],
   "source": [
    "g, i = rho_polar(m, 1, 100)\n",
    "factores.append(g)\n",
    "itotal = itotal + i\n",
    "m = m//g"
   ]
  },
  {
   "cell_type": "code",
   "execution_count": 29,
   "id": "85ca44a5",
   "metadata": {},
   "outputs": [
    {
     "name": "stdout",
     "output_type": "stream",
     "text": [
      "[3, 3, 32, 5, 53, 1019]\n",
      "13\n"
     ]
    }
   ],
   "source": [
    "factores.append(m)\n",
    "print(factores)\n",
    "print(itotal)"
   ]
  },
  {
   "cell_type": "markdown",
   "id": "77064047",
   "metadata": {},
   "source": [
    "La descomposición de este número es $54007=53*1019$, donde mirando en la lista vemos que tanto 53 como 1019 son primos, luego la descomposición en factores de nuestro número es:\n",
    "$n-1=3^2\\cdot 2^5\\cdot 5 \\cdot 53 \\cdot 1019$ y el total de iteraciones es $13$."
   ]
  }
 ],
 "metadata": {
  "kernelspec": {
   "display_name": "Python 3 (ipykernel)",
   "language": "python",
   "name": "python3"
  },
  "language_info": {
   "codemirror_mode": {
    "name": "ipython",
    "version": 3
   },
   "file_extension": ".py",
   "mimetype": "text/x-python",
   "name": "python",
   "nbconvert_exporter": "python",
   "pygments_lexer": "ipython3",
   "version": "3.8.8"
  }
 },
 "nbformat": 4,
 "nbformat_minor": 5
}
