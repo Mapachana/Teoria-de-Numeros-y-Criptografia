{
 "cells": [
  {
   "cell_type": "markdown",
   "id": "6cd311d9",
   "metadata": {},
   "source": [
    "# Ejercicio 1\n",
    "\n",
    "> Por: Mapachana\n",
    "\n",
    "**Dado tu número n = d1d2d3d4d5d6d7d8.**"
   ]
  },
  {
   "cell_type": "markdown",
   "id": "695a2a5e",
   "metadata": {},
   "source": [
    "En este caso mi número es $n=77770080$."
   ]
  },
  {
   "cell_type": "code",
   "execution_count": 52,
   "id": "f757dfe2",
   "metadata": {},
   "outputs": [
    {
     "name": "stdout",
     "output_type": "stream",
     "text": [
      "77770080\n"
     ]
    }
   ],
   "source": [
    "n = 77770080\n",
    "\n",
    "print(n)"
   ]
  },
  {
   "cell_type": "markdown",
   "id": "71b4c322",
   "metadata": {},
   "source": [
    "**i) Mientras n sea múltiplo de 2, 3, 5, 7 u 11 le sumas uno. De forma que tu nuevo nno tenga esos divisores primos.**"
   ]
  },
  {
   "cell_type": "code",
   "execution_count": 53,
   "id": "201da59b",
   "metadata": {},
   "outputs": [
    {
     "name": "stdout",
     "output_type": "stream",
     "text": [
      "77770081\n"
     ]
    }
   ],
   "source": [
    "while n%2 == 0 or n%3 == 0 or n%5 == 0 or n%7 == 0 or n%11 == 0:\n",
    "    n += 1\n",
    "    \n",
    "print(n)"
   ]
  },
  {
   "cell_type": "markdown",
   "id": "3642beb4",
   "metadata": {},
   "source": [
    "Luego el número con el que vamos a trabajar es $77770081$"
   ]
  },
  {
   "cell_type": "markdown",
   "id": "06540f60",
   "metadata": {},
   "source": [
    "**ii) Calcula $a^{n-1}$ mod n, para cada uno de esas cinco bases usando sucesivamente elalgoritmo de izda-drcha y de drcha-izda.**"
   ]
  },
  {
   "cell_type": "markdown",
   "id": "a41bd7f9",
   "metadata": {},
   "source": [
    "Comenzamos implementando el algoritmo de exponenciación rápida de derecha a izquierda, ya que es más intuitivo de entender:"
   ]
  },
  {
   "cell_type": "code",
   "execution_count": 54,
   "id": "8c82264a",
   "metadata": {},
   "outputs": [],
   "source": [
    "def exp_dcha_izq(a, b, n):\n",
    "    '''Funcion que calcula mediante exponenciacion rapida de derecha a izquierda a^b mod n'''\n",
    "    base = a\n",
    "    acu = 1\n",
    "    num = b\n",
    "    exp = 0\n",
    "    \n",
    "    # Iteracion 0\n",
    "    print(\"  Paso  |  acu  |  base  \")\n",
    "    print(\"-------------------------\")\n",
    "    print(\"  0  |   {}  |  {}  \".format(acu, base))\n",
    "    \n",
    "    j = 1\n",
    "    while num > 0:\n",
    "        if num % 2 != 0:\n",
    "            acu = (acu * base) % n\n",
    "            num = (num-1)/2\n",
    "            ej = 1\n",
    "        else:\n",
    "            num = num/2\n",
    "            ej = 0\n",
    "        base = (base*base) % n\n",
    "        exp = exp + ej*pow(2, j)\n",
    "\n",
    "        print(\"  {}  |  {}  |  {}  \".format(j, acu, base))\n",
    "        \n",
    "        j += 1"
   ]
  },
  {
   "cell_type": "code",
   "execution_count": 57,
   "id": "b1aa664a",
   "metadata": {},
   "outputs": [
    {
     "name": "stdout",
     "output_type": "stream",
     "text": [
      "  Paso  |  acu  |  base  \n",
      "-------------------------\n",
      "  0  |   1  |  2  \n",
      "  1  |  1  |  4  \n",
      "  2  |  4  |  16  \n",
      "  3  |  64  |  256  \n",
      "  4  |  16384  |  65536  \n",
      "  5  |  16384  |  22424717  \n",
      "  6  |  16384  |  12167649  \n",
      "  7  |  14796941  |  26585339  \n",
      "  8  |  14796941  |  9779482  \n",
      "  9  |  120175  |  15067521  \n",
      "  10  |  24905736  |  12424177  \n",
      "  11  |  9320126  |  14159809  \n",
      "  12  |  10785431  |  15283  \n",
      "  13  |  682094  |  15860913  \n",
      "  14  |  11508854  |  2314287  \n",
      "  15  |  11508854  |  6452299  \n",
      "  16  |  11508854  |  17649979  \n",
      "  17  |  15616437  |  11515927  \n",
      "  18  |  8921297  |  9800221  \n",
      "  19  |  10593740  |  23701151  \n",
      "  20  |  1995822  |  21932449  \n",
      "  21  |  4173990  |  3214080  \n",
      "  22  |  4173990  |  9845200  \n",
      "  23  |  4173990  |  760573  \n",
      "  24  |  16105485  |  18007697  \n",
      "  25  |  1  |  13932984  \n"
     ]
    }
   ],
   "source": [
    "# Numeros ejemplo diapos\n",
    "exp_dcha_izq(2, 27213646, 27213647)"
   ]
  },
  {
   "cell_type": "code",
   "execution_count": 58,
   "id": "ddee40f7",
   "metadata": {},
   "outputs": [
    {
     "name": "stdout",
     "output_type": "stream",
     "text": [
      "Para la base 2 se tiene: \n",
      "  Paso  |  acu  |  base  \n",
      "-------------------------\n",
      "  0  |   1  |  2  \n",
      "  1  |  1  |  4  \n",
      "  2  |  1  |  16  \n",
      "  3  |  1  |  256  \n",
      "  4  |  1  |  65536  \n",
      "  5  |  1  |  17612841  \n",
      "  6  |  17612841  |  69275565  \n",
      "  7  |  44516305  |  9980674  \n",
      "  8  |  44516305  |  23223320  \n",
      "  9  |  44680160  |  67690927  \n",
      "  10  |  44680160  |  77257279  \n",
      "  11  |  1465333  |  25247343  \n",
      "  12  |  70708033  |  13797891  \n",
      "  13  |  70708033  |  15599233  \n",
      "  14  |  31848612  |  19426093  \n",
      "  15  |  31848612  |  70568710  \n",
      "  16  |  19282073  |  10086087  \n",
      "  17  |  19282073  |  52267494  \n",
      "  18  |  44352822  |  10929208  \n",
      "  19  |  44352822  |  53478878  \n",
      "  20  |  44352822  |  18488420  \n",
      "  21  |  44352822  |  3628315  \n",
      "  22  |  35935437  |  61507869  \n",
      "  23  |  35935437  |  45590014  \n",
      "  24  |  15507894  |  21699431  \n",
      "  25  |  15507894  |  50932700  \n",
      "  26  |  15507894  |  44851232  \n",
      "  27  |  1  |  55498452  \n",
      "Para la base 3 se tiene: \n",
      "  Paso  |  acu  |  base  \n",
      "-------------------------\n",
      "  0  |   1  |  3  \n",
      "  1  |  1  |  9  \n",
      "  2  |  1  |  81  \n",
      "  3  |  1  |  6561  \n",
      "  4  |  1  |  43046721  \n",
      "  5  |  1  |  12562698  \n",
      "  6  |  12562698  |  67023312  \n",
      "  7  |  58342833  |  40759744  \n",
      "  8  |  58342833  |  63810002  \n",
      "  9  |  24303074  |  70788665  \n",
      "  10  |  24303074  |  26430655  \n",
      "  11  |  58499677  |  49886400  \n",
      "  12  |  54301195  |  47309308  \n",
      "  13  |  54301195  |  31523377  \n",
      "  14  |  73546473  |  66869943  \n",
      "  15  |  73546473  |  481537  \n",
      "  16  |  19632816  |  45270908  \n",
      "  17  |  19632816  |  75692200  \n",
      "  18  |  29496059  |  27863284  \n",
      "  19  |  29496059  |  52818504  \n",
      "  20  |  29496059  |  43958962  \n",
      "  21  |  29496059  |  41181807  \n",
      "  22  |  3749083  |  50088853  \n",
      "  23  |  3749083  |  51464019  \n",
      "  24  |  51758518  |  62708747  \n",
      "  25  |  51758518  |  43324625  \n",
      "  26  |  51758518  |  75071723  \n",
      "  27  |  1  |  67602701  \n",
      "Para la base 5 se tiene: \n",
      "  Paso  |  acu  |  base  \n",
      "-------------------------\n",
      "  0  |   1  |  5  \n",
      "  1  |  1  |  25  \n",
      "  2  |  1  |  625  \n",
      "  3  |  1  |  390625  \n",
      "  4  |  1  |  2991703  \n",
      "  5  |  1  |  39298243  \n",
      "  6  |  39298243  |  11535691  \n",
      "  7  |  9210897  |  14558624  \n",
      "  8  |  9210897  |  42797110  \n",
      "  9  |  29856166  |  49630482  \n",
      "  10  |  29856166  |  32027512  \n",
      "  11  |  28016975  |  53957117  \n",
      "  12  |  65591934  |  52967279  \n",
      "  13  |  65591934  |  70302898  \n",
      "  14  |  52076763  |  6980919  \n",
      "  15  |  52076763  |  8687369  \n",
      "  16  |  30787191  |  38207412  \n",
      "  17  |  30787191  |  6383268  \n",
      "  18  |  73995456  |  31821494  \n",
      "  19  |  73995456  |  40939349  \n",
      "  20  |  73995456  |  48295268  \n",
      "  21  |  73995456  |  3819153  \n",
      "  22  |  58442021  |  73175778  \n",
      "  23  |  58442021  |  42371599  \n",
      "  24  |  63235719  |  62680535  \n",
      "  25  |  63235719  |  10805207  \n",
      "  26  |  63235719  |  8671437  \n",
      "  27  |  1  |  28118256  \n",
      "Para la base 7 se tiene: \n",
      "  Paso  |  acu  |  base  \n",
      "-------------------------\n",
      "  0  |   1  |  7  \n",
      "  1  |  1  |  49  \n",
      "  2  |  1  |  2401  \n",
      "  3  |  1  |  5764801  \n",
      "  4  |  1  |  64016519  \n",
      "  5  |  1  |  66361301  \n",
      "  6  |  66361301  |  53942426  \n",
      "  7  |  11146291  |  10572008  \n",
      "  8  |  11146291  |  3472833  \n",
      "  9  |  4865544  |  62654490  \n",
      "  10  |  4865544  |  59229057  \n",
      "  11  |  37101810  |  71051765  \n",
      "  12  |  58332031  |  36885562  \n",
      "  13  |  58332031  |  46045556  \n",
      "  14  |  55512383  |  3850811  \n",
      "  15  |  55512383  |  12933127  \n",
      "  16  |  42505399  |  61345597  \n",
      "  17  |  42505399  |  28288883  \n",
      "  18  |  50620210  |  1900642  \n",
      "  19  |  50620210  |  19749714  \n",
      "  20  |  50620210  |  28031156  \n",
      "  21  |  50620210  |  48437372  \n",
      "  22  |  26226364  |  3766720  \n",
      "  23  |  26226364  |  39291003  \n",
      "  24  |  40666288  |  69077328  \n",
      "  25  |  40666288  |  55376817  \n",
      "  26  |  40666288  |  56629098  \n",
      "  27  |  1  |  6352934  \n",
      "Para la base 11 se tiene: \n",
      "  Paso  |  acu  |  base  \n",
      "-------------------------\n",
      "  0  |   1  |  11  \n",
      "  1  |  1  |  121  \n",
      "  2  |  1  |  14641  \n",
      "  3  |  1  |  58818719  \n",
      "  4  |  1  |  66544732  \n",
      "  5  |  1  |  8800012  \n",
      "  6  |  8800012  |  30883746  \n",
      "  7  |  66090327  |  52473686  \n",
      "  8  |  66090327  |  52822068  \n",
      "  9  |  48240432  |  61995449  \n",
      "  10  |  48240432  |  30811749  \n",
      "  11  |  41802059  |  96486  \n",
      "  12  |  1523852  |  54908557  \n",
      "  13  |  1523852  |  38676855  \n",
      "  14  |  58039934  |  3824773  \n",
      "  15  |  58039934  |  25185105  \n",
      "  16  |  42622747  |  77338508  \n",
      "  17  |  42622747  |  73680415  \n",
      "  18  |  49309845  |  56601615  \n",
      "  19  |  49309845  |  56458770  \n",
      "  20  |  49309845  |  69634310  \n",
      "  21  |  49309845  |  31664693  \n",
      "  22  |  53354819  |  69239724  \n",
      "  23  |  53354819  |  14398341  \n",
      "  24  |  7518936  |  52010095  \n",
      "  25  |  7518936  |  7393889  \n",
      "  26  |  7518936  |  27324237  \n",
      "  27  |  1  |  74340218  \n"
     ]
    }
   ],
   "source": [
    "lista_num = [2, 3, 5, 7, 11]\n",
    "\n",
    "for num in lista_num:\n",
    "    print(\"Para la base {} se tiene: \".format(num))\n",
    "    exp_dcha_izq(num, n-1, n)\n"
   ]
  },
  {
   "cell_type": "markdown",
   "id": "1a2e8635",
   "metadata": {},
   "source": [
    "Implementamos ahora la función de izquierda a derecha"
   ]
  },
  {
   "cell_type": "code",
   "execution_count": null,
   "id": "17018a7f",
   "metadata": {},
   "outputs": [],
   "source": [
    "def exp_izq_dcha(a, b, n):\n",
    "    '''Funcion que calcula mediante exponenciacion rapida de izquierda a derecha a^b mod n'''\n",
    "    acu = 1\n",
    "    exp = 0\n",
    "    \n",
    "    # Iteracion 0\n",
    "    print(\"  Paso  |  acu  |  base  \")\n",
    "    print(\"-------------------------\")\n",
    "    print(\"  0  |   {}  |  {}  \".format(acu, base))\n",
    "    \n",
    "    j = 1\n",
    "    while num > 0:\n",
    "        if num % 2 != 0:\n",
    "            acu = (acu * base) % n\n",
    "            num = (num-1)/2\n",
    "            ej = 1\n",
    "        else:\n",
    "            num = num/2\n",
    "            ej = 0\n",
    "        base = (base*base) % n\n",
    "        exp = exp + ej*pow(2, j)\n",
    "\n",
    "        print(\"  {}  |  {}  |  {}  \".format(j, acu, base))\n",
    "        \n",
    "        j += 1"
   ]
  },
  {
   "cell_type": "markdown",
   "id": "46f038fa",
   "metadata": {},
   "source": [
    "**iii) ¿Es n un posible primo de Fermat para alguna de ellas? ¿Es n un pseudoprimopara alguna de ellas?**"
   ]
  },
  {
   "cell_type": "code",
   "execution_count": null,
   "id": "7f0e8c1d",
   "metadata": {},
   "outputs": [],
   "source": []
  }
 ],
 "metadata": {
  "kernelspec": {
   "display_name": "Python 3 (ipykernel)",
   "language": "python",
   "name": "python3"
  },
  "language_info": {
   "codemirror_mode": {
    "name": "ipython",
    "version": 3
   },
   "file_extension": ".py",
   "mimetype": "text/x-python",
   "name": "python",
   "nbconvert_exporter": "python",
   "pygments_lexer": "ipython3",
   "version": "3.8.8"
  }
 },
 "nbformat": 4,
 "nbformat_minor": 5
}
