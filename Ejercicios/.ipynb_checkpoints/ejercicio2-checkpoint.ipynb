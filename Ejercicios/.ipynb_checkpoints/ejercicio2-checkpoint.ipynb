{
 "cells": [
  {
   "cell_type": "markdown",
   "id": "84f96ead",
   "metadata": {},
   "source": [
    "# Ejercicio 2\n",
    "\n",
    "> Por: Mapachana\n",
    "\n",
    "**Dado tu número n = 77770081 8 cifras de la lista publicada.**"
   ]
  },
  {
   "cell_type": "code",
   "execution_count": 51,
   "id": "1448b6e5",
   "metadata": {},
   "outputs": [
    {
     "name": "stdout",
     "output_type": "stream",
     "text": [
      "77770081\n"
     ]
    }
   ],
   "source": [
    "n = 77770081\n",
    "\n",
    "print(n)"
   ]
  },
  {
   "cell_type": "markdown",
   "id": "dfcfec55",
   "metadata": {},
   "source": [
    "**i) Usa el algoritmo manual para calcular el símbolo de Jacobi$\\left(\\frac{p}{n}\\right)$,para p cada uno de los 5 primeros primos.**"
   ]
  },
  {
   "cell_type": "markdown",
   "id": "59970fab",
   "metadata": {},
   "source": [
    "Comenzamos con $p=2$."
   ]
  },
  {
   "cell_type": "code",
   "execution_count": 3,
   "id": "0042de62",
   "metadata": {},
   "outputs": [
    {
     "data": {
      "text/plain": [
       "1"
      ]
     },
     "execution_count": 3,
     "metadata": {},
     "output_type": "execute_result"
    }
   ],
   "source": [
    "n%8"
   ]
  },
  {
   "cell_type": "markdown",
   "id": "d055b2f7",
   "metadata": {},
   "source": [
    "Tenemos entonces que $n \\mod 8\\equiv 1 \\mod 8$, luego $\\left( \\frac{2}{n}\\right)=(-1)^{\\frac{n^2-1}{8}}=1$"
   ]
  },
  {
   "cell_type": "code",
   "execution_count": 4,
   "id": "ef23f0dc",
   "metadata": {},
   "outputs": [
    {
     "data": {
      "text/plain": [
       "1.0"
      ]
     },
     "execution_count": 4,
     "metadata": {},
     "output_type": "execute_result"
    }
   ],
   "source": [
    "pow(-1, (n*n-1)/8)"
   ]
  },
  {
   "cell_type": "markdown",
   "id": "4d4568b2",
   "metadata": {},
   "source": [
    "Ahora consideramos $p=3$."
   ]
  },
  {
   "cell_type": "code",
   "execution_count": 10,
   "id": "cb3ab331",
   "metadata": {},
   "outputs": [
    {
     "data": {
      "text/plain": [
       "1"
      ]
     },
     "execution_count": 10,
     "metadata": {},
     "output_type": "execute_result"
    }
   ],
   "source": [
    "n%4"
   ]
  },
  {
   "cell_type": "markdown",
   "id": "ea562cb5",
   "metadata": {},
   "source": [
    "Como $n\\equiv 1 \\mod 4$ entonces $\\left( \\frac{p}{n} \\right)=\\left( \\frac{n}{p} \\right)$.\n",
    "\n",
    "Además, como $n\\equiv 1 \\mod 3$ entonces $\\left( \\frac{n}{3} \\right)=\\left( \\frac{1}{3} \\right)$.\n",
    "\n",
    "Y, como 1 es un cuadrado módulo $3$ se tiene que $\\left( \\frac{1}{3} \\right)=1$"
   ]
  },
  {
   "cell_type": "code",
   "execution_count": 11,
   "id": "6c947dcc",
   "metadata": {},
   "outputs": [
    {
     "data": {
      "text/plain": [
       "1"
      ]
     },
     "execution_count": 11,
     "metadata": {},
     "output_type": "execute_result"
    }
   ],
   "source": [
    "n%3"
   ]
  },
  {
   "cell_type": "markdown",
   "id": "53dceea0",
   "metadata": {},
   "source": [
    "Ahora tomamos $p=5$:"
   ]
  },
  {
   "cell_type": "code",
   "execution_count": 13,
   "id": "fb937f8d",
   "metadata": {},
   "outputs": [
    {
     "name": "stdout",
     "output_type": "stream",
     "text": [
      "1\n",
      "1\n"
     ]
    }
   ],
   "source": [
    "print(n%4)"
   ]
  },
  {
   "cell_type": "markdown",
   "id": "e1aaae61",
   "metadata": {},
   "source": [
    "Como $n\\equiv 1 \\mod 4$ tenemos $\\left( \\frac{p}{n} \\right) = \\left( \\frac{n}{p} \\right)$.\n",
    "\n",
    "Y como $n \\equiv 1 \\mod 5$ tenemos $\\left( \\frac{n}{5} \\right)=\\left( \\frac{1}{5} \\right)$.\n",
    "\n",
    "De donde, usando que $1$ es cuadrado módulo $5$,se tiene que $\\left( \\frac{1}{5} \\right)=1$."
   ]
  },
  {
   "cell_type": "code",
   "execution_count": 52,
   "id": "f67c23ed",
   "metadata": {},
   "outputs": [
    {
     "data": {
      "text/plain": [
       "1"
      ]
     },
     "execution_count": 52,
     "metadata": {},
     "output_type": "execute_result"
    }
   ],
   "source": [
    "n%5"
   ]
  },
  {
   "cell_type": "markdown",
   "id": "09bd08e6",
   "metadata": {},
   "source": [
    "Tomamos ahora $p=7$"
   ]
  },
  {
   "cell_type": "code",
   "execution_count": 53,
   "id": "f736ab0d",
   "metadata": {},
   "outputs": [
    {
     "name": "stdout",
     "output_type": "stream",
     "text": [
      "1\n"
     ]
    }
   ],
   "source": [
    "print(n%4)"
   ]
  },
  {
   "cell_type": "markdown",
   "id": "af9a84d9",
   "metadata": {},
   "source": [
    "Como $n\\equiv 1 \\mod 4$ tenemos $\\left( \\frac{p}{n} \\right) = \\left( \\frac{n}{p} \\right)$.\n",
    "\n",
    "Y como $n \\equiv 4 \\mod 7$ tenemos $\\left( \\frac{n}{7} \\right)=\\left( \\frac{4}{7} \\right)$.\n",
    "\n",
    "De donde se tiene que $\\left( \\frac{4}{7} \\right)=4^{\\frac{7-1}{2}}\\mod 7=1$."
   ]
  },
  {
   "cell_type": "code",
   "execution_count": 18,
   "id": "ddae529b",
   "metadata": {},
   "outputs": [
    {
     "name": "stdout",
     "output_type": "stream",
     "text": [
      "4\n",
      "1.0\n"
     ]
    }
   ],
   "source": [
    "print(n%7)\n",
    "print((pow(4, (7-1)/2)) %7)"
   ]
  },
  {
   "cell_type": "markdown",
   "id": "a92f1836",
   "metadata": {},
   "source": [
    "Finalmente consideramos $p=11$"
   ]
  },
  {
   "cell_type": "code",
   "execution_count": 20,
   "id": "3745b675",
   "metadata": {},
   "outputs": [
    {
     "data": {
      "text/plain": [
       "1"
      ]
     },
     "execution_count": 20,
     "metadata": {},
     "output_type": "execute_result"
    }
   ],
   "source": [
    "n%4"
   ]
  },
  {
   "cell_type": "markdown",
   "id": "75728799",
   "metadata": {},
   "source": [
    "Como $n\\equiv 1 \\mod 4$ tenemos $\\left( \\frac{p}{n} \\right) = \\left( \\frac{n}{p} \\right)$.\n",
    "\n",
    "Y como $n \\equiv 4 \\mod 11$ tenemos $\\left( \\frac{n}{11} \\right)=\\left( \\frac{4}{11} \\right)$.\n",
    "\n",
    "De donde se tiene que $\\left( \\frac{4}{11} \\right)=4^{\\frac{11-1}{2}}\\mod 11=1$."
   ]
  },
  {
   "cell_type": "code",
   "execution_count": 23,
   "id": "d19f17e3",
   "metadata": {},
   "outputs": [
    {
     "name": "stdout",
     "output_type": "stream",
     "text": [
      "4\n",
      "1.0\n"
     ]
    }
   ],
   "source": [
    "print(n%11)\n",
    "print((pow(4, (11-1)/2)) %11)"
   ]
  },
  {
   "cell_type": "markdown",
   "id": "10f145ff",
   "metadata": {},
   "source": []
  },
  {
   "cell_type": "code",
   "execution_count": null,
   "id": "0c00a47a",
   "metadata": {},
   "outputs": [],
   "source": []
  },
  {
   "cell_type": "code",
   "execution_count": 8,
   "id": "1212fad3",
   "metadata": {},
   "outputs": [
    {
     "name": "stdout",
     "output_type": "stream",
     "text": [
      "1\n",
      "1\n",
      "-1\n"
     ]
    }
   ],
   "source": [
    "def jacobi(a, n):\n",
    "        assert(n > a > 0 and n%2 == 1)\n",
    "        t = 1\n",
    "        while a != 0:\n",
    "            while a % 2 == 0:\n",
    "                a /= 2\n",
    "                r = n % 8\n",
    "                if r == 3 or r == 5:\n",
    "                    t = -t\n",
    "            a, n = n, a\n",
    "            if a % 4 == n % 4 == 3:\n",
    "                t = -t\n",
    "            a %= n\n",
    "        if n == 1:\n",
    "            return t\n",
    "        else:\n",
    "            return 0\n",
    "        \n",
    "print(jacobi(2, 27213647))\n",
    "print(jacobi(3, 27213647))\n",
    "print(jacobi(5, 27213647))"
   ]
  },
  {
   "cell_type": "code",
   "execution_count": 24,
   "id": "a43f289d",
   "metadata": {},
   "outputs": [
    {
     "name": "stdout",
     "output_type": "stream",
     "text": [
      "1\n",
      "1\n",
      "1\n",
      "1\n",
      "1\n"
     ]
    }
   ],
   "source": [
    "print(jacobi(2,n))\n",
    "print(jacobi(3,n))\n",
    "print(jacobi(5,n))\n",
    "print(jacobi(7,n))\n",
    "print(jacobi(11,n))"
   ]
  },
  {
   "cell_type": "markdown",
   "id": "7bea3cea",
   "metadata": {},
   "source": [
    "**ii) Si para alguna de esas bases tu número sale posible primo de Fermat, com-prueba si además es posible primo de Euler**"
   ]
  },
  {
   "cell_type": "code",
   "execution_count": 54,
   "id": "7cbc4331",
   "metadata": {},
   "outputs": [],
   "source": [
    "def exp_dcha_izq(a, b, n):\n",
    "    '''Funcion que calcula mediante exponenciacion rapida de derecha a izquierda a^b mod n'''\n",
    "    base = a\n",
    "    acu = 1\n",
    "    num = b\n",
    "    exp = 0\n",
    "    \n",
    "    # Iteracion 0\n",
    "    \n",
    "    j = 1\n",
    "    while num > 0:\n",
    "        if num % 2 != 0:\n",
    "            acu = (acu * base) % n\n",
    "            num = (num-1)/2\n",
    "            ej = 1\n",
    "        else:\n",
    "            num = num/2\n",
    "            ej = 0\n",
    "        base = (base*base) % n\n",
    "        exp = exp + ej*pow(2, j)\n",
    "        \n",
    "        j += 1\n",
    "    \n",
    "    return acu"
   ]
  },
  {
   "cell_type": "code",
   "execution_count": 55,
   "id": "17c69932",
   "metadata": {},
   "outputs": [
    {
     "name": "stdout",
     "output_type": "stream",
     "text": [
      "Para la base 2 se tiene: \n",
      "1\n",
      "Para la base 3 se tiene: \n",
      "1\n",
      "Para la base 5 se tiene: \n",
      "1\n",
      "Para la base 7 se tiene: \n",
      "1\n",
      "Para la base 11 se tiene: \n",
      "1\n"
     ]
    }
   ],
   "source": [
    "lista_num = [2, 3, 5, 7, 11]\n",
    "\n",
    "for num in lista_num:\n",
    "    print(\"Para la base {} se tiene: \".format(num))\n",
    "    print(exp_dcha_izq(num, n-1, n))\n"
   ]
  },
  {
   "cell_type": "markdown",
   "id": "de077426",
   "metadata": {},
   "source": [
    "Como podemos ver, el número es pseudoprimo de Fermat para todas las bases, por lo que se va a comprobar para todas ellas si es pseudoprimo de Euler. Para ello comprobamos $\\left( \\frac{p}{n} \\right)= p^{\\frac{n-1}{2}}\\mod n$."
   ]
  },
  {
   "cell_type": "code",
   "execution_count": 57,
   "id": "a0cf9725",
   "metadata": {},
   "outputs": [
    {
     "name": "stdout",
     "output_type": "stream",
     "text": [
      "BASE: 2\n",
      "Simbolo de Jacobi: 1\n",
      "Resultado de la potencias: 1\n",
      "\n",
      "\n",
      "BASE: 3\n",
      "Simbolo de Jacobi: 1\n",
      "Resultado de la potencias: 1\n",
      "\n",
      "\n",
      "BASE: 5\n",
      "Simbolo de Jacobi: 1\n",
      "Resultado de la potencias: 1\n",
      "\n",
      "\n",
      "BASE: 7\n",
      "Simbolo de Jacobi: 1\n",
      "Resultado de la potencias: 1\n",
      "\n",
      "\n",
      "BASE: 11\n",
      "Simbolo de Jacobi: 1\n",
      "Resultado de la potencias: 1\n",
      "\n",
      "\n"
     ]
    }
   ],
   "source": [
    "lista_num = [2, 3, 5, 7, 11]\n",
    "\n",
    "for num in lista_num:\n",
    "    aux = exp_dcha_izq(num, (n-1)/2, n)\n",
    "    print(\"BASE: {}\".format(num))\n",
    "    print(\"Simbolo de Jacobi: {}\".format(jacobi(num,n)))\n",
    "    print(\"Resultado de la potencias: {}\".format(aux))\n",
    "    print(\"\\n\")"
   ]
  },
  {
   "cell_type": "markdown",
   "id": "5ba4c1d2",
   "metadata": {},
   "source": [
    "Como todos los números obtenidos coinciden con su símbolo de Jacobi, $n$ es pseudoprimo de Euler para todas las bases."
   ]
  },
  {
   "cell_type": "markdown",
   "id": "a881a48a",
   "metadata": {},
   "source": [
    "**iii) ¿Es tu número n pseudoprimo de Fermat o de Euler para alguna de las bases?**"
   ]
  },
  {
   "cell_type": "markdown",
   "id": "45d1e01d",
   "metadata": {},
   "source": [
    "Del apartado anterior tenemos que $n$ es pseudoprimo de Fermat para todas las bases, además, también es pseudoprimo de Euler para todas ellas."
   ]
  },
  {
   "cell_type": "code",
   "execution_count": null,
   "id": "c40e9e9d",
   "metadata": {},
   "outputs": [],
   "source": []
  }
 ],
 "metadata": {
  "kernelspec": {
   "display_name": "Python 3 (ipykernel)",
   "language": "python",
   "name": "python3"
  },
  "language_info": {
   "codemirror_mode": {
    "name": "ipython",
    "version": 3
   },
   "file_extension": ".py",
   "mimetype": "text/x-python",
   "name": "python",
   "nbconvert_exporter": "python",
   "pygments_lexer": "ipython3",
   "version": "3.8.8"
  }
 },
 "nbformat": 4,
 "nbformat_minor": 5
}
