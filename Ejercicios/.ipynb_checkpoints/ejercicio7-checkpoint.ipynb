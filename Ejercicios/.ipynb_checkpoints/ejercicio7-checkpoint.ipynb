{
 "cells": [
  {
   "cell_type": "markdown",
   "id": "46e17df5",
   "metadata": {},
   "source": [
    "# Ejercicio 7\n",
    "\n",
    "> Por: Mapachana\n",
    "\n",
    "**Toma tu número n de la lista publicada para el ejercicio 3. Sea d elprimer elemento de la sucesión 5, -7, 9, -11, 13, ... que satisface que el símbolo deJacobi es (d|n) = -1**"
   ]
  },
  {
   "cell_type": "code",
   "execution_count": 1,
   "id": "48d2bbc4",
   "metadata": {},
   "outputs": [
    {
     "data": {
      "text/plain": [
       "36580545945776718558633000960211"
      ]
     },
     "execution_count": 1,
     "metadata": {},
     "output_type": "execute_result"
    }
   ],
   "source": [
    "n = 36580545945776718558633000960211\n",
    "n"
   ]
  },
  {
   "cell_type": "code",
   "execution_count": 7,
   "id": "3f032e99",
   "metadata": {},
   "outputs": [],
   "source": [
    "def jacobi(a, n):\n",
    "        #assert(n > a > 0 and n%2 == 1)\n",
    "        t = 1\n",
    "        while a != 0:\n",
    "            while a % 2 == 0:\n",
    "                a /= 2\n",
    "                r = n % 8\n",
    "                if r == 3 or r == 5:\n",
    "                    t = -t\n",
    "            a, n = n, a\n",
    "            if a % 4 == n % 4 == 3:\n",
    "                t = -t\n",
    "            a %= n\n",
    "        if n == 1:\n",
    "            return t\n",
    "        else:\n",
    "            return 0"
   ]
  },
  {
   "cell_type": "code",
   "execution_count": 13,
   "id": "ae3b3dbe",
   "metadata": {},
   "outputs": [
    {
     "name": "stdout",
     "output_type": "stream",
     "text": [
      "5\n",
      "-7\n",
      "9\n",
      "-11\n",
      "13\n",
      "13\n"
     ]
    }
   ],
   "source": [
    "num_base = 5\n",
    "exp = 2\n",
    "\n",
    "while True:\n",
    "    num_suc = pow(-1, exp)*num_base\n",
    "    print(num_suc)\n",
    "    \n",
    "    if jacobi(num_suc, n) == -1:\n",
    "        print(num_suc)\n",
    "        break\n",
    "    \n",
    "    if exp >= 10:\n",
    "        break\n",
    "    \n",
    "    num_base += 2\n",
    "    exp += 1\n",
    "    \n"
   ]
  },
  {
   "cell_type": "code",
   "execution_count": 15,
   "id": "8ae23996",
   "metadata": {},
   "outputs": [
    {
     "data": {
      "text/plain": [
       "13"
      ]
     },
     "execution_count": 15,
     "metadata": {},
     "output_type": "execute_result"
    }
   ],
   "source": [
    "d = 13\n",
    "d"
   ]
  },
  {
   "cell_type": "markdown",
   "id": "5bd62732",
   "metadata": {},
   "source": [
    "Luego el primer número de la sucesión que cumple $ \\left( \\frac{d}{n} \\right) =-1$ es 13, y por tanto $d=13$."
   ]
  },
  {
   "cell_type": "code",
   "execution_count": 17,
   "id": "36a408e8",
   "metadata": {},
   "outputs": [],
   "source": [
    "import math"
   ]
  },
  {
   "cell_type": "markdown",
   "id": "cb805cdc",
   "metadata": {},
   "source": [
    "**i) Con P = 1, Q = (1-d)/4, define el e.c. $\\alpha$ y sus sucesiones de Lucas asociadas.**"
   ]
  },
  {
   "cell_type": "code",
   "execution_count": 22,
   "id": "7950c989",
   "metadata": {},
   "outputs": [
    {
     "name": "stdout",
     "output_type": "stream",
     "text": [
      "2.302775637731995\n",
      "13.0\n",
      "-3.0\n",
      "2.302775637731995\n"
     ]
    }
   ],
   "source": [
    "P = 1\n",
    "Q = (1-d)/4\n",
    "\n",
    "alfa = (P+math.sqrt(pow(P,2)-4*Q))/2\n",
    "print(alfa)\n",
    "print(pow(P,2)-4*Q)\n",
    "print(Q)\n",
    "print((1+math.sqrt(13))/2)"
   ]
  },
  {
   "cell_type": "markdown",
   "id": "98e0b865",
   "metadata": {},
   "source": [
    "Sabemos que $\\alpha = \\frac{P+\\sqrt{P^2-4Q}}{2}$, luego tenemos que $\\alpha = \\frac{1+\\sqrt{13}}{2} =2.302775637731995$\n",
    "\n",
    "Además, sabemos que $\\alpha$ es un entero cuadrático por ser solución de $x^2-x-3=0 \\in \\mathbb{Z}[x]$.\n",
    "\n",
    "Entonces, se tiene $\\alpha^n = \\alpha^{n-1}+3\\alpha^{n-2}$.\n",
    "\n",
    "Por tanto si llamamos $\\alpha^{i}=\\frac{V_i}{2}+\\frac{U_i}{2}\\sqrt{13}$ se tiene \n",
    "$$U_0=0, \\quad V_0=2$$\n",
    "$$U_1=1, \\quad V_1=1$$\n",
    "\n",
    "\n",
    "La sucesión de Lucas asociada es:\n",
    "\n",
    "$$V_n=V_{n-1}+3V_{n-2}$$\n",
    "$$U_n=U_{n-1}+3U_{n-2}$$"
   ]
  },
  {
   "cell_type": "code",
   "execution_count": null,
   "id": "27d1e8ea",
   "metadata": {},
   "outputs": [],
   "source": []
  },
  {
   "cell_type": "markdown",
   "id": "7fb4a670",
   "metadata": {},
   "source": [
    "**ii) Si n primo ¿Que debería de pasarle a $V_r,U_r$,módulo n? ¿Y a $V_{r/2} ,U_{r/2}$? Calcula los términos $V_{r/2} ,U_{r/2},V_r ,U_r$, módulo n, de las sucesiones de Lucas. ¿ Tu n verifica el TPF para el entero cuadrático $\\alpha$ ?**"
   ]
  },
  {
   "cell_type": "code",
   "execution_count": null,
   "id": "7e95368f",
   "metadata": {},
   "outputs": [],
   "source": []
  },
  {
   "cell_type": "code",
   "execution_count": null,
   "id": "9dee6ce2",
   "metadata": {},
   "outputs": [],
   "source": []
  },
  {
   "cell_type": "code",
   "execution_count": null,
   "id": "f5281c0c",
   "metadata": {},
   "outputs": [],
   "source": []
  },
  {
   "cell_type": "code",
   "execution_count": null,
   "id": "f09f7b2f",
   "metadata": {},
   "outputs": [],
   "source": []
  },
  {
   "cell_type": "code",
   "execution_count": null,
   "id": "ff19efba",
   "metadata": {},
   "outputs": [],
   "source": []
  },
  {
   "cell_type": "code",
   "execution_count": null,
   "id": "472e7c86",
   "metadata": {},
   "outputs": [],
   "source": []
  },
  {
   "cell_type": "markdown",
   "id": "4a180863",
   "metadata": {},
   "source": [
    "**iii) Factoriza r = n+1 y para cada factor primo p suyo, calcula $U_{r/p}$ . ¿ Cuál es el rango de Lucas w(n) ?. ¿ Qué deduces sobre la primalidad de tu n ?**"
   ]
  },
  {
   "cell_type": "code",
   "execution_count": null,
   "id": "903a9e91",
   "metadata": {},
   "outputs": [],
   "source": []
  },
  {
   "cell_type": "code",
   "execution_count": null,
   "id": "3d9903d4",
   "metadata": {},
   "outputs": [],
   "source": []
  },
  {
   "cell_type": "code",
   "execution_count": null,
   "id": "ecc77c2b",
   "metadata": {},
   "outputs": [],
   "source": []
  },
  {
   "cell_type": "code",
   "execution_count": null,
   "id": "45734855",
   "metadata": {},
   "outputs": [],
   "source": []
  },
  {
   "cell_type": "code",
   "execution_count": null,
   "id": "b1cc9a1e",
   "metadata": {},
   "outputs": [],
   "source": []
  }
 ],
 "metadata": {
  "kernelspec": {
   "display_name": "Python 3 (ipykernel)",
   "language": "python",
   "name": "python3"
  },
  "language_info": {
   "codemirror_mode": {
    "name": "ipython",
    "version": 3
   },
   "file_extension": ".py",
   "mimetype": "text/x-python",
   "name": "python",
   "nbconvert_exporter": "python",
   "pygments_lexer": "ipython3",
   "version": "3.8.8"
  }
 },
 "nbformat": 4,
 "nbformat_minor": 5
}
