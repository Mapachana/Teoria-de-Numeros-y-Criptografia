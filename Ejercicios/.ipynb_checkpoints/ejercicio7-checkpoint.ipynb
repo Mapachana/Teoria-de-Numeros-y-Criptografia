{
 "cells": [
  {
   "cell_type": "markdown",
   "id": "46e17df5",
   "metadata": {},
   "source": [
    "# Ejercicio 7\n",
    "\n",
    "> Por: Mapachana\n",
    "\n",
    "**Toma tu número n de la lista publicada para el ejercicio 3. Sea d elprimer elemento de la sucesión 5, -7, 9, -11, 13, ... que satisface que el símbolo deJacobi es (d|n) = -1**"
   ]
  },
  {
   "cell_type": "code",
   "execution_count": 60,
   "id": "48d2bbc4",
   "metadata": {},
   "outputs": [
    {
     "data": {
      "text/plain": [
       "36580545945776718558633000960211"
      ]
     },
     "execution_count": 60,
     "metadata": {},
     "output_type": "execute_result"
    }
   ],
   "source": [
    "n = 36580545945776718558633000960211\n",
    "n"
   ]
  },
  {
   "cell_type": "code",
   "execution_count": 61,
   "id": "3f032e99",
   "metadata": {},
   "outputs": [],
   "source": [
    "def jacobi(a, n):\n",
    "        #assert(n > a > 0 and n%2 == 1)\n",
    "        t = 1\n",
    "        while a != 0:\n",
    "            while a % 2 == 0:\n",
    "                a /= 2\n",
    "                r = n % 8\n",
    "                if r == 3 or r == 5:\n",
    "                    t = -t\n",
    "            a, n = n, a\n",
    "            if a % 4 == n % 4 == 3:\n",
    "                t = -t\n",
    "            a %= n\n",
    "        if n == 1:\n",
    "            return t\n",
    "        else:\n",
    "            return 0"
   ]
  },
  {
   "cell_type": "code",
   "execution_count": 62,
   "id": "ae3b3dbe",
   "metadata": {},
   "outputs": [
    {
     "name": "stdout",
     "output_type": "stream",
     "text": [
      "5\n",
      "-7\n",
      "9\n",
      "-11\n",
      "13\n",
      "13\n",
      "1\n",
      "0\n",
      "1\n",
      "0\n",
      "-1\n"
     ]
    }
   ],
   "source": [
    "num_base = 5\n",
    "exp = 2\n",
    "\n",
    "while True:\n",
    "    num_suc = pow(-1, exp)*num_base\n",
    "    print(num_suc)\n",
    "    \n",
    "    if jacobi(num_suc, n) == -1:\n",
    "        print(num_suc)\n",
    "        break\n",
    "    \n",
    "    if exp >= 10:\n",
    "        break\n",
    "    \n",
    "    num_base += 2\n",
    "    exp += 1\n",
    "    \n",
    "print(jacobi(5, n))\n",
    "print(jacobi(-7, n))\n",
    "print(jacobi(9, n))\n",
    "print(jacobi(-11, n))\n",
    "print(jacobi(13, n))"
   ]
  },
  {
   "cell_type": "code",
   "execution_count": 63,
   "id": "8ae23996",
   "metadata": {},
   "outputs": [
    {
     "data": {
      "text/plain": [
       "-7"
      ]
     },
     "execution_count": 63,
     "metadata": {},
     "output_type": "execute_result"
    }
   ],
   "source": [
    "d = -7\n",
    "d"
   ]
  },
  {
   "cell_type": "markdown",
   "id": "5bd62732",
   "metadata": {},
   "source": [
    "Luego el primer número de la sucesión que cumple $\\left( \\frac{d}{n} \\right) = -1$ es 13, y por tanto $d=-7$."
   ]
  },
  {
   "cell_type": "code",
   "execution_count": 64,
   "id": "36a408e8",
   "metadata": {},
   "outputs": [],
   "source": [
    "import math"
   ]
  },
  {
   "cell_type": "markdown",
   "id": "cb805cdc",
   "metadata": {},
   "source": [
    "**i) Con P = 1, Q = (1-d)/4, define el e.c. $\\alpha$ y sus sucesiones de Lucas asociadas.**"
   ]
  },
  {
   "cell_type": "code",
   "execution_count": 65,
   "id": "7950c989",
   "metadata": {},
   "outputs": [
    {
     "name": "stdout",
     "output_type": "stream",
     "text": [
      "-7.0\n",
      "2.0\n"
     ]
    }
   ],
   "source": [
    "P = 1\n",
    "Q = (1-d)/4\n",
    "\n",
    "#alfa = (P+math.sqrt(pow(P,2)-4*Q))/2\n",
    "#print(alfa)\n",
    "print(pow(P,2)-4*Q)\n",
    "print(Q)\n",
    "#print((1+math.sqrt(13))/2)"
   ]
  },
  {
   "cell_type": "markdown",
   "id": "98e0b865",
   "metadata": {},
   "source": [
    "Sabemos que $\\alpha = \\frac{P+\\sqrt{P^2-4Q}}{2}$, luego tenemos que $\\alpha = \\frac{1+\\sqrt{-7}}{2}$\n",
    "\n",
    "Además, sabemos que $\\alpha$ es un entero cuadrático por ser solución de $x^2-x+2=0 \\in \\mathbb{Z}[x]$.\n",
    "\n",
    "Entonces, se tiene $\\alpha^n = \\alpha^{n-1}-2\\alpha^{n-2}$.\n",
    "\n",
    "Por tanto si llamamos $\\alpha^{i}=\\frac{V_i}{2}+\\frac{U_i}{2}\\sqrt{-7}$ se tiene \n",
    "$$U_0=0, \\quad V_0=2$$\n",
    "$$U_1=1, \\quad V_1=1$$\n",
    "\n",
    "\n",
    "La sucesión de Lucas asociada es:\n",
    "\n",
    "$$V_n=V_{n-1}-2V_{n-2}$$\n",
    "$$U_n=U_{n-1}-2U_{n-2}$$"
   ]
  },
  {
   "cell_type": "code",
   "execution_count": null,
   "id": "27d1e8ea",
   "metadata": {},
   "outputs": [],
   "source": []
  },
  {
   "cell_type": "markdown",
   "id": "7fb4a670",
   "metadata": {},
   "source": [
    "**ii) Si n primo ¿Que debería de pasarle a $V_r,U_r$,módulo n? ¿Y a $V_{r/2} ,U_{r/2}$? Calcula los términos $V_{r/2} ,U_{r/2},V_r ,U_r$, módulo n, de las sucesiones de Lucas. ¿ Tu n verifica el TPF para el entero cuadrático $\\alpha$ ?**"
   ]
  },
  {
   "cell_type": "markdown",
   "id": "afea3195",
   "metadata": {},
   "source": [
    "Si $n$ fuera primo por la tercera versión del TPF para e.c. se tiene que, con $\\Delta = P^2-4Q=13$:\n",
    "\n",
    "$$U_r = U_{n-\\frac{\\Delta}{n}}=U_{n+1}\\equiv 0\\mod n$$\n",
    "$$V_r = V_{n-\\frac{\\Delta}{n}}=V_{n+1}\\equiv 2Q\\mod n\\equiv 4\\mod n$$\n",
    "\n",
    "Donde hemos usado que $\\left( \\frac{\\Delta}{P}\\right) = -1$\n",
    "\n",
    "Además, conocemos las propiedades:\n",
    "\n",
    "$$U_{2k}=U_kV_k$$\n",
    "$$V_{2k}=V_k^2-2Q^k$$\n",
    "\n",
    "Sabemos que $r=n+1$, y, con $k=\\frac{r}{2}$:\n",
    "\n",
    "$$U_r=U_{\\frac{r}{2}}V_{\\frac{r}{2}}$$\n",
    "$$V_r=V_{frac{r}{2}}^2-2Q^{\\frac{r}{2}}$$\n",
    "\n",
    "$$U_r=U_{\\frac{r}{2}}V_{\\frac{r}{2}}= 0 \\mod n$$\n",
    "Luego $U_{\\frac{r}{2}}$ o $V_{\\frac{r}{2}}$ son 0 o múltiplos de $n$.\n",
    "\n",
    "Por otro lado, \n",
    "\n",
    "$$V_{\\frac{r}{2}}^2=4+2(2)^{\\frac{r}{2}}=36580545945776718558633000960211 \\mod n \\equiv 0 \\mod n$$.\n"
   ]
  },
  {
   "cell_type": "code",
   "execution_count": 72,
   "id": "9dee6ce2",
   "metadata": {},
   "outputs": [
    {
     "name": "stdout",
     "output_type": "stream",
     "text": [
      "0\n",
      "AKJHJAKS\n",
      "4.0\n",
      "2.0\n",
      "36580545945776718558633000960211\n",
      "0\n"
     ]
    }
   ],
   "source": [
    "delta = pow(P,2)-4*Q\n",
    "print(jacobi(delta, n))\n",
    "print(\"AKJHJAKS\")\n",
    "\n",
    "print(2*Q)\n",
    "print(Q)\n",
    "\n",
    "\n",
    "aux = pow(int(Q), (n+1)//2, n)\n",
    "aux = 4+pow(2*aux, 1, n)\n",
    "print(aux)\n",
    "print(aux-n)"
   ]
  },
  {
   "cell_type": "code",
   "execution_count": 76,
   "id": "66d00817",
   "metadata": {},
   "outputs": [],
   "source": [
    "def calcular_digitos(b):\n",
    "    digitos = []\n",
    "    \n",
    "    while b != 1:\n",
    "        resto = b%2\n",
    "        digitos.append(int(resto))\n",
    "        b = (b-resto)/2\n",
    "    \n",
    "    digitos.append(1)\n",
    "    \n",
    "    digitos = list(reversed(digitos))\n",
    "        \n",
    "    return digitos"
   ]
  },
  {
   "cell_type": "code",
   "execution_count": 78,
   "id": "8a37a6cd",
   "metadata": {},
   "outputs": [
    {
     "data": {
      "text/plain": [
       "[1, 1, 0, 1]"
      ]
     },
     "execution_count": 78,
     "metadata": {},
     "output_type": "execute_result"
    }
   ],
   "source": [
    "calcular_digitos(13)"
   ]
  },
  {
   "cell_type": "code",
   "execution_count": 130,
   "id": "f5281c0c",
   "metadata": {},
   "outputs": [],
   "source": [
    "def suc_lucas(n, p, q):\n",
    "    r = int(n+1) # solo porque en este caso el jacobi es -1\n",
    "    digitos = calcular_digitos(r)\n",
    "\n",
    "    \n",
    "    U = [None]*(r+2)\n",
    "    U[0], U[1] = 0, 1\n",
    "    \n",
    "    j = 0\n",
    "    digit = 0\n",
    "    while digit < len(digitos):\n",
    "              \n",
    "        if digitos[digit] == 0:\n",
    "            aux = 2*U[j]*U[j+1]-p*pow(U[j], 2)\n",
    "            aux = pow(aux, 1, n)\n",
    "            U[2*j] = aux\n",
    "            \n",
    "            aux = pow(U[j+1], 2)-q*pow(U[j], 2)\n",
    "            aux = pow(aux, 1, n)\n",
    "            U[2*j+1] = aux\n",
    "            \n",
    "            j = 2*j\n",
    "        else:\n",
    "            aux = pow(U[j+1], 2)-q*pow(U[j], 2)\n",
    "            aux = pow(aux, 1, n)\n",
    "            U[2*j+1] = aux\n",
    "            \n",
    "            aux = p*pow(U[j+1],2)-2*q*U[j]*U[j+1]\n",
    "            aux = pow(aux, 1, n)\n",
    "            U[2*j+2] = aux\n",
    "            \n",
    "            j = 2*j+1\n",
    "        \n",
    "        digit += 1\n",
    "    \n",
    "    print(U)"
   ]
  },
  {
   "cell_type": "code",
   "execution_count": 131,
   "id": "f09f7b2f",
   "metadata": {},
   "outputs": [
    {
     "name": "stdout",
     "output_type": "stream",
     "text": [
      "[0, 1, 3, 10, 0, None, 8, 1, None, None, None, None, 0, 10]\n"
     ]
    }
   ],
   "source": [
    "suc_lucas(11,3,-1)"
   ]
  },
  {
   "cell_type": "code",
   "execution_count": 135,
   "id": "a497a718",
   "metadata": {},
   "outputs": [
    {
     "name": "stdout",
     "output_type": "stream",
     "text": [
      "36580545945776718558633000960211 1 2.0\n"
     ]
    },
    {
     "ename": "OverflowError",
     "evalue": "cannot fit 'int' into an index-sized integer",
     "output_type": "error",
     "traceback": [
      "\u001b[0;31m---------------------------------------------------------------------------\u001b[0m",
      "\u001b[0;31mOverflowError\u001b[0m                             Traceback (most recent call last)",
      "\u001b[0;32m/tmp/ipykernel_3009/3176080453.py\u001b[0m in \u001b[0;36m<module>\u001b[0;34m\u001b[0m\n\u001b[1;32m      1\u001b[0m \u001b[0mprint\u001b[0m\u001b[0;34m(\u001b[0m\u001b[0mn\u001b[0m\u001b[0;34m,\u001b[0m \u001b[0mP\u001b[0m\u001b[0;34m,\u001b[0m \u001b[0mQ\u001b[0m\u001b[0;34m)\u001b[0m\u001b[0;34m\u001b[0m\u001b[0;34m\u001b[0m\u001b[0m\n\u001b[0;32m----> 2\u001b[0;31m \u001b[0msuc_lucas\u001b[0m\u001b[0;34m(\u001b[0m\u001b[0mn\u001b[0m\u001b[0;34m,\u001b[0m \u001b[0mP\u001b[0m\u001b[0;34m,\u001b[0m \u001b[0mint\u001b[0m\u001b[0;34m(\u001b[0m\u001b[0mQ\u001b[0m\u001b[0;34m)\u001b[0m\u001b[0;34m)\u001b[0m\u001b[0;34m\u001b[0m\u001b[0;34m\u001b[0m\u001b[0m\n\u001b[0m",
      "\u001b[0;32m/tmp/ipykernel_3009/4021778523.py\u001b[0m in \u001b[0;36msuc_lucas\u001b[0;34m(n, p, q)\u001b[0m\n\u001b[1;32m      4\u001b[0m \u001b[0;34m\u001b[0m\u001b[0m\n\u001b[1;32m      5\u001b[0m \u001b[0;34m\u001b[0m\u001b[0m\n\u001b[0;32m----> 6\u001b[0;31m     \u001b[0mU\u001b[0m \u001b[0;34m=\u001b[0m \u001b[0;34m[\u001b[0m\u001b[0;32mNone\u001b[0m\u001b[0;34m]\u001b[0m\u001b[0;34m*\u001b[0m\u001b[0;34m(\u001b[0m\u001b[0mr\u001b[0m\u001b[0;34m+\u001b[0m\u001b[0;36m2\u001b[0m\u001b[0;34m)\u001b[0m\u001b[0;34m\u001b[0m\u001b[0;34m\u001b[0m\u001b[0m\n\u001b[0m\u001b[1;32m      7\u001b[0m     \u001b[0mU\u001b[0m\u001b[0;34m[\u001b[0m\u001b[0;36m0\u001b[0m\u001b[0;34m]\u001b[0m\u001b[0;34m,\u001b[0m \u001b[0mU\u001b[0m\u001b[0;34m[\u001b[0m\u001b[0;36m1\u001b[0m\u001b[0;34m]\u001b[0m \u001b[0;34m=\u001b[0m \u001b[0;36m0\u001b[0m\u001b[0;34m,\u001b[0m \u001b[0;36m1\u001b[0m\u001b[0;34m\u001b[0m\u001b[0;34m\u001b[0m\u001b[0m\n\u001b[1;32m      8\u001b[0m \u001b[0;34m\u001b[0m\u001b[0m\n",
      "\u001b[0;31mOverflowError\u001b[0m: cannot fit 'int' into an index-sized integer"
     ]
    }
   ],
   "source": [
    "print(n, P, Q)\n",
    "suc_lucas(n, P, int(Q))\n"
   ]
  },
  {
   "cell_type": "code",
   "execution_count": null,
   "id": "ff19efba",
   "metadata": {},
   "outputs": [],
   "source": []
  },
  {
   "cell_type": "markdown",
   "id": "415b071e",
   "metadata": {},
   "source": []
  },
  {
   "cell_type": "markdown",
   "id": "4a180863",
   "metadata": {},
   "source": [
    "**iii) Factoriza r = n+1 y para cada factor primo p suyo, calcula $U_{r/p}$ . ¿ Cuál es el rango de Lucas w(n) ?. ¿ Qué deduces sobre la primalidad de tu n ?**"
   ]
  },
  {
   "cell_type": "code",
   "execution_count": null,
   "id": "903a9e91",
   "metadata": {},
   "outputs": [],
   "source": []
  },
  {
   "cell_type": "code",
   "execution_count": null,
   "id": "3d9903d4",
   "metadata": {},
   "outputs": [],
   "source": []
  },
  {
   "cell_type": "code",
   "execution_count": null,
   "id": "ecc77c2b",
   "metadata": {},
   "outputs": [],
   "source": []
  },
  {
   "cell_type": "code",
   "execution_count": null,
   "id": "45734855",
   "metadata": {},
   "outputs": [],
   "source": []
  },
  {
   "cell_type": "code",
   "execution_count": null,
   "id": "b1cc9a1e",
   "metadata": {},
   "outputs": [],
   "source": []
  }
 ],
 "metadata": {
  "kernelspec": {
   "display_name": "Python 3 (ipykernel)",
   "language": "python",
   "name": "python3"
  },
  "language_info": {
   "codemirror_mode": {
    "name": "ipython",
    "version": 3
   },
   "file_extension": ".py",
   "mimetype": "text/x-python",
   "name": "python",
   "nbconvert_exporter": "python",
   "pygments_lexer": "ipython3",
   "version": "3.8.8"
  }
 },
 "nbformat": 4,
 "nbformat_minor": 5
}
