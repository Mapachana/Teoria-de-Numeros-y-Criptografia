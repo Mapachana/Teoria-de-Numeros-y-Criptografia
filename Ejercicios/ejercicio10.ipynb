{
 "cells": [
  {
   "cell_type": "markdown",
   "id": "46e17df5",
   "metadata": {},
   "source": [
    "# Ejercicio 10\n",
    "\n",
    "> Por: Mapachana\n",
    "\n",
    "**Toma tu número p de la lista publicada para este ejercicio.**"
   ]
  },
  {
   "cell_type": "code",
   "execution_count": 48,
   "id": "48d2bbc4",
   "metadata": {
    "scrolled": true
   },
   "outputs": [
    {
     "data": {
      "text/plain": [
       "77770081"
      ]
     },
     "execution_count": 48,
     "metadata": {},
     "output_type": "execute_result"
    }
   ],
   "source": [
    "p = 77770081\n",
    "p"
   ]
  },
  {
   "cell_type": "code",
   "execution_count": 49,
   "id": "36a408e8",
   "metadata": {},
   "outputs": [],
   "source": [
    "import math"
   ]
  },
  {
   "cell_type": "markdown",
   "id": "cb805cdc",
   "metadata": {},
   "source": [
    "**i) Calcula el símbolo de Jacobi $\\left( \\frac{-11}{p} \\right)$. Si sale 1, usa el algoritmo de Tonelli-Shanks para hallar soluciones a la congruencia $x^2 \\equiv -11 \\mod p$.**"
   ]
  },
  {
   "cell_type": "code",
   "execution_count": 50,
   "id": "b09867b8",
   "metadata": {},
   "outputs": [],
   "source": [
    "def f(x):\n",
    "    return pow(x,2)+1\n",
    "\n",
    "def rho_polar(n, x0, t0):\n",
    "    x = x0\n",
    "    y = x\n",
    "    t = t0\n",
    "    i = 0\n",
    "    g= '-'\n",
    "    print(\"Paso: {}, x: {}, y: {}, g: {}\".format(i,x,y,g))\n",
    "    while i < t:\n",
    "        i = i+1\n",
    "        x = pow(f(x),1,n)\n",
    "        y = pow(f(f(y)),1,n)\n",
    "        g = math.gcd(x-y, n)\n",
    "        print(\"Paso: {}, x: {}, y: {}, g: {}\".format(i,x,y,g))\n",
    "        if 1 < g and g < n:\n",
    "            print(\"g: {}\".format(g))\n",
    "            print(\"Iteraciones necesarias {}\".format(i))\n",
    "            \n",
    "            return g, i\n",
    "    \n",
    "    print(\"No hay divisores con t iteraciones\")\n",
    "    return \"No hay divisores con t iteraciones\""
   ]
  },
  {
   "cell_type": "code",
   "execution_count": 51,
   "id": "a0b1cead",
   "metadata": {},
   "outputs": [],
   "source": [
    "def lucas_lehmer(n, primos, num):\n",
    "    fermat = False\n",
    "    for a in range (1, num):\n",
    "        if pow(a, n-1, n) == 1:\n",
    "            fermat = True\n",
    "            print(a)\n",
    "            print(\"test fermat: {}\".format(pow(a, n-1, n)))\n",
    "            for num in primos:\n",
    "                #print(\"Para num: {}\".format(pow(a, (n-1)//num, n)))\n",
    "                print(\"{}^(p-1)/ {} = {} mod p\".format(a, num, pow(a, (n-1)//num, n)))"
   ]
  },
  {
   "cell_type": "code",
   "execution_count": 52,
   "id": "dceed945",
   "metadata": {},
   "outputs": [
    {
     "name": "stdout",
     "output_type": "stream",
     "text": [
      "5\n",
      "2430315\n",
      "[2, 2, 2, 2, 2]\n"
     ]
    }
   ],
   "source": [
    "m = p-1\n",
    "i = 0\n",
    "factores = []\n",
    "\n",
    "while pow(m, 1, 2) == 0:\n",
    "    i += 1\n",
    "    m = m//2\n",
    "    factores.append(2)\n",
    "\n",
    "\n",
    "print(i)\n",
    "print(m)\n",
    "print(factores)"
   ]
  },
  {
   "cell_type": "code",
   "execution_count": 53,
   "id": "8bf136d3",
   "metadata": {},
   "outputs": [
    {
     "name": "stdout",
     "output_type": "stream",
     "text": [
      "Paso: 0, x: 1, y: 1, g: -\n",
      "Paso: 1, x: 2, y: 5, g: 3\n",
      "g: 3\n",
      "Iteraciones necesarias 1\n",
      "[2, 2, 2, 2, 2, 3]\n",
      "1\n"
     ]
    }
   ],
   "source": [
    "itotal = 0\n",
    "g, i = rho_polar(m, 1, 100)\n",
    "factores.append(g)\n",
    "m = m//g\n",
    "itotal = itotal + i\n",
    "\n",
    "#factores.append(m)\n",
    "print(factores)\n",
    "print(itotal)"
   ]
  },
  {
   "cell_type": "code",
   "execution_count": 54,
   "id": "848a571d",
   "metadata": {},
   "outputs": [
    {
     "name": "stdout",
     "output_type": "stream",
     "text": [
      "Paso: 0, x: 1, y: 1, g: -\n",
      "Paso: 1, x: 2, y: 5, g: 3\n",
      "g: 3\n",
      "Iteraciones necesarias 1\n",
      "[2, 2, 2, 2, 2, 3, 3]\n",
      "2\n"
     ]
    }
   ],
   "source": [
    "#itotal = 0\n",
    "g, i = rho_polar(m, 1, 100)\n",
    "factores.append(g)\n",
    "m = m//g\n",
    "itotal = itotal + i\n",
    "\n",
    "#factores.append(m)\n",
    "print(factores)\n",
    "print(itotal)"
   ]
  },
  {
   "cell_type": "code",
   "execution_count": 55,
   "id": "1a3ae3b6",
   "metadata": {},
   "outputs": [
    {
     "name": "stdout",
     "output_type": "stream",
     "text": [
      "Paso: 0, x: 1, y: 1, g: -\n",
      "Paso: 1, x: 2, y: 5, g: 1\n",
      "Paso: 2, x: 5, y: 677, g: 1\n",
      "Paso: 3, x: 26, y: 221631, g: 5\n",
      "g: 5\n",
      "Iteraciones necesarias 3\n",
      "[2, 2, 2, 2, 2, 3, 3, 5]\n",
      "5\n"
     ]
    }
   ],
   "source": [
    "#itotal = 0\n",
    "g, i = rho_polar(m, 1, 100)\n",
    "factores.append(g)\n",
    "m = m//g\n",
    "itotal = itotal + i\n",
    "\n",
    "#factores.append(m)\n",
    "print(factores)\n",
    "print(itotal)"
   ]
  },
  {
   "cell_type": "code",
   "execution_count": 56,
   "id": "d09fc6bc",
   "metadata": {},
   "outputs": [
    {
     "name": "stdout",
     "output_type": "stream",
     "text": [
      "Paso: 0, x: 1, y: 1, g: -\n",
      "Paso: 1, x: 2, y: 5, g: 1\n",
      "Paso: 2, x: 5, y: 677, g: 1\n",
      "Paso: 3, x: 26, y: 5603, g: 1\n",
      "Paso: 4, x: 677, y: 11539, g: 1\n",
      "Paso: 5, x: 26274, y: 30672, g: 1\n",
      "Paso: 6, x: 5603, y: 12599, g: 53\n",
      "g: 53\n",
      "Iteraciones necesarias 6\n",
      "[2, 2, 2, 2, 2, 3, 3, 5, 53, 1019]\n",
      "11\n"
     ]
    }
   ],
   "source": [
    "#itotal = 0\n",
    "g, i = rho_polar(m, 1, 100)\n",
    "factores.append(g)\n",
    "m = m//g\n",
    "itotal = itotal + i\n",
    "\n",
    "factores.append(m)\n",
    "print(factores)\n",
    "print(itotal)"
   ]
  },
  {
   "cell_type": "code",
   "execution_count": 57,
   "id": "3ffd09a9",
   "metadata": {},
   "outputs": [
    {
     "name": "stdout",
     "output_type": "stream",
     "text": [
      "OK\n"
     ]
    }
   ],
   "source": [
    "acu = 1\n",
    "for pr in factores:\n",
    "    acu = acu*pr\n",
    "\n",
    "if acu == (p-1):\n",
    "    print(\"OK\")"
   ]
  },
  {
   "cell_type": "code",
   "execution_count": 59,
   "id": "bb78eebe",
   "metadata": {},
   "outputs": [
    {
     "name": "stdout",
     "output_type": "stream",
     "text": [
      "[2, 2, 2, 2, 2, 3, 3, 5, 53, 1019]\n",
      "[2, 3, 5, 53, 1019]\n",
      "1\n",
      "test fermat: 1\n",
      "1^(p-1)/ 2 = 1 mod p\n",
      "1^(p-1)/ 3 = 1 mod p\n",
      "1^(p-1)/ 5 = 1 mod p\n",
      "1^(p-1)/ 53 = 1 mod p\n",
      "1^(p-1)/ 1019 = 1 mod p\n",
      "2\n",
      "test fermat: 1\n",
      "2^(p-1)/ 2 = 1 mod p\n",
      "2^(p-1)/ 3 = 19635892 mod p\n",
      "2^(p-1)/ 5 = 1 mod p\n",
      "2^(p-1)/ 53 = 66308477 mod p\n",
      "2^(p-1)/ 1019 = 51905151 mod p\n",
      "3\n",
      "test fermat: 1\n",
      "3^(p-1)/ 2 = 1 mod p\n",
      "3^(p-1)/ 3 = 58134188 mod p\n",
      "3^(p-1)/ 5 = 77424475 mod p\n",
      "3^(p-1)/ 53 = 38633269 mod p\n",
      "3^(p-1)/ 1019 = 30239188 mod p\n",
      "4\n",
      "test fermat: 1\n",
      "4^(p-1)/ 2 = 1 mod p\n",
      "4^(p-1)/ 3 = 58134188 mod p\n",
      "4^(p-1)/ 5 = 1 mod p\n",
      "4^(p-1)/ 53 = 898507 mod p\n",
      "4^(p-1)/ 1019 = 35425890 mod p\n",
      "5\n",
      "test fermat: 1\n",
      "5^(p-1)/ 2 = 1 mod p\n",
      "5^(p-1)/ 3 = 1 mod p\n",
      "5^(p-1)/ 5 = 1 mod p\n",
      "5^(p-1)/ 53 = 32102390 mod p\n",
      "5^(p-1)/ 1019 = 58752468 mod p\n",
      "6\n",
      "test fermat: 1\n",
      "6^(p-1)/ 2 = 1 mod p\n",
      "6^(p-1)/ 3 = 1 mod p\n",
      "6^(p-1)/ 5 = 77424475 mod p\n",
      "6^(p-1)/ 53 = 46375981 mod p\n",
      "6^(p-1)/ 1019 = 1440970 mod p\n",
      "7\n",
      "test fermat: 1\n",
      "7^(p-1)/ 2 = 1 mod p\n",
      "7^(p-1)/ 3 = 19635892 mod p\n",
      "7^(p-1)/ 5 = 26472647 mod p\n",
      "7^(p-1)/ 53 = 23657361 mod p\n",
      "7^(p-1)/ 1019 = 17963547 mod p\n",
      "8\n",
      "test fermat: 1\n",
      "8^(p-1)/ 2 = 1 mod p\n",
      "8^(p-1)/ 3 = 1 mod p\n",
      "8^(p-1)/ 5 = 1 mod p\n",
      "8^(p-1)/ 53 = 60470873 mod p\n",
      "8^(p-1)/ 1019 = 18085434 mod p\n",
      "9\n",
      "test fermat: 1\n",
      "9^(p-1)/ 2 = 1 mod p\n",
      "9^(p-1)/ 3 = 19635892 mod p\n",
      "9^(p-1)/ 5 = 66432901 mod p\n",
      "9^(p-1)/ 53 = 64599758 mod p\n",
      "9^(p-1)/ 1019 = 10633980 mod p\n",
      "10\n",
      "test fermat: 1\n",
      "10^(p-1)/ 2 = 1 mod p\n",
      "10^(p-1)/ 3 = 19635892 mod p\n",
      "10^(p-1)/ 5 = 1 mod p\n",
      "10^(p-1)/ 53 = 70122749 mod p\n",
      "10^(p-1)/ 1019 = 77143975 mod p\n",
      "11\n",
      "test fermat: 1\n",
      "11^(p-1)/ 2 = 1 mod p\n",
      "11^(p-1)/ 3 = 58134188 mod p\n",
      "11^(p-1)/ 5 = 26472647 mod p\n",
      "11^(p-1)/ 53 = 23657361 mod p\n",
      "11^(p-1)/ 1019 = 16330631 mod p\n",
      "12\n",
      "test fermat: 1\n",
      "12^(p-1)/ 2 = 1 mod p\n",
      "12^(p-1)/ 3 = 19635892 mod p\n",
      "12^(p-1)/ 5 = 77424475 mod p\n",
      "12^(p-1)/ 53 = 53595519 mod p\n",
      "12^(p-1)/ 1019 = 23206421 mod p\n",
      "13\n",
      "test fermat: 1\n",
      "13^(p-1)/ 2 = 1 mod p\n",
      "13^(p-1)/ 3 = 58134188 mod p\n",
      "13^(p-1)/ 5 = 62980219 mod p\n",
      "13^(p-1)/ 53 = 37777953 mod p\n",
      "13^(p-1)/ 1019 = 32831121 mod p\n",
      "14\n",
      "test fermat: 1\n",
      "14^(p-1)/ 2 = 1 mod p\n",
      "14^(p-1)/ 3 = 58134188 mod p\n",
      "14^(p-1)/ 5 = 26472647 mod p\n",
      "14^(p-1)/ 53 = 72235693 mod p\n",
      "14^(p-1)/ 1019 = 31025883 mod p\n",
      "15\n",
      "test fermat: 1\n",
      "15^(p-1)/ 2 = 1 mod p\n",
      "15^(p-1)/ 3 = 58134188 mod p\n",
      "15^(p-1)/ 5 = 77424475 mod p\n",
      "15^(p-1)/ 53 = 22094283 mod p\n",
      "15^(p-1)/ 1019 = 66282898 mod p\n",
      "16\n",
      "test fermat: 1\n",
      "16^(p-1)/ 2 = 1 mod p\n",
      "16^(p-1)/ 3 = 19635892 mod p\n",
      "16^(p-1)/ 5 = 1 mod p\n",
      "16^(p-1)/ 53 = 61388269 mod p\n",
      "16^(p-1)/ 1019 = 75846551 mod p\n",
      "17\n",
      "test fermat: 1\n",
      "17^(p-1)/ 2 = 77770080 mod p\n",
      "17^(p-1)/ 3 = 58134188 mod p\n",
      "17^(p-1)/ 5 = 66432901 mod p\n",
      "17^(p-1)/ 53 = 68065795 mod p\n",
      "17^(p-1)/ 1019 = 65224721 mod p\n",
      "18\n",
      "test fermat: 1\n",
      "18^(p-1)/ 2 = 1 mod p\n",
      "18^(p-1)/ 3 = 58134188 mod p\n",
      "18^(p-1)/ 5 = 66432901 mod p\n",
      "18^(p-1)/ 53 = 55235796 mod p\n",
      "18^(p-1)/ 1019 = 41818951 mod p\n",
      "19\n",
      "test fermat: 1\n",
      "19^(p-1)/ 2 = 77770080 mod p\n",
      "19^(p-1)/ 3 = 19635892 mod p\n",
      "19^(p-1)/ 5 = 26472647 mod p\n",
      "19^(p-1)/ 53 = 13713446 mod p\n",
      "19^(p-1)/ 1019 = 75829703 mod p\n"
     ]
    }
   ],
   "source": [
    "print(factores)\n",
    "primos = [2, 3, 5, 53, 1019]\n",
    "print(primos)\n",
    "lucas_lehmer(p, primos, 20)"
   ]
  },
  {
   "cell_type": "code",
   "execution_count": null,
   "id": "71e5d40d",
   "metadata": {},
   "outputs": [],
   "source": []
  },
  {
   "cell_type": "code",
   "execution_count": null,
   "id": "51053738",
   "metadata": {},
   "outputs": [],
   "source": []
  },
  {
   "cell_type": "markdown",
   "id": "d8edb7c8",
   "metadata": {},
   "source": [
    "**ii) Usa una de esas soluciones para factorizar el ideal principal, (p) =(p,n+$\\sqrt{-11}$)(p,n+$\\sqrt{-11}$) como producto de dos ideales.**"
   ]
  },
  {
   "cell_type": "code",
   "execution_count": null,
   "id": "7700d9f6",
   "metadata": {},
   "outputs": [],
   "source": []
  },
  {
   "cell_type": "code",
   "execution_count": null,
   "id": "d86ab5d3",
   "metadata": {},
   "outputs": [],
   "source": []
  },
  {
   "cell_type": "code",
   "execution_count": null,
   "id": "3c7e660d",
   "metadata": {},
   "outputs": [],
   "source": []
  },
  {
   "cell_type": "markdown",
   "id": "269589a0",
   "metadata": {},
   "source": [
    "**iii) Aplica el algoritmo de Cornachia- Smith modificado a 2p y n para encontrar una solucíón a la ecuación diofántica $4p =x^2 + 11y^2$ y la usas para encontrar una factorización de p en a.e. del cuerpo $\\mathbb{Q}(\\sqrt{-11})$.**"
   ]
  },
  {
   "cell_type": "code",
   "execution_count": null,
   "id": "b7832247",
   "metadata": {},
   "outputs": [],
   "source": []
  },
  {
   "cell_type": "code",
   "execution_count": null,
   "id": "bd9dcd65",
   "metadata": {},
   "outputs": [],
   "source": []
  },
  {
   "cell_type": "code",
   "execution_count": null,
   "id": "077ff24f",
   "metadata": {},
   "outputs": [],
   "source": []
  },
  {
   "cell_type": "markdown",
   "id": "75ba8c4f",
   "metadata": {},
   "source": [
    "**iv) ¿ Son principales tus ideales (p,n+$\\sqrt{-11}$)(p,n+$\\sqrt{-11}$)**"
   ]
  },
  {
   "cell_type": "code",
   "execution_count": null,
   "id": "b8b5340c",
   "metadata": {},
   "outputs": [],
   "source": []
  },
  {
   "cell_type": "code",
   "execution_count": null,
   "id": "5918024d",
   "metadata": {},
   "outputs": [],
   "source": []
  },
  {
   "cell_type": "code",
   "execution_count": null,
   "id": "6415aa83",
   "metadata": {},
   "outputs": [],
   "source": []
  }
 ],
 "metadata": {
  "kernelspec": {
   "display_name": "Python 3 (ipykernel)",
   "language": "python",
   "name": "python3"
  },
  "language_info": {
   "codemirror_mode": {
    "name": "ipython",
    "version": 3
   },
   "file_extension": ".py",
   "mimetype": "text/x-python",
   "name": "python",
   "nbconvert_exporter": "python",
   "pygments_lexer": "ipython3",
   "version": "3.8.8"
  }
 },
 "nbformat": 4,
 "nbformat_minor": 5
}
