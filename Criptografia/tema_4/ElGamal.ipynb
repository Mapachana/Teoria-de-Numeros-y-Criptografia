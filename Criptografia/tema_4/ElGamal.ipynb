{
 "cells": [
  {
   "cell_type": "markdown",
   "metadata": {},
   "source": [
    "# Ejercicio 4"
   ]
  },
  {
   "cell_type": "markdown",
   "metadata": {},
   "source": [
    "**Los parámetros de un criptosistema de ElGamal son p = 211 y g = 3, es decir, el criptosistema está diseñado en el cuerpo $F_{211}$ = $Z_{211}$ y tomamos como generador de $F^*_{211}$ , g = 3. La clave pública empleada es $3^a = 109 \\mod 211$. Descifra el criptograma (154, dni mod 211), donde dni es el número de tu DNI. Para calcular los logaritmos discretos necesarios emplea dos de los métodos descritos en la teoría.**"
   ]
  },
  {
   "cell_type": "code",
   "execution_count": 1,
   "metadata": {},
   "outputs": [],
   "source": [
    "p = 211\n",
    "g = 3\n",
    "clave_publica = 109"
   ]
  },
  {
   "cell_type": "markdown",
   "metadata": {},
   "source": [
    "Comenzamos calculando a. Para ello, vamos a usar dos implementaciones distintas del logaritmo:"
   ]
  },
  {
   "cell_type": "markdown",
   "metadata": {},
   "source": [
    "## Paso de bebé - paso de gigante"
   ]
  },
  {
   "cell_type": "markdown",
   "metadata": {},
   "source": [
    "Comenzamos calculando f como $f=\\lceil\\sqrt{p-1}\\rceil=\\lceil\\sqrt{210}\\rceil=15$"
   ]
  },
  {
   "cell_type": "code",
   "execution_count": 2,
   "metadata": {},
   "outputs": [
    {
     "name": "stdout",
     "output_type": "stream",
     "text": [
      "15\n"
     ]
    }
   ],
   "source": [
    "f = ceil(sqrt(p-1)) # floor o ceil????\n",
    "print(f)"
   ]
  },
  {
   "cell_type": "markdown",
   "metadata": {},
   "source": [
    "Ahora calculamos la tabla, obteniendo [[0, 1], [1, 3], [2, 9], [3, 27], [4, 81], [5, 32], [6, 96], [7, 77], [8, 20], [9, 60], [10, 180], [11, 118], [12, 143], [13, 7], [14, 21]]\n",
    "."
   ]
  },
  {
   "cell_type": "code",
   "execution_count": 3,
   "metadata": {},
   "outputs": [
    {
     "name": "stdout",
     "output_type": "stream",
     "text": [
      "[[0, 1], [1, 3], [2, 9], [3, 27], [4, 81], [5, 32], [6, 96], [7, 77], [8, 20], [9, 60], [10, 180], [11, 118], [12, 143], [13, 7], [14, 21]]\n"
     ]
    }
   ],
   "source": [
    "table = []\n",
    "\n",
    "for i in range(0, f):\n",
    "    table.append([i, power_mod(g,i,p)])\n",
    "print(table)"
   ]
  },
  {
   "cell_type": "markdown",
   "metadata": {},
   "source": [
    "Calculamos $g^{-f}=g^{p-1-f}=67$"
   ]
  },
  {
   "cell_type": "code",
   "execution_count": 4,
   "metadata": {},
   "outputs": [
    {
     "name": "stdout",
     "output_type": "stream",
     "text": [
      "67\n"
     ]
    }
   ],
   "source": [
    "bf=power_mod(g,p-1-f,p)\n",
    "print(bf)"
   ]
  },
  {
   "cell_type": "code",
   "execution_count": 5,
   "metadata": {},
   "outputs": [
    {
     "name": "stdout",
     "output_type": "stream",
     "text": [
      "96\n",
      "6\n",
      "6\n",
      "[6, 96]\n",
      "96\n"
     ]
    }
   ],
   "source": [
    "h = clave_publica\n",
    "encontrado = False\n",
    "\n",
    "for i in range(0,f):\n",
    "    for j in range(0,f):\n",
    "        if h ==table[j][1]:\n",
    "            print(h)\n",
    "            print(i)\n",
    "            print(j)\n",
    "            print(table[j])\n",
    "            print((j+i*f))\n",
    "            encontrado = True\n",
    "    if not encontrado:\n",
    "        h = (h*bf).mod(p)\n",
    "    else:\n",
    "        break"
   ]
  },
  {
   "cell_type": "markdown",
   "metadata": {},
   "source": [
    "Como 143 está en la tabla, tenemos $a=j+if=96$"
   ]
  },
  {
   "cell_type": "code",
   "execution_count": 6,
   "metadata": {},
   "outputs": [
    {
     "name": "stdout",
     "output_type": "stream",
     "text": [
      "96\n"
     ]
    }
   ],
   "source": [
    "a=6+6*15\n",
    "print(a)"
   ]
  },
  {
   "cell_type": "code",
   "execution_count": 7,
   "metadata": {},
   "outputs": [
    {
     "data": {
      "text/plain": [
       "True"
      ]
     },
     "execution_count": 7,
     "metadata": {},
     "output_type": "execute_result"
    }
   ],
   "source": [
    "power_mod(g,a,p)==clave_publica"
   ]
  },
  {
   "cell_type": "markdown",
   "metadata": {},
   "source": [
    "## Silver-Pohlig-Hellman"
   ]
  },
  {
   "cell_type": "code",
   "execution_count": 8,
   "metadata": {},
   "outputs": [
    {
     "name": "stdout",
     "output_type": "stream",
     "text": [
      "[(2, 1), (3, 1), (5, 1), (7, 1)]\n"
     ]
    }
   ],
   "source": [
    "p = 211\n",
    "n = p-1\n",
    "b = g\n",
    "\n",
    "factores = list(factor(n))\n",
    "print(factores)\n"
   ]
  },
  {
   "cell_type": "markdown",
   "metadata": {},
   "source": [
    "Comenzamos factorizando $n=p-1=210=2\\cdot 3\\cdot 5\\cdot 7$."
   ]
  },
  {
   "cell_type": "code",
   "execution_count": 9,
   "metadata": {},
   "outputs": [
    {
     "name": "stdout",
     "output_type": "stream",
     "text": [
      "Lista de factores de n = 210: [(2, 1), (3, 1), (5, 1), (7, 1)]\n",
      "\n",
      "Para p_i = 2, obtenemos\n",
      "  r = [1, 210]\n",
      "  y_0^(n / p_i) = 109^210/2= 1\n",
      "  x = [0] = r_0, y = [109]\n",
      "\n",
      "Para p_i = 3, obtenemos\n",
      "  r = [1, 196, 14]\n",
      "  y_0^(n / p_i) = 109^210/3= 1\n",
      "  x = [0] = r_0, y = [109]\n",
      "\n",
      "Para p_i = 5, obtenemos\n",
      "  r = [1, 188, 107, 71, 55]\n",
      "  y_0^(n / p_i) = 109^210/5= 188\n",
      "  x = [1] = r_1, y = [109]\n",
      "\n",
      "Para p_i = 7, obtenemos\n",
      "  r = [1, 171, 123, 144, 148, 199, 58]\n",
      "  y_0^(n / p_i) = 109^210/7= 199\n",
      "  x = [5] = r_5, y = [109]\n",
      "\n",
      "El sistema de congruencias es el siguiente:\n",
      "\tm = 0 mod 2\n",
      "\tm = 0 mod 3\n",
      "\tm = 1 mod 5\n",
      "\tm = 5 mod 7\n",
      "Usando el Teorema Chino del Resto, la solución al sistema que se obtiene es 96\n"
     ]
    }
   ],
   "source": [
    "print(\"Lista de factores de n = \" + str(n) + \": \" + str(factores) + \"\\n\")\n",
    "\n",
    "xs = []\n",
    "ps = []\n",
    "\n",
    "for factorr in factores:\n",
    "    p_i = factorr[0]\n",
    "    e_i = factorr[1]\n",
    "\n",
    "    print(\"Para p_i = \" + str(p_i) + \", obtenemos\")\n",
    "    r = [power_mod(b, (j * n)//p_i, p) for j in range(0, p_i)]\n",
    "\n",
    "    print(\"  r = \" + str(r))\n",
    "\n",
    "    # Inicializar correctamente x e y \n",
    "    y = [clave_publica]\n",
    "    x = []\n",
    "\n",
    "    for j in range(len(r)):\n",
    "        if power_mod(y[0], n // p_i, p) == r[j]: \n",
    "            x.append(j)\n",
    "\n",
    "    print(\"  y_0^(n / p_i) = \" + str(y[0]) + \"^\" + str(n) + \"/\" + str(p_i) + \"= \" + str(power_mod(y[0], n // p_i, p)))\n",
    "    print(\"  x = \" + str(x) + \" = r_\" + str(x[0]) + \", y = \" + str(y))\n",
    "\n",
    "    for k in range(0, e_i):\n",
    "        break\n",
    "        # En este caso, todos los índices son 1, así que voy a hacer la \n",
    "        # guarrería de dejar este bucle vacío. \n",
    "        # Si esto fuera un algoritmo hecho y derecho, haría falta completar \n",
    "        # este bucle \n",
    "\n",
    "    print()\n",
    "\n",
    "    xs.append(x[0])\n",
    "    ps.append(p_i)\n",
    "\n",
    "print(\"El sistema de congruencias es el siguiente:\")\n",
    "\n",
    "for i in range(len(xs)):\n",
    "    print(\"\\tm = \" + str(xs[i]) + \" mod \" + str(ps[i]))\n",
    "\n",
    "solucion = CRT(xs, ps)\n",
    "print(\"Usando el Teorema Chino del Resto, la solución al sistema que se obtiene es \" + str(solucion))\n",
    "\n"
   ]
  },
  {
   "cell_type": "markdown",
   "metadata": {},
   "source": [
    "Luego se obtiene el mismo resultado que en el algoritmo anterior.\n",
    "\n",
    "$m=x0+xipi$"
   ]
  },
  {
   "cell_type": "markdown",
   "metadata": {},
   "source": [
    "## Descifrando el mensaje"
   ]
  },
  {
   "cell_type": "markdown",
   "metadata": {},
   "source": [
    "Tenemos que mi dni es 77770080L, y $77770080 \\mod 211 \\equiv 122$, luego el criptograma a descifrar es (154,122)"
   ]
  },
  {
   "cell_type": "code",
   "execution_count": 10,
   "metadata": {},
   "outputs": [
    {
     "data": {
      "text/plain": [
       "122"
      ]
     },
     "execution_count": 10,
     "metadata": {},
     "output_type": "execute_result"
    }
   ],
   "source": [
    "77770080.mod(211)"
   ]
  },
  {
   "cell_type": "markdown",
   "metadata": {},
   "source": [
    "$D_{a}(x,y)=yx^{-a}$, sustituyento $D_{96}(154,122)=122\\cdot 154^{-96}=193$."
   ]
  },
  {
   "cell_type": "code",
   "execution_count": 18,
   "metadata": {},
   "outputs": [
    {
     "name": "stdout",
     "output_type": "stream",
     "text": [
      "122\n",
      "193\n"
     ]
    }
   ],
   "source": [
    "a = 96\n",
    "dni = 77770080.mod(211)\n",
    "print(dni)\n",
    "\n",
    "print((dni * power_mod(154, p - 1 - a, p)).mod(p))"
   ]
  },
  {
   "cell_type": "code",
   "execution_count": 16,
   "metadata": {},
   "outputs": [
    {
     "data": {
      "text/plain": [
       "193"
      ]
     },
     "execution_count": 16,
     "metadata": {},
     "output_type": "execute_result"
    }
   ],
   "source": [
    "(122*154.powermod(-96,211)).mod(211)"
   ]
  },
  {
   "cell_type": "code",
   "execution_count": 17,
   "metadata": {},
   "outputs": [
    {
     "data": {
      "text/plain": [
       "122"
      ]
     },
     "execution_count": 17,
     "metadata": {},
     "output_type": "execute_result"
    }
   ],
   "source": []
  },
  {
   "cell_type": "code",
   "execution_count": null,
   "metadata": {},
   "outputs": [],
   "source": []
  },
  {
   "cell_type": "code",
   "execution_count": null,
   "metadata": {},
   "outputs": [],
   "source": []
  },
  {
   "cell_type": "code",
   "execution_count": null,
   "metadata": {},
   "outputs": [],
   "source": []
  },
  {
   "cell_type": "code",
   "execution_count": null,
   "metadata": {},
   "outputs": [],
   "source": []
  },
  {
   "cell_type": "code",
   "execution_count": null,
   "metadata": {},
   "outputs": [],
   "source": []
  },
  {
   "cell_type": "code",
   "execution_count": null,
   "metadata": {},
   "outputs": [],
   "source": []
  },
  {
   "cell_type": "code",
   "execution_count": 31,
   "metadata": {},
   "outputs": [
    {
     "name": "stdout",
     "output_type": "stream",
     "text": [
      "[(2, 2), (3, 2), (11, 1)]\n",
      "Lista de factores de n = 396: [(2, 2), (3, 2), (11, 1)]\n",
      "\n",
      "Para p_i = 2, obtenemos\n",
      "  r = [1, 396]\n",
      "  y_0^(n / p_i) = 109^396/2= 396\n",
      "  x = [1] = r_1, y = [109]\n",
      "\n",
      "Para p_i = 3, obtenemos\n",
      "  r = [1, 362, 34]\n",
      "  y_0^(n / p_i) = 109^396/3= 362\n",
      "  x = [1] = r_1, y = [109]\n",
      "\n",
      "Para p_i = 11, obtenemos\n",
      "  r = [1, 290, 333, 99, 126, 16, 273, 167, 393, 31, 256]\n",
      "  y_0^(n / p_i) = 109^396/11= 273\n",
      "  x = [6] = r_6, y = [109]\n",
      "\n",
      "El sistema de congruencias es el siguiente:\n",
      "\tm = 1 mod 2\n",
      "\tm = 1 mod 3\n",
      "\tm = 6 mod 11\n",
      "Usando el Teorema Chino del Resto, la solución al sistema que se obtiene es 61\n"
     ]
    }
   ],
   "source": [
    "# datos ejemplo\n",
    "p = 397\n",
    "n = p-1\n",
    "b = 5\n",
    "\n",
    "factores = list(factor(n))\n",
    "print(factores)\n",
    "\n",
    "print(\"Lista de factores de n = \" + str(n) + \": \" + str(factores) + \"\\n\")\n",
    "\n",
    "xs = []\n",
    "ps = []\n",
    "\n",
    "for factorr in factores:\n",
    "    p_i = factorr[0]\n",
    "    e_i = factorr[1]\n",
    "\n",
    "    print(\"Para p_i = \" + str(p_i) + \", obtenemos\")\n",
    "    r = [power_mod(b, (j * n)//p_i, p) for j in range(0, p_i)]\n",
    "\n",
    "    print(\"  r = \" + str(r))\n",
    "\n",
    "    # Inicializar correctamente x e y \n",
    "    y = [clave_publica]\n",
    "    x = []\n",
    "\n",
    "    for j in range(len(r)):\n",
    "        if power_mod(y[0], n // p_i, p) == r[j]: \n",
    "            x.append(j)\n",
    "\n",
    "    print(\"  y_0^(n / p_i) = \" + str(y[0]) + \"^\" + str(n) + \"/\" + str(p_i) + \"= \" + str(power_mod(y[0], n // p_i, p)))\n",
    "    print(\"  x = \" + str(x) + \" = r_\" + str(x[0]) + \", y = \" + str(y))\n",
    "\n",
    "    for k in range(0, e_i):\n",
    "        break\n",
    "        # En este caso, todos los índices son 1, así que voy a hacer la \n",
    "        # guarrería de dejar este bucle vacío. \n",
    "        # Si esto fuera un algoritmo hecho y derecho, haría falta completar \n",
    "        # este bucle \n",
    "\n",
    "    print()\n",
    "\n",
    "    xs.append(x[0])\n",
    "    ps.append(p_i)\n",
    "\n",
    "print(\"El sistema de congruencias es el siguiente:\")\n",
    "\n",
    "for i in range(len(xs)):\n",
    "    print(\"\\tm = \" + str(xs[i]) + \" mod \" + str(ps[i]))\n",
    "\n",
    "solucion = CRT(xs, ps)\n",
    "print(\"Usando el Teorema Chino del Resto, la solución al sistema que se obtiene es \" + str(solucion))\n",
    "\n"
   ]
  },
  {
   "cell_type": "code",
   "execution_count": 17,
   "metadata": {},
   "outputs": [],
   "source": []
  },
  {
   "cell_type": "code",
   "execution_count": 15,
   "metadata": {},
   "outputs": [],
   "source": []
  },
  {
   "cell_type": "code",
   "execution_count": null,
   "metadata": {},
   "outputs": [],
   "source": []
  }
 ],
 "metadata": {
  "kernelspec": {
   "display_name": "SageMath 9.1",
   "language": "sage",
   "name": "sagemath"
  },
  "language_info": {
   "codemirror_mode": {
    "name": "ipython",
    "version": 3
   },
   "file_extension": ".py",
   "mimetype": "text/x-python",
   "name": "python",
   "nbconvert_exporter": "python",
   "pygments_lexer": "ipython3",
   "version": "3.7.3"
  }
 },
 "nbformat": 4,
 "nbformat_minor": 2
}
