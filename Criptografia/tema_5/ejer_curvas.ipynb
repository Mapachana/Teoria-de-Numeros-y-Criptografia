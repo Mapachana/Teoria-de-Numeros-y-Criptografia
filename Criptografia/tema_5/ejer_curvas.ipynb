{
 "cells": [
  {
   "cell_type": "markdown",
   "metadata": {},
   "source": [
    "# Ejercicio curvas\n",
    "\n",
    "> Por Mapachana"
   ]
  },
  {
   "cell_type": "code",
   "execution_count": 3,
   "metadata": {},
   "outputs": [
    {
     "name": "stdout",
     "output_type": "stream",
     "text": [
      "77770080\n"
     ]
    }
   ],
   "source": [
    "dni = 77770080\n",
    "print(dni)"
   ]
  },
  {
   "cell_type": "code",
   "execution_count": 4,
   "metadata": {},
   "outputs": [
    {
     "data": {
      "text/plain": [
       "0"
      ]
     },
     "execution_count": 4,
     "metadata": {},
     "output_type": "execute_result"
    }
   ],
   "source": [
    "dni % 32"
   ]
  },
  {
   "cell_type": "code",
   "execution_count": 5,
   "metadata": {},
   "outputs": [
    {
     "data": {
      "text/plain": [
       "2430315"
      ]
     },
     "execution_count": 5,
     "metadata": {},
     "output_type": "execute_result"
    }
   ],
   "source": [
    "dni/32"
   ]
  },
  {
   "cell_type": "markdown",
   "metadata": {},
   "source": [
    "Mi dni es 77770080, luego tenemos que $77770080 \\mod 32 \\equiv 0$, por lo que de acuerdo al cuadro 6.1 la curva elíptica con la que vamos a trabajar es $E(\\xi^3, \\xi)$ y el punto $Q=(\\xi^4+\\xi+1, \\xi^4+\\xi^2+\\xi)$."
   ]
  },
  {
   "cell_type": "code",
   "execution_count": 6,
   "metadata": {},
   "outputs": [],
   "source": [
    "F.<xi> = GF(2^5, modulus=GF(2)[x](x^5 + x^2 + 1))"
   ]
  },
  {
   "cell_type": "code",
   "execution_count": 7,
   "metadata": {},
   "outputs": [
    {
     "name": "stdout",
     "output_type": "stream",
     "text": [
      "Elliptic Curve defined by y^2 + x*y = x^3 + xi^3*x^2 + xi over Finite Field in xi of size 2^5\n"
     ]
    }
   ],
   "source": [
    "E=EllipticCurve(F,[1,xi^3,0,0,xi])\n",
    "print(E)"
   ]
  },
  {
   "cell_type": "code",
   "execution_count": 8,
   "metadata": {},
   "outputs": [],
   "source": [
    "Q=E.point((xi^4+xi+1,xi^4+xi^2+xi))"
   ]
  },
  {
   "cell_type": "markdown",
   "metadata": {},
   "source": [
    "## Apartado 1"
   ]
  },
  {
   "cell_type": "markdown",
   "metadata": {},
   "source": [
    "Vamos a usar el algoritmo de Shank.\n",
    "\n",
    "Comenzamos calculando las potencias ed $\\xi$ en base $\\xi^5+\\xi^2+1$.\n",
    "\n",
    "COPIAR LAS POTENCIAS DEL PDF DE WUOLAH\n",
    "\n",
    "Tenemos entonces que $E(\\xi^3, \\xi)=E(\\xi^3, \\xi)$ y el punto $Q=(\\xi^4+\\xi+1, \\xi^4+\\xi^2+\\xi)=(\\xi^{17}, \\xi^{28})$.\n",
    "\n",
    "Acotamos $|E| \\leq q+1+\\lfloor 2\\sqrt{q}\\rfloor = 32+1+\\lfloor 2\\sqrt{32}\\rfloor = 44$.\n",
    "\n",
    "Luego $f=\\lceil \\sqrt{44} \\rceil = 7$."
   ]
  },
  {
   "cell_type": "code",
   "execution_count": 9,
   "metadata": {},
   "outputs": [
    {
     "name": "stdout",
     "output_type": "stream",
     "text": [
      "44\n"
     ]
    },
    {
     "data": {
      "text/plain": [
       "7"
      ]
     },
     "execution_count": 9,
     "metadata": {},
     "output_type": "execute_result"
    }
   ],
   "source": [
    "q = 32\n",
    "\n",
    "print(q+1+floor(2*sqrt(q)))\n",
    "\n",
    "ceil(sqrt(44))"
   ]
  },
  {
   "cell_type": "markdown",
   "metadata": {},
   "source": [
    "Calculamos ahora:\n",
    "\n",
    "$2Q=Q+Q=(1,\\xi^4+\\xi^3+\\xi^2+1)$.\n",
    "$3Q=2Q+Q=(\\xi^4+\\xi^2+1, \\xi^4+\\xi^3)$\n",
    "$4Q=3Q+Q=(\\xi+1,\\xi+1)$\n",
    "$5Q=4Q+Q=(\\xi^4+\\xi^3+\\xi^2+\\xi, \\xi^4+\\xi^3+\\xi^2+1)$\n",
    "$6Q=5Q+Q=(\\xi^4+\\xi^3+\\xi, \\xi^3+\\xi)$\n",
    "\n",
    "La tabla está formada por Q, 2Q, 3Q, 4Q, 5Q, 6Q$.\n",
    "\n",
    "\n",
    "Y también:\n",
    "$7Q=6Q+Q=(\\xi^3+\\xi^2, \\xi^3)$\n",
    "$-7Q=(\\xi^3+\\xi^2, \\xi^3)$\n",
    "$2(-7Q)=(\\xi^4+\\xi^2+1, \\xi^4+\\xi^3$\n",
    "\n",
    "Tenemos que $2(-7Q)$ está en la tabla y se corresponde con $3Q$ luego $2(-7Q)=3Q \\Rightarrow \\log_Q O = 17$"
   ]
  },
  {
   "cell_type": "code",
   "execution_count": 11,
   "metadata": {},
   "outputs": [
    {
     "name": "stdout",
     "output_type": "stream",
     "text": [
      "(1 : xi^4 + xi^3 + xi^2 + 1 : 1)\n",
      "(xi^4 + xi^2 + 1 : xi^4 + xi^3 : 1)\n",
      "(xi + 1 : xi + 1 : 1)\n",
      "(xi^4 + xi^3 + xi^2 + xi : xi^4 + xi^3 + xi^2 + xi + 1 : 1)\n",
      "(xi^4 + xi^3 + xi : xi^3 + xi : 1)\n",
      "AAAAAAAAAAAAAAa\n",
      "(xi^3 + xi^2 : xi^3 : 1)\n",
      "(xi^3 + xi^2 : xi^2 : 1)\n",
      "(xi^4 + xi^2 + 1 : xi^4 + xi^3 : 1)\n"
     ]
    }
   ],
   "source": [
    "print(2*Q)\n",
    "print(3*Q)\n",
    "print(4*Q)\n",
    "print(5*Q)\n",
    "print(6*Q)\n",
    "\n",
    "print(\"AAAAAAAAAAAAAAa\")\n",
    "print(7*Q)\n",
    "print(-7*Q)\n",
    "print(2*(-7*Q))"
   ]
  },
  {
   "cell_type": "code",
   "execution_count": 12,
   "metadata": {},
   "outputs": [
    {
     "data": {
      "text/plain": [
       "(0 : 1 : 0)"
      ]
     },
     "execution_count": 12,
     "metadata": {},
     "output_type": "execute_result"
    }
   ],
   "source": [
    "17*Q"
   ]
  },
  {
   "cell_type": "code",
   "execution_count": 13,
   "metadata": {},
   "outputs": [
    {
     "data": {
      "text/plain": [
       "(0 : 1 : 0)"
      ]
     },
     "execution_count": 13,
     "metadata": {},
     "output_type": "execute_result"
    }
   ],
   "source": [
    "E.point(0)"
   ]
  },
  {
   "cell_type": "code",
   "execution_count": null,
   "metadata": {},
   "outputs": [],
   "source": []
  },
  {
   "cell_type": "code",
   "execution_count": null,
   "metadata": {},
   "outputs": [],
   "source": []
  },
  {
   "cell_type": "code",
   "execution_count": null,
   "metadata": {},
   "outputs": [],
   "source": []
  },
  {
   "cell_type": "code",
   "execution_count": null,
   "metadata": {},
   "outputs": [],
   "source": []
  },
  {
   "cell_type": "markdown",
   "metadata": {},
   "source": [
    "## Apartado 2"
   ]
  },
  {
   "cell_type": "markdown",
   "metadata": {},
   "source": [
    "Partimos de nuestra curva elíptica y el punto base asignados.\n",
    "\n",
    "Comenzamos calculando el orden de la curva elíptica, que es $|E|=hn$ con $h$ pequeño y $n$ primo. Tenemos que $|E|=34=2\\cdot 17$ luego $h=2$ y $n=17$."
   ]
  },
  {
   "cell_type": "code",
   "execution_count": 10,
   "metadata": {},
   "outputs": [
    {
     "name": "stdout",
     "output_type": "stream",
     "text": [
      "34\n",
      "2 * 17\n"
     ]
    }
   ],
   "source": [
    "orden = E.order()\n",
    "print(orden)\n",
    "print(orden.factor())\n",
    "n= 17\n",
    "h= 2"
   ]
  },
  {
   "cell_type": "markdown",
   "metadata": {},
   "source": [
    "Ahora, Alice toma un número aleatorio $a$ con $2\\leq a < n$ y calcula $P_a=aQ$ y envía a Bob $P_a$.\n",
    "\n",
    "$$a= 13$$\n",
    "$$P_a=(\\xi+1, 0)$$"
   ]
  },
  {
   "cell_type": "code",
   "execution_count": 26,
   "metadata": {},
   "outputs": [
    {
     "name": "stdout",
     "output_type": "stream",
     "text": [
      "13\n",
      "(xi + 1 : 0 : 1)\n"
     ]
    }
   ],
   "source": [
    "a = randrange(2,n)\n",
    "a = 13 # Lo fijo tras usar una vez el random\n",
    "print(a)\n",
    "pa = a*Q\n",
    "print(pa)"
   ]
  },
  {
   "cell_type": "markdown",
   "metadata": {},
   "source": [
    "Ahora, Bob toma un número aleatorio $b$ con $2\\leq b < n$ y calcula $P_b=bQ$ y envía a Alice $P_b$.\n",
    "También calcula $bP_a$.\n",
    "\n",
    "$$b= 10$$\n",
    "$$P_b=(\\xi^3+\\xi^2, \\xi^2)$$\n",
    "$$bP_a=(\\xi^4+\\xi^3+\\xi, \\xi^4)$$"
   ]
  },
  {
   "cell_type": "code",
   "execution_count": 30,
   "metadata": {},
   "outputs": [
    {
     "name": "stdout",
     "output_type": "stream",
     "text": [
      "10\n",
      "(xi^3 + xi^2 : xi^2 : 1)\n",
      "(xi^4 + xi^3 + xi : xi^4 : 1)\n"
     ]
    }
   ],
   "source": [
    "b = randrange(2,n)\n",
    "b = 10 # Lo fijo tras usar una vez el random\n",
    "print(b)\n",
    "pb = b*Q\n",
    "print(pb)\n",
    "bpa = b*pa\n",
    "print(bpa)"
   ]
  },
  {
   "cell_type": "markdown",
   "metadata": {},
   "source": [
    "Finalmente Alice calcula $aP_b$:\n",
    "$$aP_b=(\\xi^4+\\xi^3+\\xi, \\xi^4)$$"
   ]
  },
  {
   "cell_type": "code",
   "execution_count": 32,
   "metadata": {},
   "outputs": [
    {
     "name": "stdout",
     "output_type": "stream",
     "text": [
      "(xi^4 + xi^3 + xi : xi^4 : 1)\n",
      "CORRECTO\n"
     ]
    }
   ],
   "source": [
    "apb = a*pb\n",
    "print(apb)\n",
    "\n",
    "if(apb == bpa):\n",
    "    print(\"CORRECTO\")"
   ]
  },
  {
   "cell_type": "markdown",
   "metadata": {},
   "source": [
    "La clave compartida es $(ab)Q=aP_b=bP_a=(\\xi^4+\\xi^3+\\xi, \\xi^4)$.\n",
    "La clave privada de Alice es $a$, su clave pública es $P_a$ y, análogamente, la clave privada de Bob es $b$ y su clave pública es $P_b$."
   ]
  },
  {
   "cell_type": "markdown",
   "metadata": {},
   "source": [
    "## Apartado 3"
   ]
  },
  {
   "cell_type": "markdown",
   "metadata": {},
   "source": [
    "Vamos a usar la clave de Alice $a$. Comenzamos seleccionando aleatoriamente $k$ con $2\\leq k < n$.\n",
    "\n",
    "Calculamos $kQ$ y definimos $(x_0,y_0)= k(aQ)$. SI $x_0y_0=0$ tomamos otro $k$.\n",
    "\n",
    "El cifrado es:\n",
    "\n",
    "$$E(m_1,m_2)=(kQ, x_om_1, y_0m_2)$$.\n",
    "\n",
    "En este caso $k=2$, luego tenemos\n",
    "\n",
    "$$kQ=(1,\\xi^4+\\xi^3+\\xi^2+1)$$\n",
    "$$(x_0,y_0)=k(aQ)=2\\cdot(13\\cdot (\\xi^4+\\xi+1, \\xi^4+\\xi^2+\\xi)=(\\xi^3+\\xi^2+\\xi, \\xi^4+\\xi^3+1)$$\n",
    "\n",
    "Esto es válido ya que $x_0\\cdot y_0 = \\xi^3+\\xi$."
   ]
  },
  {
   "cell_type": "code",
   "execution_count": 34,
   "metadata": {},
   "outputs": [
    {
     "name": "stdout",
     "output_type": "stream",
     "text": [
      "2\n"
     ]
    }
   ],
   "source": [
    "k = randrange(2,n)\n",
    "k= 2 # Lo fijo despues de ejecutarlo una vez\n",
    "print(k)"
   ]
  },
  {
   "cell_type": "code",
   "execution_count": 36,
   "metadata": {},
   "outputs": [
    {
     "name": "stdout",
     "output_type": "stream",
     "text": [
      "(1 : xi^4 + xi^3 + xi^2 + 1 : 1)\n"
     ]
    }
   ],
   "source": [
    "print(k*Q)"
   ]
  },
  {
   "cell_type": "code",
   "execution_count": 37,
   "metadata": {},
   "outputs": [
    {
     "name": "stdout",
     "output_type": "stream",
     "text": [
      "(xi^3 + xi^2 + xi : xi^4 + xi^3 + 1 : 1)\n"
     ]
    }
   ],
   "source": [
    "print(k*(a*Q))"
   ]
  },
  {
   "cell_type": "code",
   "execution_count": 38,
   "metadata": {},
   "outputs": [
    {
     "name": "stdout",
     "output_type": "stream",
     "text": [
      "xi^3 + xi\n"
     ]
    }
   ],
   "source": [
    "x0 = xi^3 + xi^2 + xi\n",
    "y0 = xi^4 + xi^3 + 1\n",
    "\n",
    "print(x0*y0)"
   ]
  },
  {
   "cell_type": "markdown",
   "metadata": {},
   "source": [
    "El mensaje a cifrar es $(m_1,m_2)=(\\xi^3+\\xi^2+1,\\xi^4+\\xi^2)$, luego tenemos que:\n",
    "\n",
    "$$E(m_1,m_2)=((1, \\xi^4+\\xi^3+\\xi^2+1), \\xi^3+\\xi^2, \\xi)$$"
   ]
  },
  {
   "cell_type": "code",
   "execution_count": 40,
   "metadata": {},
   "outputs": [],
   "source": [
    "m1 = xi^3+xi^2+1\n",
    "m2 = xi^4+xi^2"
   ]
  },
  {
   "cell_type": "code",
   "execution_count": 41,
   "metadata": {},
   "outputs": [
    {
     "name": "stdout",
     "output_type": "stream",
     "text": [
      "(1 : xi^4 + xi^3 + xi^2 + 1 : 1)\n",
      "xi^3 + xi^2\n",
      "xi\n"
     ]
    }
   ],
   "source": [
    "c0 = k*Q\n",
    "c1 = x0*m1\n",
    "c2 = y0*m2\n",
    "\n",
    "print(c0)\n",
    "print(c1)\n",
    "print(c2)"
   ]
  },
  {
   "cell_type": "markdown",
   "metadata": {},
   "source": [
    "## Apartado 4"
   ]
  },
  {
   "cell_type": "markdown",
   "metadata": {},
   "source": [
    "Para descifrar un criptograma $(C_1, c_2, c_3)$ Alice debe calcular $a(C_1)=a(kQ)=k(aQ)=(x_0,y_0)$ y\n",
    "\n",
    "$$D(C_1,c_2,c_3)=(x_0^{-1}c_2, y_0^{-1}c_3)$$."
   ]
  },
  {
   "cell_type": "code",
   "execution_count": 42,
   "metadata": {},
   "outputs": [
    {
     "name": "stdout",
     "output_type": "stream",
     "text": [
      "(xi^3 + xi^2 + xi : xi^4 + xi^3 + 1 : 1)\n"
     ]
    }
   ],
   "source": [
    "print(a*c0)"
   ]
  },
  {
   "cell_type": "markdown",
   "metadata": {},
   "source": [
    "Tenemos que $a(C_1)=(x_0,y_0)=(\\xi^3+\\xi^2+\\xi, \\xi^4+\\xi^3+1)$.\n",
    "\n",
    "Luego\n",
    "\n",
    "$$D(C_1,c_2,c_3)=(\\xi^3+\\xi^2+1, \\xi^4+\\xi^2)$$."
   ]
  },
  {
   "cell_type": "code",
   "execution_count": 43,
   "metadata": {},
   "outputs": [
    {
     "name": "stdout",
     "output_type": "stream",
     "text": [
      "xi^3 + xi^2 + 1\n",
      "xi^4 + xi^2\n"
     ]
    }
   ],
   "source": [
    "mm1 = (x0)^(-1)*c1\n",
    "mm2 = (y0)^(-1)*c2\n",
    "\n",
    "print(mm1)\n",
    "print(mm2)"
   ]
  },
  {
   "cell_type": "code",
   "execution_count": null,
   "metadata": {},
   "outputs": [],
   "source": []
  }
 ],
 "metadata": {
  "kernelspec": {
   "display_name": "SageMath 9.1",
   "language": "sage",
   "name": "sagemath"
  },
  "language_info": {
   "codemirror_mode": {
    "name": "ipython",
    "version": 3
   },
   "file_extension": ".py",
   "mimetype": "text/x-python",
   "name": "python",
   "nbconvert_exporter": "python",
   "pygments_lexer": "ipython3",
   "version": "3.7.3"
  }
 },
 "nbformat": 4,
 "nbformat_minor": 2
}
