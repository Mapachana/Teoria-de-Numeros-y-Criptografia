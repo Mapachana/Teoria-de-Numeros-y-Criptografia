{
 "cells": [
  {
   "cell_type": "markdown",
   "metadata": {},
   "source": [
    "# Ejercicio RSA\n",
    "\n",
    "> Por Mapachana"
   ]
  },
  {
   "cell_type": "markdown",
   "metadata": {},
   "source": [
    "COnsideramos los bloques $7777$ y $0080$. COmo $0080$ es menor de 1000, rotamos hasta tener $8000$.\n",
    "Sean $p$ y $q$ los siguientes primos a estos números:"
   ]
  },
  {
   "cell_type": "code",
   "execution_count": 1,
   "metadata": {},
   "outputs": [
    {
     "name": "stdout",
     "output_type": "stream",
     "text": [
      "7789\n",
      "8009\n"
     ]
    }
   ],
   "source": [
    "bloq1 = 7777\n",
    "bloq2 = 8000\n",
    "\n",
    "p = next_prime(bloq1)\n",
    "q = next_prime(bloq2)\n",
    "print(p)\n",
    "print(q)"
   ]
  },
  {
   "cell_type": "markdown",
   "metadata": {},
   "source": [
    "$p=7789$ y $q=8009$"
   ]
  },
  {
   "cell_type": "markdown",
   "metadata": {},
   "source": [
    "Definimos $n=pq$ y $e$ el menor primo mayor o igual que $11$ que es primo relativo con $\\varphi(n)$, y $d$ su inverso módulo $\\varphi$"
   ]
  },
  {
   "cell_type": "code",
   "execution_count": 12,
   "metadata": {},
   "outputs": [
    {
     "name": "stdout",
     "output_type": "stream",
     "text": [
      "62382101\n",
      "62366304\n",
      "11\n",
      "11\n",
      "13\n",
      "13\n",
      "17\n",
      "1\n"
     ]
    }
   ],
   "source": [
    "n = p*q\n",
    "print(n)\n",
    "\n",
    "e = 11\n",
    "phi=n+1-(p+q)\n",
    "mcd = e\n",
    "print(phi)\n",
    "\n",
    "while(mcd != 1):\n",
    "    print(e)\n",
    "    mcd = e.gcd(phi)\n",
    "    print(mcd)\n",
    "    e = next_prime(e+1)\n",
    "    \n"
   ]
  },
  {
   "cell_type": "code",
   "execution_count": 14,
   "metadata": {},
   "outputs": [
    {
     "data": {
      "text/plain": [
       "2"
      ]
     },
     "execution_count": 14,
     "metadata": {},
     "output_type": "execute_result"
    }
   ],
   "source": [
    "phi%11\n",
    "phi%13\n",
    "phi%17"
   ]
  },
  {
   "cell_type": "code",
   "execution_count": 15,
   "metadata": {},
   "outputs": [
    {
     "name": "stdout",
     "output_type": "stream",
     "text": [
      "29348849\n",
      "1\n"
     ]
    }
   ],
   "source": [
    "e = 17\n",
    "d = inverse_mod(e,phi)\n",
    "print(d)\n",
    "print((e*d)%phi)"
   ]
  },
  {
   "cell_type": "markdown",
   "metadata": {},
   "source": [
    "Luego tenemos que $e=17$ y $d=29348849$"
   ]
  },
  {
   "cell_type": "markdown",
   "metadata": {},
   "source": [
    "## Apartado 1"
   ]
  },
  {
   "cell_type": "markdown",
   "metadata": {},
   "source": [
    "**Cifra el mensaje m = 0xCAFE**"
   ]
  },
  {
   "cell_type": "code",
   "execution_count": 17,
   "metadata": {},
   "outputs": [
    {
     "name": "stdout",
     "output_type": "stream",
     "text": [
      "51966\n"
     ]
    }
   ],
   "source": [
    "m = 0xcafe\n",
    "print(m)"
   ]
  },
  {
   "cell_type": "code",
   "execution_count": 23,
   "metadata": {},
   "outputs": [
    {
     "name": "stdout",
     "output_type": "stream",
     "text": [
      "55134016\n",
      "0x3494740\n"
     ]
    }
   ],
   "source": [
    "c = power_mod(m,e,n)\n",
    "print(c)\n",
    "print(hex(c))"
   ]
  },
  {
   "cell_type": "markdown",
   "metadata": {},
   "source": [
    "Calculamos $c=m^e \\mod n$ obteniendo en hexadecimal 0x3494740"
   ]
  },
  {
   "cell_type": "markdown",
   "metadata": {},
   "source": [
    "## Apartado 2"
   ]
  },
  {
   "cell_type": "markdown",
   "metadata": {},
   "source": [
    "**Descifra el criptograma anterior.**"
   ]
  },
  {
   "cell_type": "code",
   "execution_count": 24,
   "metadata": {},
   "outputs": [
    {
     "name": "stdout",
     "output_type": "stream",
     "text": [
      "51966\n",
      "0xcafe\n"
     ]
    }
   ],
   "source": [
    "m2 = power_mod(c,d,n)\n",
    "print(m2)\n",
    "print(hex(m2))"
   ]
  },
  {
   "cell_type": "markdown",
   "metadata": {},
   "source": [
    "Calculamos $m= c^d \\mod n$ obteniendo así 0xcafe, que era el mensaje original."
   ]
  },
  {
   "cell_type": "markdown",
   "metadata": {},
   "source": [
    "## Apartado 3"
   ]
  },
  {
   "cell_type": "markdown",
   "metadata": {},
   "source": [
    "**Intenta factorizar n mediante el método P − 1 de Pollard. Para\n",
    "ello llega, como máximo a b = 8**"
   ]
  },
  {
   "cell_type": "code",
   "execution_count": 28,
   "metadata": {},
   "outputs": [
    {
     "name": "stdout",
     "output_type": "stream",
     "text": [
      "1\n",
      "1\n",
      "\n",
      "2\n",
      "1\n",
      "\n",
      "3\n",
      "1\n",
      "\n",
      "4\n",
      "1\n",
      "\n",
      "5\n",
      "1\n",
      "\n",
      "6\n",
      "1\n",
      "\n",
      "7\n",
      "1\n",
      "\n",
      "8\n",
      "1\n",
      "\n"
     ]
    }
   ],
   "source": [
    "m = 2\n",
    "for b in range(1,9):\n",
    "    print(b)\n",
    "    pot = power_mod(m,factorial(b),n)\n",
    "    print(n.gcd(pot-1))\n",
    "    print(\"\")"
   ]
  },
  {
   "cell_type": "code",
   "execution_count": 33,
   "metadata": {},
   "outputs": [
    {
     "name": "stdout",
     "output_type": "stream",
     "text": [
      "AAAAAAAAAAAAAAAA\n",
      "1\n",
      "1\n",
      "62382101\n",
      "AAAAAAAAAAAAAAAA\n",
      "233\n",
      "3\n",
      "7789\n",
      "AAAAAAAAAAAAAAAA\n",
      "234\n",
      "3\n",
      "7789\n",
      "AAAAAAAAAAAAAAAA\n",
      "279\n",
      "7\n",
      "8009\n",
      "AAAAAAAAAAAAAAAA\n",
      "283\n",
      "4\n",
      "8009\n",
      "AAAAAAAAAAAAAAAA\n",
      "385\n",
      "4\n",
      "7789\n",
      "AAAAAAAAAAAAAAAA\n",
      "488\n",
      "7\n",
      "8009\n",
      "AAAAAAAAAAAAAAAA\n",
      "491\n",
      "7\n",
      "8009\n",
      "AAAAAAAAAAAAAAAA\n",
      "662\n",
      "7\n",
      "8009\n",
      "AAAAAAAAAAAAAAAA\n",
      "811\n",
      "7\n",
      "8009\n",
      "AAAAAAAAAAAAAAAA\n",
      "836\n",
      "7\n",
      "8009\n",
      "AAAAAAAAAAAAAAAA\n",
      "983\n",
      "7\n",
      "8009\n"
     ]
    }
   ],
   "source": [
    "for m in range(1,1000):\n",
    "    for b in range(1,9):\n",
    "        #print(b)\n",
    "        #print(m)\n",
    "        pot = power_mod(m,factorial(b),n)\n",
    "        mcd = n.gcd(pot-1)\n",
    "        #print(mcd)\n",
    "        #print(\"\")\n",
    "        if(mcd != 1):\n",
    "            print(\"AAAAAAAAAAAAAAAA\")\n",
    "            print(m)\n",
    "            print(b)\n",
    "            print(mcd)\n",
    "            break"
   ]
  },
  {
   "cell_type": "code",
   "execution_count": 34,
   "metadata": {},
   "outputs": [
    {
     "name": "stdout",
     "output_type": "stream",
     "text": [
      "233 4221639 3\n",
      "Uno de los factores de n es:\n",
      "7789\n"
     ]
    }
   ],
   "source": [
    "# Comprobacion algoritmo de Juanmi\n",
    "parada=false\n",
    "for i in IntegerRange(5,300):\n",
    "    if i.gcd(n)==1:\n",
    "        m=i\n",
    "        b=1\n",
    "        a=m.powermod(b,n)\n",
    "        if((a-1).gcd(n) !=1):\n",
    "            print (i,a,b)\n",
    "            print ((a-1).gcd(n))\n",
    "            parada=true\n",
    "        if parada==true:\n",
    "            break\n",
    "        for b in [2,3,4,5,6,7,8]:\n",
    "            a=a.powermod(b,n)\n",
    "            if (a-1).gcd(n)!=1:\n",
    "                print(i,a,b)\n",
    "                print('Uno de los factores de n es:') \n",
    "                print((a-1).gcd(n))\n",
    "                parada=true\n",
    "                break\n",
    "        if parada==true:\n",
    "            break"
   ]
  },
  {
   "cell_type": "code",
   "execution_count": 35,
   "metadata": {},
   "outputs": [
    {
     "name": "stdout",
     "output_type": "stream",
     "text": [
      "7789 8009\n",
      "Hemos encotrado la descomposición de n en factores primos.\n"
     ]
    },
    {
     "data": {
      "text/plain": [
       "True"
      ]
     },
     "execution_count": 35,
     "metadata": {},
     "output_type": "execute_result"
    }
   ],
   "source": [
    "factor1=7789\n",
    "factor2=n//factor1\n",
    "print(factor1, factor2)\n",
    "print('Hemos encotrado la descomposición de n en factores primos.')\n",
    "n==factor1*factor2"
   ]
  },
  {
   "cell_type": "markdown",
   "metadata": {},
   "source": [
    "Luego obtenemos que con $m=233$ y $b=3$ tenemos que su mcd es $7789$, que es por tanto uno de los factores de $n$, y el otro es por tanto $8009$."
   ]
  },
  {
   "cell_type": "markdown",
   "metadata": {},
   "source": [
    "## Apartado 4"
   ]
  },
  {
   "cell_type": "markdown",
   "metadata": {},
   "source": [
    "**Intenta factorizar $n$ a partir de $\\varphi(n)$.**"
   ]
  },
  {
   "cell_type": "code",
   "execution_count": 37,
   "metadata": {},
   "outputs": [
    {
     "name": "stdout",
     "output_type": "stream",
     "text": [
      "62366304\n"
     ]
    },
    {
     "data": {
      "text/plain": [
       "62366304"
      ]
     },
     "execution_count": 37,
     "metadata": {},
     "output_type": "execute_result"
    }
   ],
   "source": [
    "print(n+1-(p+q))\n",
    "phi"
   ]
  },
  {
   "cell_type": "markdown",
   "metadata": {},
   "source": [
    "Sabemos que $\\varphi(n)=62366304$, luego consideramos $(x-p)(x-q)=x^2-(p+q)x+n$, como $\\varphi(n)= n+1-(p+q)$ tenemos $(x-p)(x-q)=x^2+(\\varphi(n)-n-1)x+n$, luego p y q son las raices de este polinomio."
   ]
  },
  {
   "cell_type": "code",
   "execution_count": 38,
   "metadata": {},
   "outputs": [
    {
     "data": {
      "text/plain": [
       "[x == 7789, x == 8009]"
      ]
     },
     "execution_count": 38,
     "metadata": {},
     "output_type": "execute_result"
    }
   ],
   "source": [
    "x = var('x')\n",
    "solve(x^2-(n+1-phi)*x+n, x)"
   ]
  },
  {
   "cell_type": "markdown",
   "metadata": {},
   "source": [
    "Al calcular las raíces de este polinomio se obtienen 7789 y 8009 como p y q."
   ]
  },
  {
   "cell_type": "markdown",
   "metadata": {},
   "source": [
    "## Apartado 5"
   ]
  },
  {
   "cell_type": "markdown",
   "metadata": {},
   "source": [
    "**Intenta factorizar n a partir de e y d.**"
   ]
  },
  {
   "cell_type": "markdown",
   "metadata": {},
   "source": [
    "Consideramos $k=ed-1=498930432$"
   ]
  },
  {
   "cell_type": "code",
   "execution_count": 65,
   "metadata": {},
   "outputs": [
    {
     "name": "stdout",
     "output_type": "stream",
     "text": [
      "498930432\n"
     ]
    }
   ],
   "source": [
    "k = e*d-1\n",
    "print(k)"
   ]
  },
  {
   "cell_type": "code",
   "execution_count": 66,
   "metadata": {},
   "outputs": [
    {
     "name": "stdout",
     "output_type": "stream",
     "text": [
      "1 2 498930432 62382101\n",
      "1 3 498930432 62382101\n",
      "1 5 498930432 62382101\n",
      "1 7 498930432 62382101\n",
      "1 11 498930432 62382101\n",
      "1 13 498930432 62382101\n",
      "1 17 498930432 62382101\n",
      "1 19 498930432 62382101\n"
     ]
    }
   ],
   "source": [
    "primos = [2, 3, 5, 7, 11, 13, 17, 19]\n",
    "\n",
    "for a in primos:\n",
    "    print(power_mod(a,k,n), a, k ,n)\n"
   ]
  },
  {
   "cell_type": "markdown",
   "metadata": {},
   "source": [
    "Como $a^k \\equiv 1 \\mod n$ para $a=2,3,5,7,11,13,17,19$ tomamos $k=k/2$."
   ]
  },
  {
   "cell_type": "code",
   "execution_count": 67,
   "metadata": {},
   "outputs": [
    {
     "name": "stdout",
     "output_type": "stream",
     "text": [
      "1 2 249465216 62382101\n",
      "1 3 249465216 62382101\n",
      "1 5 249465216 62382101\n",
      "1 7 249465216 62382101\n",
      "1 11 249465216 62382101\n",
      "1 13 249465216 62382101\n",
      "1 17 249465216 62382101\n",
      "1 19 249465216 62382101\n"
     ]
    }
   ],
   "source": [
    "k = int(k//2)\n",
    "\n",
    "for a in primos:\n",
    "    print(power_mod(a,k,n), a, k ,n)"
   ]
  },
  {
   "cell_type": "markdown",
   "metadata": {},
   "source": [
    "Como $a^k \\equiv 1 \\mod n$ para $a=2,3,5,7,11,13,17,19$ tomamos $k=k/2$."
   ]
  },
  {
   "cell_type": "code",
   "execution_count": 68,
   "metadata": {},
   "outputs": [
    {
     "name": "stdout",
     "output_type": "stream",
     "text": [
      "1 2 124732608 62382101\n",
      "1 3 124732608 62382101\n",
      "1 5 124732608 62382101\n",
      "1 7 124732608 62382101\n",
      "1 11 124732608 62382101\n",
      "1 13 124732608 62382101\n",
      "1 17 124732608 62382101\n",
      "1 19 124732608 62382101\n"
     ]
    }
   ],
   "source": [
    "k = int(k//2)\n",
    "\n",
    "for a in primos:\n",
    "    print(power_mod(a,k,n), a, k ,n)"
   ]
  },
  {
   "cell_type": "markdown",
   "metadata": {},
   "source": [
    "Como $a^k \\equiv 1 \\mod n$ para $a=2,3,5,7,11,13,17,19$ tomamos $k=k/2$."
   ]
  },
  {
   "cell_type": "code",
   "execution_count": 69,
   "metadata": {},
   "outputs": [
    {
     "name": "stdout",
     "output_type": "stream",
     "text": [
      "1 2 62366304 62382101\n",
      "1 3 62366304 62382101\n",
      "1 5 62366304 62382101\n",
      "1 7 62366304 62382101\n",
      "1 11 62366304 62382101\n",
      "1 13 62366304 62382101\n",
      "1 17 62366304 62382101\n",
      "1 19 62366304 62382101\n"
     ]
    }
   ],
   "source": [
    "k = int(k//2)\n",
    "\n",
    "for a in primos:\n",
    "    print(power_mod(a,k,n), a, k ,n)"
   ]
  },
  {
   "cell_type": "markdown",
   "metadata": {},
   "source": [
    "Como $a^k \\equiv 1 \\mod n$ para $a=2,3,5,7,11,13,17,19$ tomamos $k=k/2$."
   ]
  },
  {
   "cell_type": "code",
   "execution_count": 70,
   "metadata": {},
   "outputs": [
    {
     "name": "stdout",
     "output_type": "stream",
     "text": [
      "1 2 31183152 62382101\n",
      "1 3 31183152 62382101\n",
      "1 5 31183152 62382101\n",
      "1 7 31183152 62382101\n",
      "1 11 31183152 62382101\n",
      "1 13 31183152 62382101\n",
      "1 17 31183152 62382101\n",
      "1 19 31183152 62382101\n"
     ]
    }
   ],
   "source": [
    "k = int(k//2)\n",
    "\n",
    "for a in primos:\n",
    "    print(power_mod(a,k,n), a, k ,n)"
   ]
  },
  {
   "cell_type": "markdown",
   "metadata": {},
   "source": [
    "Como $a^k \\equiv 1 \\mod n$ para $a=2,3,5,7,11,13,17,19$ tomamos $k=k/2$."
   ]
  },
  {
   "cell_type": "code",
   "execution_count": 71,
   "metadata": {},
   "outputs": [
    {
     "name": "stdout",
     "output_type": "stream",
     "text": [
      "1 2 15591576 62382101\n",
      "1 3 15591576 62382101\n",
      "1 5 15591576 62382101\n",
      "1 7 15591576 62382101\n",
      "1 11 15591576 62382101\n",
      "1 13 15591576 62382101\n",
      "1 17 15591576 62382101\n",
      "1 19 15591576 62382101\n"
     ]
    }
   ],
   "source": [
    "k = int(k//2)\n",
    "\n",
    "for a in primos:\n",
    "    print(power_mod(a,k,n), a, k ,n)"
   ]
  },
  {
   "cell_type": "markdown",
   "metadata": {},
   "source": [
    "Como $a^k \\equiv 1 \\mod n$ para $a=2,3,5,7,11,13,17,19$ tomamos $k=k/2$."
   ]
  },
  {
   "cell_type": "code",
   "execution_count": 72,
   "metadata": {},
   "outputs": [
    {
     "name": "stdout",
     "output_type": "stream",
     "text": [
      "1 2 7795788 62382101\n",
      "11909382 3 7795788 62382101\n",
      "1 5 7795788 62382101\n",
      "1 7 7795788 62382101\n",
      "1 11 7795788 62382101\n",
      "1 13 7795788 62382101\n",
      "1 17 7795788 62382101\n",
      "11909382 19 7795788 62382101\n"
     ]
    }
   ],
   "source": [
    "k = int(k//2)\n",
    "\n",
    "for a in primos:\n",
    "    print(power_mod(a,k,n), a, k ,n)"
   ]
  },
  {
   "cell_type": "markdown",
   "metadata": {},
   "source": [
    "Como $3^{7795788} \\mod n \\equiv 11909382$ calculamos $(n,3^{7795788}-1)=7789$ y $\\frac{n}{7789}=8009$ son los factores que buscamos."
   ]
  },
  {
   "cell_type": "code",
   "execution_count": 74,
   "metadata": {},
   "outputs": [
    {
     "data": {
      "text/plain": [
       "7789"
      ]
     },
     "execution_count": 74,
     "metadata": {},
     "output_type": "execute_result"
    }
   ],
   "source": [
    "n.gcd(power_mod(3, 7795788,n)-1)"
   ]
  },
  {
   "cell_type": "code",
   "execution_count": 75,
   "metadata": {},
   "outputs": [
    {
     "data": {
      "text/plain": [
       "8009"
      ]
     },
     "execution_count": 75,
     "metadata": {},
     "output_type": "execute_result"
    }
   ],
   "source": [
    "n/7789"
   ]
  },
  {
   "cell_type": "code",
   "execution_count": null,
   "metadata": {},
   "outputs": [],
   "source": []
  }
 ],
 "metadata": {
  "kernelspec": {
   "display_name": "SageMath 9.1",
   "language": "sage",
   "name": "sagemath"
  },
  "language_info": {
   "codemirror_mode": {
    "name": "ipython",
    "version": 3
   },
   "file_extension": ".py",
   "mimetype": "text/x-python",
   "name": "python",
   "nbconvert_exporter": "python",
   "pygments_lexer": "ipython3",
   "version": "3.7.3"
  }
 },
 "nbformat": 4,
 "nbformat_minor": 2
}
